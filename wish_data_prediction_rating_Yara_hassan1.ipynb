{
  "nbformat": 4,
  "nbformat_minor": 0,
  "metadata": {
    "colab": {
      "provenance": []
    },
    "kernelspec": {
      "name": "python3",
      "display_name": "Python 3"
    },
    "language_info": {
      "name": "python"
    }
  },
  "cells": [
    {
      "cell_type": "markdown",
      "source": [
        "**Why Data Mining is a misnomer? What is another preferred name? ** 🧐\n",
        "\n",
        "\n",
        "\n",
        "\n",
        "The term \"data mining\" is a misnomer, because the goal is the extraction of patterns and knowledge from large amounts of data, not the extraction (mining) of data itself. Another prefered names is knowledge discovery from database or knowledge extraction\n",
        "\n",
        "\n"
      ],
      "metadata": {
        "id": "4BfpMQsOLIEY"
      }
    },
    {
      "cell_type": "markdown",
      "source": [],
      "metadata": {
        "id": "emx6hTVjvUGG"
      }
    },
    {
      "cell_type": "markdown",
      "source": [
        "**What is the general knowledge discovery process? What is the difference between a data engineer and data scientist/AI engineer?**   😇\n",
        "\n",
        "\n",
        "KDD refers to the overall process of discovering useful knowledge from data which involves( data selection, data cleaning and preprocessing, data transformation, data mining, pattern evaluation) Data Engineers collect relevant Data. They move and transform this Data into “pipelines” for the Data Science team. Data Scientists analyze, test, aggregate, optimize the data and present it for the company."
      ],
      "metadata": {
        "id": "JVZV2l-YvDYt"
      }
    },
    {
      "cell_type": "markdown",
      "source": [],
      "metadata": {
        "id": "N9JRYKLvv40H"
      }
    },
    {
      "cell_type": "markdown",
      "source": [
        "**In data mining, what is the difference between prediction and categorization?   💡**\n",
        "\n",
        "Classification is to predict categorical class labels( nominal/ discrete) while prediction models continuous-valued functions"
      ],
      "metadata": {
        "id": "drE15UoVv5HM"
      }
    },
    {
      "cell_type": "markdown",
      "source": [],
      "metadata": {
        "id": "L-PmJvybwlek"
      }
    },
    {
      "cell_type": "markdown",
      "source": [
        "**Why data science/machine learning is a bad idea in the context of information security?**\n",
        "• There is no personal privacy • Difficult to verify against compliance • Increased risk of data breach and fine • Responsibility, accountability, liability • Should be part of the risk management framework"
      ],
      "metadata": {
        "id": "c6P1c0Quwlry"
      }
    },
    {
      "cell_type": "markdown",
      "source": [],
      "metadata": {
        "id": "cXZJ4z5Awvvp"
      }
    },
    {
      "cell_type": "markdown",
      "source": [
        "**What is CIA principle and how can we use it to access the security/privacy aspect of the AI system/pipelines?**\n",
        "\n",
        "\n",
        "CIA refers to an information security model made up of the three main components: confidentiality, integrity and availability. Each component represents a fundamental objective of information security. confidentiality is to prevent sensitive information from unauthorized access attempts. Loss of confidentiality may lead to disclosure of personal information, proprietary information and government classified information Integrity and availability involves maintaining the consistency, accuracy and trustworthiness of data over its entire lifecycle. any corruption may lead to unauthorized transactions, wrong execution of software or orruption of data. Availability of information is that it should be consistently and readily accessible for authorized parties which involves properly maintaining hardware and technical infrastructure and systems that hold and display the information. Invailability may result denial of Service or loss of Data"
      ],
      "metadata": {
        "id": "Xy0rqUo0wv2e"
      }
    },
    {
      "cell_type": "markdown",
      "source": [],
      "metadata": {
        "id": "bDSJVj_ExlG8"
      }
    },
    {
      "cell_type": "markdown",
      "source": [
        "\n",
        "\n",
        "\n",
        "                   **Problem** **formulation**  😕🔓\n",
        "\n",
        "\n",
        "\n",
        "This project is about Wish.com Product Rating Prediction.The data is uncleaned with some missing values which need preprocessing.\n",
        "\n",
        "We have 1095 training samples and 480 test sample to predict. We have 34 features. the output is the predicted rating\n",
        "Data mining function required is classfication. We have many challenges as data requires many preprocessing due to the existence of dirty data and also we need\n",
        "\n",
        "\n",
        "our goal is to predict the product ratings given the other features known for a product on Wish.com. Ratings should in categories from 1 to 5. For one product, the higher the rating is, the more the customers like the product.\n",
        "\n",
        "We have many challenges as data requires many preprocessing due to the existence of dirty data and also we need hyperparameter tuning to find out the best paramter that will reults the best performance By predicting the rating wish.com will be able to predict which product will help in improving customer experience and increase their sales so the solution 🔐"
      ],
      "metadata": {
        "id": "ui4IriK1LMl9"
      }
    },
    {
      "cell_type": "code",
      "source": [
        "#load the train data\n",
        "import pandas as pd\n",
        "import numpy as np\n",
        "df = pd.read_csv('/content/train_new.csv') \n",
        "print(df.shape)\n",
        "df"
      ],
      "metadata": {
        "colab": {
          "base_uri": "https://localhost:8080/",
          "height": 696
        },
        "id": "7FYxv0WsLOZE",
        "outputId": "943ea830-61cb-417c-d605-2ddd8ca84077"
      },
      "execution_count": 139,
      "outputs": [
        {
          "output_type": "stream",
          "name": "stdout",
          "text": [
            "(1094, 34)\n"
          ]
        },
        {
          "output_type": "execute_result",
          "data": {
            "text/plain": [
              "      price  retail_price currency_buyer  units_sold  uses_ad_boosts  rating  \\\n",
              "0      8.00             7            EUR       10000               1     4.0   \n",
              "1      8.00             7            EUR        1000               0     4.0   \n",
              "2      6.00            34            EUR         100               0     4.0   \n",
              "3      4.67             4            EUR         100               1     3.0   \n",
              "4      8.00            11            EUR        1000               0     4.0   \n",
              "...     ...           ...            ...         ...             ...     ...   \n",
              "1089   4.00             4            EUR       10000               0     4.0   \n",
              "1090   5.00             5            EUR        1000               0     5.0   \n",
              "1091   9.00            48            EUR        1000               1     4.0   \n",
              "1092  11.00            10            EUR       10000               1     4.0   \n",
              "1093   7.00             6            EUR        1000               1     3.0   \n",
              "\n",
              "      rating_count  badges_count  badge_local_product  badge_product_quality  \\\n",
              "0             1670             0                    0                      0   \n",
              "1              843             1                    1                      0   \n",
              "2               10             0                    0                      0   \n",
              "3               82             0                    0                      0   \n",
              "4              127             0                    0                      0   \n",
              "...            ...           ...                  ...                    ...   \n",
              "1089          2150             0                    0                      0   \n",
              "1090           377             1                    0                      1   \n",
              "1091           135             0                    0                      0   \n",
              "1092          1479             0                    0                      0   \n",
              "1093           141             0                    0                      0   \n",
              "\n",
              "      ...                merchant_name              merchant_info_subtitle  \\\n",
              "0     ...                   keepahorse   88 % avis positifs (66,644 notes)   \n",
              "1     ...                 上海铭启电气科技有限公司   91 % avis positifs (25,752 notes)   \n",
              "2     ...                  zhaodongmei    83 % avis positifs (3,897 notes)   \n",
              "3     ...                   pookie0331    87 % avis positifs (7,497 notes)   \n",
              "4     ...            shitongyi12683626      91 % avis positifs (173 notes)   \n",
              "...   ...                          ...                                 ...   \n",
              "1089  ...               fantastic_tune  92 % avis positifs (230,951 notes)   \n",
              "1090  ...                      zzbllss                       (2,904 notes)   \n",
              "1091  ...                    oiug56465    78 % avis positifs (6,632 notes)   \n",
              "1092  ...                   yubenqiang    83 % avis positifs (5,816 notes)   \n",
              "1093  ...  greatexpectationstechnology   86 % avis positifs (12,309 notes)   \n",
              "\n",
              "     merchant_rating_count merchant_rating               merchant_id  \\\n",
              "0                    66644        4.137582  577fb2b368116418674befd9   \n",
              "1                    25752        4.256873  566a3ef17233ff2686443082   \n",
              "2                     3897        3.928920  5aacd6c1ccf0c83e5a6f3de0   \n",
              "3                     7497        4.079365  583141fbfef4094e51453d9b   \n",
              "4                      173        4.306358  5d3bc9f8e13a7e654424a4cb   \n",
              "...                    ...             ...                       ...   \n",
              "1089                230951        4.311066  53f2db3c104dae6bcae0c271   \n",
              "1090                  2904        4.422521  592968ba63950d682ca4b195   \n",
              "1091                  6632        3.748794  5b6ec2f2838d931d2fbf7a28   \n",
              "1092                  5816        3.936382  58330d7def56284f7634e5e5   \n",
              "1093                 12309        4.045170  5acaf29d5ebcfd72403106a8   \n",
              "\n",
              "     merchant_has_profile_picture  \\\n",
              "0                               1   \n",
              "1                               0   \n",
              "2                               0   \n",
              "3                               0   \n",
              "4                               0   \n",
              "...                           ...   \n",
              "1089                            0   \n",
              "1090                            0   \n",
              "1091                            0   \n",
              "1092                            0   \n",
              "1093                            1   \n",
              "\n",
              "                               merchant_profile_picture   theme  crawl_month  \\\n",
              "0     https://s3-us-west-1.amazonaws.com/sweeper-pro...  summer      2020-08   \n",
              "1                                                   NaN  summer      2020-08   \n",
              "2                                                   NaN  summer      2020-08   \n",
              "3                                                   NaN  summer      2020-08   \n",
              "4                                                   NaN  summer      2020-08   \n",
              "...                                                 ...     ...          ...   \n",
              "1089                                                NaN  summer      2020-08   \n",
              "1090                                                NaN  summer      2020-08   \n",
              "1091                                                NaN  summer      2020-08   \n",
              "1092                                                NaN  summer      2020-08   \n",
              "1093  https://s3-us-west-1.amazonaws.com/sweeper-pro...  summer      2020-08   \n",
              "\n",
              "        id  \n",
              "0      272  \n",
              "1     1515  \n",
              "2      940  \n",
              "3      309  \n",
              "4      226  \n",
              "...    ...  \n",
              "1089  1381  \n",
              "1090   212  \n",
              "1091   163  \n",
              "1092   674  \n",
              "1093  1536  \n",
              "\n",
              "[1094 rows x 34 columns]"
            ],
            "text/html": [
              "\n",
              "  <div id=\"df-37afd787-308e-4301-8e14-ba0db5c596b5\">\n",
              "    <div class=\"colab-df-container\">\n",
              "      <div>\n",
              "<style scoped>\n",
              "    .dataframe tbody tr th:only-of-type {\n",
              "        vertical-align: middle;\n",
              "    }\n",
              "\n",
              "    .dataframe tbody tr th {\n",
              "        vertical-align: top;\n",
              "    }\n",
              "\n",
              "    .dataframe thead th {\n",
              "        text-align: right;\n",
              "    }\n",
              "</style>\n",
              "<table border=\"1\" class=\"dataframe\">\n",
              "  <thead>\n",
              "    <tr style=\"text-align: right;\">\n",
              "      <th></th>\n",
              "      <th>price</th>\n",
              "      <th>retail_price</th>\n",
              "      <th>currency_buyer</th>\n",
              "      <th>units_sold</th>\n",
              "      <th>uses_ad_boosts</th>\n",
              "      <th>rating</th>\n",
              "      <th>rating_count</th>\n",
              "      <th>badges_count</th>\n",
              "      <th>badge_local_product</th>\n",
              "      <th>badge_product_quality</th>\n",
              "      <th>...</th>\n",
              "      <th>merchant_name</th>\n",
              "      <th>merchant_info_subtitle</th>\n",
              "      <th>merchant_rating_count</th>\n",
              "      <th>merchant_rating</th>\n",
              "      <th>merchant_id</th>\n",
              "      <th>merchant_has_profile_picture</th>\n",
              "      <th>merchant_profile_picture</th>\n",
              "      <th>theme</th>\n",
              "      <th>crawl_month</th>\n",
              "      <th>id</th>\n",
              "    </tr>\n",
              "  </thead>\n",
              "  <tbody>\n",
              "    <tr>\n",
              "      <th>0</th>\n",
              "      <td>8.00</td>\n",
              "      <td>7</td>\n",
              "      <td>EUR</td>\n",
              "      <td>10000</td>\n",
              "      <td>1</td>\n",
              "      <td>4.0</td>\n",
              "      <td>1670</td>\n",
              "      <td>0</td>\n",
              "      <td>0</td>\n",
              "      <td>0</td>\n",
              "      <td>...</td>\n",
              "      <td>keepahorse</td>\n",
              "      <td>88 % avis positifs (66,644 notes)</td>\n",
              "      <td>66644</td>\n",
              "      <td>4.137582</td>\n",
              "      <td>577fb2b368116418674befd9</td>\n",
              "      <td>1</td>\n",
              "      <td>https://s3-us-west-1.amazonaws.com/sweeper-pro...</td>\n",
              "      <td>summer</td>\n",
              "      <td>2020-08</td>\n",
              "      <td>272</td>\n",
              "    </tr>\n",
              "    <tr>\n",
              "      <th>1</th>\n",
              "      <td>8.00</td>\n",
              "      <td>7</td>\n",
              "      <td>EUR</td>\n",
              "      <td>1000</td>\n",
              "      <td>0</td>\n",
              "      <td>4.0</td>\n",
              "      <td>843</td>\n",
              "      <td>1</td>\n",
              "      <td>1</td>\n",
              "      <td>0</td>\n",
              "      <td>...</td>\n",
              "      <td>上海铭启电气科技有限公司</td>\n",
              "      <td>91 % avis positifs (25,752 notes)</td>\n",
              "      <td>25752</td>\n",
              "      <td>4.256873</td>\n",
              "      <td>566a3ef17233ff2686443082</td>\n",
              "      <td>0</td>\n",
              "      <td>NaN</td>\n",
              "      <td>summer</td>\n",
              "      <td>2020-08</td>\n",
              "      <td>1515</td>\n",
              "    </tr>\n",
              "    <tr>\n",
              "      <th>2</th>\n",
              "      <td>6.00</td>\n",
              "      <td>34</td>\n",
              "      <td>EUR</td>\n",
              "      <td>100</td>\n",
              "      <td>0</td>\n",
              "      <td>4.0</td>\n",
              "      <td>10</td>\n",
              "      <td>0</td>\n",
              "      <td>0</td>\n",
              "      <td>0</td>\n",
              "      <td>...</td>\n",
              "      <td>zhaodongmei</td>\n",
              "      <td>83 % avis positifs (3,897 notes)</td>\n",
              "      <td>3897</td>\n",
              "      <td>3.928920</td>\n",
              "      <td>5aacd6c1ccf0c83e5a6f3de0</td>\n",
              "      <td>0</td>\n",
              "      <td>NaN</td>\n",
              "      <td>summer</td>\n",
              "      <td>2020-08</td>\n",
              "      <td>940</td>\n",
              "    </tr>\n",
              "    <tr>\n",
              "      <th>3</th>\n",
              "      <td>4.67</td>\n",
              "      <td>4</td>\n",
              "      <td>EUR</td>\n",
              "      <td>100</td>\n",
              "      <td>1</td>\n",
              "      <td>3.0</td>\n",
              "      <td>82</td>\n",
              "      <td>0</td>\n",
              "      <td>0</td>\n",
              "      <td>0</td>\n",
              "      <td>...</td>\n",
              "      <td>pookie0331</td>\n",
              "      <td>87 % avis positifs (7,497 notes)</td>\n",
              "      <td>7497</td>\n",
              "      <td>4.079365</td>\n",
              "      <td>583141fbfef4094e51453d9b</td>\n",
              "      <td>0</td>\n",
              "      <td>NaN</td>\n",
              "      <td>summer</td>\n",
              "      <td>2020-08</td>\n",
              "      <td>309</td>\n",
              "    </tr>\n",
              "    <tr>\n",
              "      <th>4</th>\n",
              "      <td>8.00</td>\n",
              "      <td>11</td>\n",
              "      <td>EUR</td>\n",
              "      <td>1000</td>\n",
              "      <td>0</td>\n",
              "      <td>4.0</td>\n",
              "      <td>127</td>\n",
              "      <td>0</td>\n",
              "      <td>0</td>\n",
              "      <td>0</td>\n",
              "      <td>...</td>\n",
              "      <td>shitongyi12683626</td>\n",
              "      <td>91 % avis positifs (173 notes)</td>\n",
              "      <td>173</td>\n",
              "      <td>4.306358</td>\n",
              "      <td>5d3bc9f8e13a7e654424a4cb</td>\n",
              "      <td>0</td>\n",
              "      <td>NaN</td>\n",
              "      <td>summer</td>\n",
              "      <td>2020-08</td>\n",
              "      <td>226</td>\n",
              "    </tr>\n",
              "    <tr>\n",
              "      <th>...</th>\n",
              "      <td>...</td>\n",
              "      <td>...</td>\n",
              "      <td>...</td>\n",
              "      <td>...</td>\n",
              "      <td>...</td>\n",
              "      <td>...</td>\n",
              "      <td>...</td>\n",
              "      <td>...</td>\n",
              "      <td>...</td>\n",
              "      <td>...</td>\n",
              "      <td>...</td>\n",
              "      <td>...</td>\n",
              "      <td>...</td>\n",
              "      <td>...</td>\n",
              "      <td>...</td>\n",
              "      <td>...</td>\n",
              "      <td>...</td>\n",
              "      <td>...</td>\n",
              "      <td>...</td>\n",
              "      <td>...</td>\n",
              "      <td>...</td>\n",
              "    </tr>\n",
              "    <tr>\n",
              "      <th>1089</th>\n",
              "      <td>4.00</td>\n",
              "      <td>4</td>\n",
              "      <td>EUR</td>\n",
              "      <td>10000</td>\n",
              "      <td>0</td>\n",
              "      <td>4.0</td>\n",
              "      <td>2150</td>\n",
              "      <td>0</td>\n",
              "      <td>0</td>\n",
              "      <td>0</td>\n",
              "      <td>...</td>\n",
              "      <td>fantastic_tune</td>\n",
              "      <td>92 % avis positifs (230,951 notes)</td>\n",
              "      <td>230951</td>\n",
              "      <td>4.311066</td>\n",
              "      <td>53f2db3c104dae6bcae0c271</td>\n",
              "      <td>0</td>\n",
              "      <td>NaN</td>\n",
              "      <td>summer</td>\n",
              "      <td>2020-08</td>\n",
              "      <td>1381</td>\n",
              "    </tr>\n",
              "    <tr>\n",
              "      <th>1090</th>\n",
              "      <td>5.00</td>\n",
              "      <td>5</td>\n",
              "      <td>EUR</td>\n",
              "      <td>1000</td>\n",
              "      <td>0</td>\n",
              "      <td>5.0</td>\n",
              "      <td>377</td>\n",
              "      <td>1</td>\n",
              "      <td>0</td>\n",
              "      <td>1</td>\n",
              "      <td>...</td>\n",
              "      <td>zzbllss</td>\n",
              "      <td>(2,904 notes)</td>\n",
              "      <td>2904</td>\n",
              "      <td>4.422521</td>\n",
              "      <td>592968ba63950d682ca4b195</td>\n",
              "      <td>0</td>\n",
              "      <td>NaN</td>\n",
              "      <td>summer</td>\n",
              "      <td>2020-08</td>\n",
              "      <td>212</td>\n",
              "    </tr>\n",
              "    <tr>\n",
              "      <th>1091</th>\n",
              "      <td>9.00</td>\n",
              "      <td>48</td>\n",
              "      <td>EUR</td>\n",
              "      <td>1000</td>\n",
              "      <td>1</td>\n",
              "      <td>4.0</td>\n",
              "      <td>135</td>\n",
              "      <td>0</td>\n",
              "      <td>0</td>\n",
              "      <td>0</td>\n",
              "      <td>...</td>\n",
              "      <td>oiug56465</td>\n",
              "      <td>78 % avis positifs (6,632 notes)</td>\n",
              "      <td>6632</td>\n",
              "      <td>3.748794</td>\n",
              "      <td>5b6ec2f2838d931d2fbf7a28</td>\n",
              "      <td>0</td>\n",
              "      <td>NaN</td>\n",
              "      <td>summer</td>\n",
              "      <td>2020-08</td>\n",
              "      <td>163</td>\n",
              "    </tr>\n",
              "    <tr>\n",
              "      <th>1092</th>\n",
              "      <td>11.00</td>\n",
              "      <td>10</td>\n",
              "      <td>EUR</td>\n",
              "      <td>10000</td>\n",
              "      <td>1</td>\n",
              "      <td>4.0</td>\n",
              "      <td>1479</td>\n",
              "      <td>0</td>\n",
              "      <td>0</td>\n",
              "      <td>0</td>\n",
              "      <td>...</td>\n",
              "      <td>yubenqiang</td>\n",
              "      <td>83 % avis positifs (5,816 notes)</td>\n",
              "      <td>5816</td>\n",
              "      <td>3.936382</td>\n",
              "      <td>58330d7def56284f7634e5e5</td>\n",
              "      <td>0</td>\n",
              "      <td>NaN</td>\n",
              "      <td>summer</td>\n",
              "      <td>2020-08</td>\n",
              "      <td>674</td>\n",
              "    </tr>\n",
              "    <tr>\n",
              "      <th>1093</th>\n",
              "      <td>7.00</td>\n",
              "      <td>6</td>\n",
              "      <td>EUR</td>\n",
              "      <td>1000</td>\n",
              "      <td>1</td>\n",
              "      <td>3.0</td>\n",
              "      <td>141</td>\n",
              "      <td>0</td>\n",
              "      <td>0</td>\n",
              "      <td>0</td>\n",
              "      <td>...</td>\n",
              "      <td>greatexpectationstechnology</td>\n",
              "      <td>86 % avis positifs (12,309 notes)</td>\n",
              "      <td>12309</td>\n",
              "      <td>4.045170</td>\n",
              "      <td>5acaf29d5ebcfd72403106a8</td>\n",
              "      <td>1</td>\n",
              "      <td>https://s3-us-west-1.amazonaws.com/sweeper-pro...</td>\n",
              "      <td>summer</td>\n",
              "      <td>2020-08</td>\n",
              "      <td>1536</td>\n",
              "    </tr>\n",
              "  </tbody>\n",
              "</table>\n",
              "<p>1094 rows × 34 columns</p>\n",
              "</div>\n",
              "      <button class=\"colab-df-convert\" onclick=\"convertToInteractive('df-37afd787-308e-4301-8e14-ba0db5c596b5')\"\n",
              "              title=\"Convert this dataframe to an interactive table.\"\n",
              "              style=\"display:none;\">\n",
              "        \n",
              "  <svg xmlns=\"http://www.w3.org/2000/svg\" height=\"24px\"viewBox=\"0 0 24 24\"\n",
              "       width=\"24px\">\n",
              "    <path d=\"M0 0h24v24H0V0z\" fill=\"none\"/>\n",
              "    <path d=\"M18.56 5.44l.94 2.06.94-2.06 2.06-.94-2.06-.94-.94-2.06-.94 2.06-2.06.94zm-11 1L8.5 8.5l.94-2.06 2.06-.94-2.06-.94L8.5 2.5l-.94 2.06-2.06.94zm10 10l.94 2.06.94-2.06 2.06-.94-2.06-.94-.94-2.06-.94 2.06-2.06.94z\"/><path d=\"M17.41 7.96l-1.37-1.37c-.4-.4-.92-.59-1.43-.59-.52 0-1.04.2-1.43.59L10.3 9.45l-7.72 7.72c-.78.78-.78 2.05 0 2.83L4 21.41c.39.39.9.59 1.41.59.51 0 1.02-.2 1.41-.59l7.78-7.78 2.81-2.81c.8-.78.8-2.07 0-2.86zM5.41 20L4 18.59l7.72-7.72 1.47 1.35L5.41 20z\"/>\n",
              "  </svg>\n",
              "      </button>\n",
              "      \n",
              "  <style>\n",
              "    .colab-df-container {\n",
              "      display:flex;\n",
              "      flex-wrap:wrap;\n",
              "      gap: 12px;\n",
              "    }\n",
              "\n",
              "    .colab-df-convert {\n",
              "      background-color: #E8F0FE;\n",
              "      border: none;\n",
              "      border-radius: 50%;\n",
              "      cursor: pointer;\n",
              "      display: none;\n",
              "      fill: #1967D2;\n",
              "      height: 32px;\n",
              "      padding: 0 0 0 0;\n",
              "      width: 32px;\n",
              "    }\n",
              "\n",
              "    .colab-df-convert:hover {\n",
              "      background-color: #E2EBFA;\n",
              "      box-shadow: 0px 1px 2px rgba(60, 64, 67, 0.3), 0px 1px 3px 1px rgba(60, 64, 67, 0.15);\n",
              "      fill: #174EA6;\n",
              "    }\n",
              "\n",
              "    [theme=dark] .colab-df-convert {\n",
              "      background-color: #3B4455;\n",
              "      fill: #D2E3FC;\n",
              "    }\n",
              "\n",
              "    [theme=dark] .colab-df-convert:hover {\n",
              "      background-color: #434B5C;\n",
              "      box-shadow: 0px 1px 3px 1px rgba(0, 0, 0, 0.15);\n",
              "      filter: drop-shadow(0px 1px 2px rgba(0, 0, 0, 0.3));\n",
              "      fill: #FFFFFF;\n",
              "    }\n",
              "  </style>\n",
              "\n",
              "      <script>\n",
              "        const buttonEl =\n",
              "          document.querySelector('#df-37afd787-308e-4301-8e14-ba0db5c596b5 button.colab-df-convert');\n",
              "        buttonEl.style.display =\n",
              "          google.colab.kernel.accessAllowed ? 'block' : 'none';\n",
              "\n",
              "        async function convertToInteractive(key) {\n",
              "          const element = document.querySelector('#df-37afd787-308e-4301-8e14-ba0db5c596b5');\n",
              "          const dataTable =\n",
              "            await google.colab.kernel.invokeFunction('convertToInteractive',\n",
              "                                                     [key], {});\n",
              "          if (!dataTable) return;\n",
              "\n",
              "          const docLinkHtml = 'Like what you see? Visit the ' +\n",
              "            '<a target=\"_blank\" href=https://colab.research.google.com/notebooks/data_table.ipynb>data table notebook</a>'\n",
              "            + ' to learn more about interactive tables.';\n",
              "          element.innerHTML = '';\n",
              "          dataTable['output_type'] = 'display_data';\n",
              "          await google.colab.output.renderOutput(dataTable, element);\n",
              "          const docLink = document.createElement('div');\n",
              "          docLink.innerHTML = docLinkHtml;\n",
              "          element.appendChild(docLink);\n",
              "        }\n",
              "      </script>\n",
              "    </div>\n",
              "  </div>\n",
              "  "
            ]
          },
          "metadata": {},
          "execution_count": 139
        }
      ]
    },
    {
      "cell_type": "code",
      "source": [
        "df.dtypes\n"
      ],
      "metadata": {
        "colab": {
          "base_uri": "https://localhost:8080/"
        },
        "id": "zNSG23x3LOav",
        "outputId": "920089ae-f4c7-4e60-e5f8-7c1790b8ad62"
      },
      "execution_count": 140,
      "outputs": [
        {
          "output_type": "execute_result",
          "data": {
            "text/plain": [
              "price                           float64\n",
              "retail_price                      int64\n",
              "currency_buyer                   object\n",
              "units_sold                        int64\n",
              "uses_ad_boosts                    int64\n",
              "rating                          float64\n",
              "rating_count                      int64\n",
              "badges_count                      int64\n",
              "badge_local_product               int64\n",
              "badge_product_quality             int64\n",
              "badge_fast_shipping               int64\n",
              "tags                             object\n",
              "product_color                    object\n",
              "product_variation_size_id        object\n",
              "product_variation_inventory       int64\n",
              "shipping_option_name             object\n",
              "shipping_option_price             int64\n",
              "shipping_is_express               int64\n",
              "countries_shipped_to              int64\n",
              "inventory_total                   int64\n",
              "has_urgency_banner              float64\n",
              "urgency_text                     object\n",
              "origin_country                   object\n",
              "merchant_title                   object\n",
              "merchant_name                    object\n",
              "merchant_info_subtitle           object\n",
              "merchant_rating_count             int64\n",
              "merchant_rating                 float64\n",
              "merchant_id                      object\n",
              "merchant_has_profile_picture      int64\n",
              "merchant_profile_picture         object\n",
              "theme                            object\n",
              "crawl_month                      object\n",
              "id                                int64\n",
              "dtype: object"
            ]
          },
          "metadata": {},
          "execution_count": 140
        }
      ]
    },
    {
      "cell_type": "code",
      "source": [
        "#Converting the rating to range from 1 to 5\n",
        "df=df.loc[df['rating'].isin([1,2,3,4,5])]"
      ],
      "metadata": {
        "id": "fzUARSTZLOd8"
      },
      "execution_count": 141,
      "outputs": []
    },
    {
      "cell_type": "code",
      "source": [
        "id_1= df['id']"
      ],
      "metadata": {
        "id": "8-U7EF7ZLOfe"
      },
      "execution_count": 142,
      "outputs": []
    },
    {
      "cell_type": "code",
      "source": [
        "import matplotlib.pyplot as plt\n",
        "import seaborn as sns"
      ],
      "metadata": {
        "id": "LL1kQLFBa1g_"
      },
      "execution_count": 143,
      "outputs": []
    },
    {
      "cell_type": "code",
      "source": [
        "#visualize the Number of respondents in the location due to product_color\n",
        "sns.barplot(x=df['product_color'].value_counts().index,y=df['product_color'].value_counts().values)\n",
        "\n",
        "plt.xlabel('Location')\n",
        "plt.ylabel('Number of respondents')\n",
        "plt.xticks(rotation=10)\n",
        "plt.title('Viewers location')\n",
        "plt.show()"
      ],
      "metadata": {
        "colab": {
          "base_uri": "https://localhost:8080/",
          "height": 310
        },
        "id": "ANLl6PdIZ59h",
        "outputId": "b0b8e04f-2a96-4613-fb0c-0de28597c6e5"
      },
      "execution_count": 144,
      "outputs": [
        {
          "output_type": "display_data",
          "data": {
            "text/plain": [
              "<Figure size 432x288 with 1 Axes>"
            ],
            "image/png": "[encoded data removed]"
          },
          "metadata": {
            "needs_background": "light"
          }
        }
      ]
    },
    {
      "cell_type": "code",
      "source": [
        "import numpy as np\n",
        "#visualizing the numeric columns \n",
        "df_numeric = df.select_dtypes(include=np.number)\n",
        "df_numeric.columns"
      ],
      "metadata": {
        "colab": {
          "base_uri": "https://localhost:8080/"
        },
        "id": "q3U_xTLZLOjW",
        "outputId": "e26a2e65-683b-4c8c-ac44-5f60cd34031b"
      },
      "execution_count": 145,
      "outputs": [
        {
          "output_type": "execute_result",
          "data": {
            "text/plain": [
              "Index(['price', 'retail_price', 'units_sold', 'uses_ad_boosts', 'rating',\n",
              "       'rating_count', 'badges_count', 'badge_local_product',\n",
              "       'badge_product_quality', 'badge_fast_shipping',\n",
              "       'product_variation_inventory', 'shipping_option_price',\n",
              "       'shipping_is_express', 'countries_shipped_to', 'inventory_total',\n",
              "       'has_urgency_banner', 'merchant_rating_count', 'merchant_rating',\n",
              "       'merchant_has_profile_picture', 'id'],\n",
              "      dtype='object')"
            ]
          },
          "metadata": {},
          "execution_count": 145
        }
      ]
    },
    {
      "cell_type": "code",
      "source": [
        "#visualizing the categorical columns\n",
        "df_categorical = df.select_dtypes(include =['object'])\n",
        "df_categorical.columns"
      ],
      "metadata": {
        "colab": {
          "base_uri": "https://localhost:8080/"
        },
        "id": "qOQpY0MmWh86",
        "outputId": "8e23ea64-9052-4597-a8e3-6f6bf4a07df0"
      },
      "execution_count": 146,
      "outputs": [
        {
          "output_type": "execute_result",
          "data": {
            "text/plain": [
              "Index(['currency_buyer', 'tags', 'product_color', 'product_variation_size_id',\n",
              "       'shipping_option_name', 'urgency_text', 'origin_country',\n",
              "       'merchant_title', 'merchant_name', 'merchant_info_subtitle',\n",
              "       'merchant_id', 'merchant_profile_picture', 'theme', 'crawl_month'],\n",
              "      dtype='object')"
            ]
          },
          "metadata": {},
          "execution_count": 146
        }
      ]
    },
    {
      "cell_type": "code",
      "source": [
        "df['product_color'].value_counts()\n"
      ],
      "metadata": {
        "colab": {
          "base_uri": "https://localhost:8080/"
        },
        "id": "2gf3mOZfWiE8",
        "outputId": "b659dc6a-e4b7-42e6-8c20-37c43c9a7a94"
      },
      "execution_count": 147,
      "outputs": [
        {
          "output_type": "execute_result",
          "data": {
            "text/plain": [
              "black               219\n",
              "white               173\n",
              "blue                 77\n",
              "yellow               69\n",
              "pink                 68\n",
              "green                61\n",
              "red                  61\n",
              "grey                 48\n",
              "purple               37\n",
              "armygreen            22\n",
              "winered              19\n",
              "navyblue             18\n",
              "orange               16\n",
              "multicolor           14\n",
              "khaki                10\n",
              "white & green         8\n",
              "lightblue             8\n",
              "coffee                6\n",
              "gray                  6\n",
              "skyblue               6\n",
              "beige                 5\n",
              "brown                 5\n",
              "rosered               5\n",
              "rose                  4\n",
              "lightpink             4\n",
              "darkblue              4\n",
              "White                 3\n",
              "Black                 3\n",
              "black & green         3\n",
              "black & white         3\n",
              "navy                  3\n",
              "burgundy              2\n",
              "white & black         2\n",
              "coolblack             2\n",
              "Army green            2\n",
              "lightgreen            2\n",
              "floral                2\n",
              "dustypink             2\n",
              "applegreen            2\n",
              "orange-red            2\n",
              "fluorescentgreen      2\n",
              "lightred              2\n",
              "black & blue          2\n",
              "leopard               2\n",
              "navy blue             2\n",
              "pink & black          2\n",
              "whitefloral           2\n",
              "mintgreen             2\n",
              "lakeblue              2\n",
              "pink & white          2\n",
              "camouflage            2\n",
              "black & yellow        2\n",
              "pink & grey           1\n",
              "offwhite              1\n",
              "RED                   1\n",
              "rosegold              1\n",
              "ivory                 1\n",
              "Blue                  1\n",
              "apricot               1\n",
              "winered & yellow      1\n",
              "blackwhite            1\n",
              "nude                  1\n",
              "lightgray             1\n",
              "wine                  1\n",
              "army                  1\n",
              "watermelonred         1\n",
              "denimblue             1\n",
              "camel                 1\n",
              "navyblue & white      1\n",
              "blue & pink           1\n",
              "darkgreen             1\n",
              "violet                1\n",
              "gold                  1\n",
              "lightyellow           1\n",
              "star                  1\n",
              "lightgrey             1\n",
              "leopardprint          1\n",
              "silver                1\n",
              "Pink                  1\n",
              "wine red              1\n",
              "pink & blue           1\n",
              "rainbow               1\n",
              "claret                1\n",
              "whitestripe           1\n",
              "light green           1\n",
              "brown & yellow        1\n",
              "Name: product_color, dtype: int64"
            ]
          },
          "metadata": {},
          "execution_count": 147
        }
      ]
    },
    {
      "cell_type": "code",
      "source": [
        "#visualize numeric data correlation\n",
        "import plotly.express as px\n",
        "fig = px.imshow(df_numeric.corr())\n",
        "fig.show()"
      ],
      "metadata": {
        "colab": {
          "base_uri": "https://localhost:8080/",
          "height": 542
        },
        "id": "sNeEAnfkW41w",
        "outputId": "9d525632-c304-41a1-a8c5-41aa33304fc7"
      },
      "execution_count": 148,
      "outputs": [
        {
          "output_type": "display_data",
          "data": {
            "text/html": [
              "<html>\n",
              "<head><meta charset=\"utf-8\" /></head>\n",
              "<body>\n",
              "    <div>            <script src=\"https://cdnjs.cloudflare.com/ajax/libs/mathjax/2.7.5/MathJax.js?config=TeX-AMS-MML_SVG\"></script><script type=\"text/javascript\">if (window.MathJax && window.MathJax.Hub && window.MathJax.Hub.Config) {window.MathJax.Hub.Config({SVG: {font: \"STIX-Web\"}});}</script>                <script type=\"text/javascript\">window.PlotlyConfig = {MathJaxConfig: 'local'};</script>\n",
              "        <script src=\"https://cdn.plot.ly/plotly-2.18.2.min.js\"></script>                <div id=\"3b74987c-2e11-498c-812e-a7631ff10e40\" class=\"plotly-graph-div\" style=\"height:525px; width:100%;\"></div>            <script type=\"text/javascript\">                                    window.PLOTLYENV=window.PLOTLYENV || {};                                    if (document.getElementById(\"3b74987c-2e11-498c-812e-a7631ff10e40\")) {                    Plotly.newPlot(                        \"3b74987c-2e11-498c-812e-a7631ff10e40\",                        [{\"coloraxis\":\"coloraxis\",\"name\":\"0\",\"x\":[\"price\",\"retail_price\",\"units_sold\",\"uses_ad_boosts\",\"rating\",\"rating_count\",\"badges_count\",\"badge_local_product\",\"badge_product_quality\",\"badge_fast_shipping\",\"product_variation_inventory\",\"shipping_option_price\",\"shipping_is_express\",\"countries_shipped_to\",\"inventory_total\",\"has_urgency_banner\",\"merchant_rating_count\",\"merchant_rating\",\"merchant_has_profile_picture\",\"id\"],\"y\":[\"price\",\"retail_price\",\"units_sold\",\"uses_ad_boosts\",\"rating\",\"rating_count\",\"badges_count\",\"badge_local_product\",\"badge_product_quality\",\"badge_fast_shipping\",\"product_variation_inventory\",\"shipping_option_price\",\"shipping_is_express\",\"countries_shipped_to\",\"inventory_total\",\"has_urgency_banner\",\"merchant_rating_count\",\"merchant_rating\",\"merchant_has_profile_picture\",\"id\"],\"z\":[[1.0,0.33256502584783065,-0.00433244786530616,-0.04760498190654503,0.20552293354073714,0.017297499529642615,0.06624662217624679,0.09471489993454646,0.025938539555519634,0.02733169016631666,0.30105078744751707,0.8772792965193511,0.041495111475326175,-0.036055536020161594,0.001058648410805666,null,-0.024358094399627574,0.06073781136061188,0.03537425103377138,0.02300783781701953],[0.33256502584783065,1.0,0.02796519320457288,-0.005801105357752975,0.08492327455454517,0.0788558389326922,0.02151394341448702,0.029218086455858293,-0.0014867422954146269,0.03718129593572077,0.14376763677594923,0.294522831854499,-0.0177674587233081,0.05072962060427755,0.013175549978185298,null,0.016588401056542246,0.04043891323490119,0.033883987840071975,-0.027597918096980208],[-0.00433244786530616,0.02796519320457288,1.0,-0.018526597548619756,0.013202574883568425,0.8919187823589997,0.04395398951182879,-0.001612372154598911,0.04983107019419147,0.01655751646114131,0.13680413703754865,-0.017083109581487753,-0.01731289294364591,-0.017352313666440904,-0.02112806050338126,null,0.22857684672654946,0.12119413054836979,0.17040607010977854,0.016023159913547858],[-0.04760498190654503,-0.005801105357752975,-0.018526597548619756,1.0,-0.04489406672144563,-0.05103221740162434,0.023059479099389785,0.05262647016210816,-0.009228014488821405,0.03202117136968944,-0.09339712780369648,-0.051215353549746906,0.0058111695454056075,0.014910286713562228,0.0216654027956733,null,0.031213676026190455,0.03514958133367713,0.002200342424000835,0.010528225833975963],[0.20552293354073714,0.08492327455454517,0.013202574883568425,-0.04489406672144563,1.0,0.026880502339825432,0.22796257589799654,0.010341088543339289,0.27616756682724075,0.014243384678807277,0.053251780713231125,0.18211003463448971,-0.00033619324186230225,0.024616694561676557,-0.0697521131075916,null,0.052877543843370095,0.21458908871551557,0.02696272708281809,0.06373787254854188],[0.017297499529642615,0.0788558389326922,0.8919187823589997,-0.05103221740162434,0.026880502339825432,1.0,0.07917683192759417,0.002059376041479207,0.0678571572203031,0.08136624342440744,0.14530010940103122,0.0045785955285489325,-0.013310041712943683,0.0046661138902786255,-0.01630516320350451,null,0.21909638159481995,0.1408742446507388,0.18138142598961704,-0.006667962054229282],[0.06624662217624679,0.02151394341448702,0.04395398951182879,0.023059479099389785,0.22796257589799654,0.07917683192759417,1.0,0.5489846205036819,0.8261890393917888,0.42048264441419936,0.06762357266022304,0.09021498376021501,0.2941086662450108,0.019556587110521242,-0.10031095157835396,null,0.08042151331132671,0.224681234065215,0.04151657225970146,0.04173576019198501],[0.09471489993454646,0.029218086455858293,-0.001612372154598911,0.05262647016210816,0.010341088543339289,0.002059376041479207,0.5489846205036819,1.0,0.07844329475397499,0.30505434478539445,0.0026300777204663296,0.11261335836016344,0.3059076711940392,0.017766318321516907,0.007438183583527188,null,-0.0026278840096560004,0.11927002031990154,-0.023286474296203837,0.02568432524592879],[0.025938539555519634,-0.0014867422954146269,0.04983107019419147,-0.009228014488821405,0.27616756682724075,0.0678571572203031,0.8261890393917888,0.07844329475397499,1.0,2.9076489601753122e-05,0.10243275431262565,0.02457811051425716,0.0645857112966559,0.006387939187768426,-0.13195556033677858,null,0.10994091645908169,0.2032132858570707,0.044284332692419145,0.02777037423610861],[0.02733169016631666,0.03718129593572077,0.01655751646114131,0.03202117136968944,0.014243384678807277,0.08136624342440744,0.42048264441419936,0.30505434478539445,2.9076489601753122e-05,1.0,-0.049574248564843645,0.0872734344877909,0.4063730013092587,0.02486352208170284,0.005599282950933672,null,-0.019883705211696752,0.053224872029314266,0.05168919456000077,0.03169062981548425],[0.30105078744751707,0.14376763677594923,0.13680413703754865,-0.09339712780369648,0.053251780713231125,0.14530010940103122,0.06762357266022304,0.0026300777204663296,0.10243275431262565,-0.049574248564843645,1.0,0.2929092457898449,0.03428682832337997,0.1091425704741642,0.07439698139926088,null,0.07395632717828929,0.13908967344298345,0.023555135476593644,0.005501727423775345],[0.8772792965193511,0.294522831854499,-0.017083109581487753,-0.051215353549746906,0.18211003463448971,0.0045785955285489325,0.09021498376021501,0.11261335836016344,0.02457811051425716,0.0872734344877909,0.2929092457898449,1.0,0.17774439035764114,-0.0586026733232983,0.013261102036658381,null,-0.04058227345733396,0.06992829464239764,0.03502904422594702,0.0055672516970005324],[0.041495111475326175,-0.0177674587233081,-0.01731289294364591,0.0058111695454056075,-0.00033619324186230225,-0.013310041712943683,0.2941086662450108,0.3059076711940392,0.0645857112966559,0.4063730013092587,0.03428682832337997,0.17774439035764114,1.0,0.003213918087930247,0.0022753974179497084,null,-0.01006693829703628,0.0554762609990993,-0.018374952822622557,-0.007537068743913972],[-0.036055536020161594,0.05072962060427755,-0.017352313666440904,0.014910286713562228,0.024616694561676557,0.0046661138902786255,0.019556587110521242,0.017766318321516907,0.006387939187768426,0.02486352208170284,0.1091425704741642,-0.0586026733232983,0.003213918087930247,1.0,0.005659204140106248,null,0.13139634877145895,0.15467049494885607,0.02558990985098186,0.053934731539716174],[0.001058648410805666,0.013175549978185298,-0.02112806050338126,0.0216654027956733,-0.0697521131075916,-0.01630516320350451,-0.10031095157835396,0.007438183583527188,-0.13195556033677858,0.005599282950933672,0.07439698139926088,0.013261102036658381,0.0022753974179497084,0.005659204140106248,1.0,null,0.012947344224960583,-0.06868344827219182,0.022807529673223574,0.009862201820360737],[null,null,null,null,null,null,null,null,null,null,null,null,null,null,null,null,null,null,null,null],[-0.024358094399627574,0.016588401056542246,0.22857684672654946,0.031213676026190455,0.052877543843370095,0.21909638159481995,0.08042151331132671,-0.0026278840096560004,0.10994091645908169,-0.019883705211696752,0.07395632717828929,-0.04058227345733396,-0.01006693829703628,0.13139634877145895,0.012947344224960583,null,1.0,0.13055605984788432,0.11446694181771185,0.01612304171384294],[0.06073781136061188,0.04043891323490119,0.12119413054836979,0.03514958133367713,0.21458908871551557,0.1408742446507388,0.224681234065215,0.11927002031990154,0.2032132858570707,0.053224872029314266,0.13908967344298345,0.06992829464239764,0.0554762609990993,0.15467049494885607,-0.06868344827219182,null,0.13055605984788432,1.0,0.10369631836173275,0.04710343669938205],[0.03537425103377138,0.033883987840071975,0.17040607010977854,0.002200342424000835,0.02696272708281809,0.18138142598961704,0.04151657225970146,-0.023286474296203837,0.044284332692419145,0.05168919456000077,0.023555135476593644,0.03502904422594702,-0.018374952822622557,0.02558990985098186,0.022807529673223574,null,0.11446694181771185,0.10369631836173275,1.0,-0.01668339547745029],[0.02300783781701953,-0.027597918096980208,0.016023159913547858,0.010528225833975963,0.06373787254854188,-0.006667962054229282,0.04173576019198501,0.02568432524592879,0.02777037423610861,0.03169062981548425,0.005501727423775345,0.0055672516970005324,-0.007537068743913972,0.053934731539716174,0.009862201820360737,null,0.01612304171384294,0.04710343669938205,-0.01668339547745029,1.0]],\"type\":\"heatmap\",\"xaxis\":\"x\",\"yaxis\":\"y\",\"hovertemplate\":\"x: %{x}<br>y: %{y}<br>color: %{z}<extra></extra>\"}],                        {\"template\":{\"data\":{\"histogram2dcontour\":[{\"type\":\"histogram2dcontour\",\"colorbar\":{\"outlinewidth\":0,\"ticks\":\"\"},\"colorscale\":[[0.0,\"#0d0887\"],[0.1111111111111111,\"#46039f\"],[0.2222222222222222,\"#7201a8\"],[0.3333333333333333,\"#9c179e\"],[0.4444444444444444,\"#bd3786\"],[0.5555555555555556,\"#d8576b\"],[0.6666666666666666,\"#ed7953\"],[0.7777777777777778,\"#fb9f3a\"],[0.8888888888888888,\"#fdca26\"],[1.0,\"#f0f921\"]]}],\"choropleth\":[{\"type\":\"choropleth\",\"colorbar\":{\"outlinewidth\":0,\"ticks\":\"\"}}],\"histogram2d\":[{\"type\":\"histogram2d\",\"colorbar\":{\"outlinewidth\":0,\"ticks\":\"\"},\"colorscale\":[[0.0,\"#0d0887\"],[0.1111111111111111,\"#46039f\"],[0.2222222222222222,\"#7201a8\"],[0.3333333333333333,\"#9c179e\"],[0.4444444444444444,\"#bd3786\"],[0.5555555555555556,\"#d8576b\"],[0.6666666666666666,\"#ed7953\"],[0.7777777777777778,\"#fb9f3a\"],[0.8888888888888888,\"#fdca26\"],[1.0,\"#f0f921\"]]}],\"heatmap\":[{\"type\":\"heatmap\",\"colorbar\":{\"outlinewidth\":0,\"ticks\":\"\"},\"colorscale\":[[0.0,\"#0d0887\"],[0.1111111111111111,\"#46039f\"],[0.2222222222222222,\"#7201a8\"],[0.3333333333333333,\"#9c179e\"],[0.4444444444444444,\"#bd3786\"],[0.5555555555555556,\"#d8576b\"],[0.6666666666666666,\"#ed7953\"],[0.7777777777777778,\"#fb9f3a\"],[0.8888888888888888,\"#fdca26\"],[1.0,\"#f0f921\"]]}],\"heatmapgl\":[{\"type\":\"heatmapgl\",\"colorbar\":{\"outlinewidth\":0,\"ticks\":\"\"},\"colorscale\":[[0.0,\"#0d0887\"],[0.1111111111111111,\"#46039f\"],[0.2222222222222222,\"#7201a8\"],[0.3333333333333333,\"#9c179e\"],[0.4444444444444444,\"#bd3786\"],[0.5555555555555556,\"#d8576b\"],[0.6666666666666666,\"#ed7953\"],[0.7777777777777778,\"#fb9f3a\"],[0.8888888888888888,\"#fdca26\"],[1.0,\"#f0f921\"]]}],\"contourcarpet\":[{\"type\":\"contourcarpet\",\"colorbar\":{\"outlinewidth\":0,\"ticks\":\"\"}}],\"contour\":[{\"type\":\"contour\",\"colorbar\":{\"outlinewidth\":0,\"ticks\":\"\"},\"colorscale\":[[0.0,\"#0d0887\"],[0.1111111111111111,\"#46039f\"],[0.2222222222222222,\"#7201a8\"],[0.3333333333333333,\"#9c179e\"],[0.4444444444444444,\"#bd3786\"],[0.5555555555555556,\"#d8576b\"],[0.6666666666666666,\"#ed7953\"],[0.7777777777777778,\"#fb9f3a\"],[0.8888888888888888,\"#fdca26\"],[1.0,\"#f0f921\"]]}],\"surface\":[{\"type\":\"surface\",\"colorbar\":{\"outlinewidth\":0,\"ticks\":\"\"},\"colorscale\":[[0.0,\"#0d0887\"],[0.1111111111111111,\"#46039f\"],[0.2222222222222222,\"#7201a8\"],[0.3333333333333333,\"#9c179e\"],[0.4444444444444444,\"#bd3786\"],[0.5555555555555556,\"#d8576b\"],[0.6666666666666666,\"#ed7953\"],[0.7777777777777778,\"#fb9f3a\"],[0.8888888888888888,\"#fdca26\"],[1.0,\"#f0f921\"]]}],\"mesh3d\":[{\"type\":\"mesh3d\",\"colorbar\":{\"outlinewidth\":0,\"ticks\":\"\"}}],\"scatter\":[{\"fillpattern\":{\"fillmode\":\"overlay\",\"size\":10,\"solidity\":0.2},\"type\":\"scatter\"}],\"parcoords\":[{\"type\":\"parcoords\",\"line\":{\"colorbar\":{\"outlinewidth\":0,\"ticks\":\"\"}}}],\"scatterpolargl\":[{\"type\":\"scatterpolargl\",\"marker\":{\"colorbar\":{\"outlinewidth\":0,\"ticks\":\"\"}}}],\"bar\":[{\"error_x\":{\"color\":\"#2a3f5f\"},\"error_y\":{\"color\":\"#2a3f5f\"},\"marker\":{\"line\":{\"color\":\"#E5ECF6\",\"width\":0.5},\"pattern\":{\"fillmode\":\"overlay\",\"size\":10,\"solidity\":0.2}},\"type\":\"bar\"}],\"scattergeo\":[{\"type\":\"scattergeo\",\"marker\":{\"colorbar\":{\"outlinewidth\":0,\"ticks\":\"\"}}}],\"scatterpolar\":[{\"type\":\"scatterpolar\",\"marker\":{\"colorbar\":{\"outlinewidth\":0,\"ticks\":\"\"}}}],\"histogram\":[{\"marker\":{\"pattern\":{\"fillmode\":\"overlay\",\"size\":10,\"solidity\":0.2}},\"type\":\"histogram\"}],\"scattergl\":[{\"type\":\"scattergl\",\"marker\":{\"colorbar\":{\"outlinewidth\":0,\"ticks\":\"\"}}}],\"scatter3d\":[{\"type\":\"scatter3d\",\"line\":{\"colorbar\":{\"outlinewidth\":0,\"ticks\":\"\"}},\"marker\":{\"colorbar\":{\"outlinewidth\":0,\"ticks\":\"\"}}}],\"scattermapbox\":[{\"type\":\"scattermapbox\",\"marker\":{\"colorbar\":{\"outlinewidth\":0,\"ticks\":\"\"}}}],\"scatterternary\":[{\"type\":\"scatterternary\",\"marker\":{\"colorbar\":{\"outlinewidth\":0,\"ticks\":\"\"}}}],\"scattercarpet\":[{\"type\":\"scattercarpet\",\"marker\":{\"colorbar\":{\"outlinewidth\":0,\"ticks\":\"\"}}}],\"carpet\":[{\"aaxis\":{\"endlinecolor\":\"#2a3f5f\",\"gridcolor\":\"white\",\"linecolor\":\"white\",\"minorgridcolor\":\"white\",\"startlinecolor\":\"#2a3f5f\"},\"baxis\":{\"endlinecolor\":\"#2a3f5f\",\"gridcolor\":\"white\",\"linecolor\":\"white\",\"minorgridcolor\":\"white\",\"startlinecolor\":\"#2a3f5f\"},\"type\":\"carpet\"}],\"table\":[{\"cells\":{\"fill\":{\"color\":\"#EBF0F8\"},\"line\":{\"color\":\"white\"}},\"header\":{\"fill\":{\"color\":\"#C8D4E3\"},\"line\":{\"color\":\"white\"}},\"type\":\"table\"}],\"barpolar\":[{\"marker\":{\"line\":{\"color\":\"#E5ECF6\",\"width\":0.5},\"pattern\":{\"fillmode\":\"overlay\",\"size\":10,\"solidity\":0.2}},\"type\":\"barpolar\"}],\"pie\":[{\"automargin\":true,\"type\":\"pie\"}]},\"layout\":{\"autotypenumbers\":\"strict\",\"colorway\":[\"#636efa\",\"#EF553B\",\"#00cc96\",\"#ab63fa\",\"#FFA15A\",\"#19d3f3\",\"#FF6692\",\"#B6E880\",\"#FF97FF\",\"#FECB52\"],\"font\":{\"color\":\"#2a3f5f\"},\"hovermode\":\"closest\",\"hoverlabel\":{\"align\":\"left\"},\"paper_bgcolor\":\"white\",\"plot_bgcolor\":\"#E5ECF6\",\"polar\":{\"bgcolor\":\"#E5ECF6\",\"angularaxis\":{\"gridcolor\":\"white\",\"linecolor\":\"white\",\"ticks\":\"\"},\"radialaxis\":{\"gridcolor\":\"white\",\"linecolor\":\"white\",\"ticks\":\"\"}},\"ternary\":{\"bgcolor\":\"#E5ECF6\",\"aaxis\":{\"gridcolor\":\"white\",\"linecolor\":\"white\",\"ticks\":\"\"},\"baxis\":{\"gridcolor\":\"white\",\"linecolor\":\"white\",\"ticks\":\"\"},\"caxis\":{\"gridcolor\":\"white\",\"linecolor\":\"white\",\"ticks\":\"\"}},\"coloraxis\":{\"colorbar\":{\"outlinewidth\":0,\"ticks\":\"\"}},\"colorscale\":{\"sequential\":[[0.0,\"#0d0887\"],[0.1111111111111111,\"#46039f\"],[0.2222222222222222,\"#7201a8\"],[0.3333333333333333,\"#9c179e\"],[0.4444444444444444,\"#bd3786\"],[0.5555555555555556,\"#d8576b\"],[0.6666666666666666,\"#ed7953\"],[0.7777777777777778,\"#fb9f3a\"],[0.8888888888888888,\"#fdca26\"],[1.0,\"#f0f921\"]],\"sequentialminus\":[[0.0,\"#0d0887\"],[0.1111111111111111,\"#46039f\"],[0.2222222222222222,\"#7201a8\"],[0.3333333333333333,\"#9c179e\"],[0.4444444444444444,\"#bd3786\"],[0.5555555555555556,\"#d8576b\"],[0.6666666666666666,\"#ed7953\"],[0.7777777777777778,\"#fb9f3a\"],[0.8888888888888888,\"#fdca26\"],[1.0,\"#f0f921\"]],\"diverging\":[[0,\"#8e0152\"],[0.1,\"#c51b7d\"],[0.2,\"#de77ae\"],[0.3,\"#f1b6da\"],[0.4,\"#fde0ef\"],[0.5,\"#f7f7f7\"],[0.6,\"#e6f5d0\"],[0.7,\"#b8e186\"],[0.8,\"#7fbc41\"],[0.9,\"#4d9221\"],[1,\"#276419\"]]},\"xaxis\":{\"gridcolor\":\"white\",\"linecolor\":\"white\",\"ticks\":\"\",\"title\":{\"standoff\":15},\"zerolinecolor\":\"white\",\"automargin\":true,\"zerolinewidth\":2},\"yaxis\":{\"gridcolor\":\"white\",\"linecolor\":\"white\",\"ticks\":\"\",\"title\":{\"standoff\":15},\"zerolinecolor\":\"white\",\"automargin\":true,\"zerolinewidth\":2},\"scene\":{\"xaxis\":{\"backgroundcolor\":\"#E5ECF6\",\"gridcolor\":\"white\",\"linecolor\":\"white\",\"showbackground\":true,\"ticks\":\"\",\"zerolinecolor\":\"white\",\"gridwidth\":2},\"yaxis\":{\"backgroundcolor\":\"#E5ECF6\",\"gridcolor\":\"white\",\"linecolor\":\"white\",\"showbackground\":true,\"ticks\":\"\",\"zerolinecolor\":\"white\",\"gridwidth\":2},\"zaxis\":{\"backgroundcolor\":\"#E5ECF6\",\"gridcolor\":\"white\",\"linecolor\":\"white\",\"showbackground\":true,\"ticks\":\"\",\"zerolinecolor\":\"white\",\"gridwidth\":2}},\"shapedefaults\":{\"line\":{\"color\":\"#2a3f5f\"}},\"annotationdefaults\":{\"arrowcolor\":\"#2a3f5f\",\"arrowhead\":0,\"arrowwidth\":1},\"geo\":{\"bgcolor\":\"white\",\"landcolor\":\"#E5ECF6\",\"subunitcolor\":\"white\",\"showland\":true,\"showlakes\":true,\"lakecolor\":\"white\"},\"title\":{\"x\":0.05},\"mapbox\":{\"style\":\"light\"}}},\"xaxis\":{\"anchor\":\"y\",\"domain\":[0.0,1.0],\"scaleanchor\":\"y\",\"constrain\":\"domain\"},\"yaxis\":{\"anchor\":\"x\",\"domain\":[0.0,1.0],\"autorange\":\"reversed\",\"constrain\":\"domain\"},\"coloraxis\":{\"colorscale\":[[0.0,\"#0d0887\"],[0.1111111111111111,\"#46039f\"],[0.2222222222222222,\"#7201a8\"],[0.3333333333333333,\"#9c179e\"],[0.4444444444444444,\"#bd3786\"],[0.5555555555555556,\"#d8576b\"],[0.6666666666666666,\"#ed7953\"],[0.7777777777777778,\"#fb9f3a\"],[0.8888888888888888,\"#fdca26\"],[1.0,\"#f0f921\"]]},\"margin\":{\"t\":60}},                        {\"responsive\": true}                    ).then(function(){\n",
              "                            \n",
              "var gd = document.getElementById('3b74987c-2e11-498c-812e-a7631ff10e40');\n",
              "var x = new MutationObserver(function (mutations, observer) {{\n",
              "        var display = window.getComputedStyle(gd).display;\n",
              "        if (!display || display === 'none') {{\n",
              "            console.log([gd, 'removed!']);\n",
              "            Plotly.purge(gd);\n",
              "            observer.disconnect();\n",
              "        }}\n",
              "}});\n",
              "\n",
              "// Listen for the removal of the full notebook cells\n",
              "var notebookContainer = gd.closest('#notebook-container');\n",
              "if (notebookContainer) {{\n",
              "    x.observe(notebookContainer, {childList: true});\n",
              "}}\n",
              "\n",
              "// Listen for the clearing of the current output cell\n",
              "var outputEl = gd.closest('.output');\n",
              "if (outputEl) {{\n",
              "    x.observe(outputEl, {childList: true});\n",
              "}}\n",
              "\n",
              "                        })                };                            </script>        </div>\n",
              "</body>\n",
              "</html>"
            ]
          },
          "metadata": {}
        }
      ]
    },
    {
      "cell_type": "code",
      "source": [
        "#Checking the count of NaN values in al the columns\n",
        "df.duplicated().sum()\n",
        "df.isnull().sum()"
      ],
      "metadata": {
        "colab": {
          "base_uri": "https://localhost:8080/"
        },
        "id": "B3dAxyGsXbmm",
        "outputId": "2f21fd41-3016-4b2f-cd99-66acd3fae43a"
      },
      "execution_count": 149,
      "outputs": [
        {
          "output_type": "execute_result",
          "data": {
            "text/plain": [
              "price                             0\n",
              "retail_price                      0\n",
              "currency_buyer                    0\n",
              "units_sold                        0\n",
              "uses_ad_boosts                    0\n",
              "rating                            0\n",
              "rating_count                      0\n",
              "badges_count                      0\n",
              "badge_local_product               0\n",
              "badge_product_quality             0\n",
              "badge_fast_shipping               0\n",
              "tags                              0\n",
              "product_color                    29\n",
              "product_variation_size_id        12\n",
              "product_variation_inventory       0\n",
              "shipping_option_name              0\n",
              "shipping_option_price             0\n",
              "shipping_is_express               0\n",
              "countries_shipped_to              0\n",
              "inventory_total                   0\n",
              "has_urgency_banner              744\n",
              "urgency_text                    744\n",
              "origin_country                   12\n",
              "merchant_title                    0\n",
              "merchant_name                     4\n",
              "merchant_info_subtitle            0\n",
              "merchant_rating_count             0\n",
              "merchant_rating                   0\n",
              "merchant_id                       0\n",
              "merchant_has_profile_picture      0\n",
              "merchant_profile_picture        923\n",
              "theme                             0\n",
              "crawl_month                       0\n",
              "id                                0\n",
              "dtype: int64"
            ]
          },
          "metadata": {},
          "execution_count": 149
        }
      ]
    },
    {
      "cell_type": "code",
      "source": [
        "# First, lets drop duplicates (if any)\n",
        "df= df.drop_duplicates()"
      ],
      "metadata": {
        "id": "ZWcGbczhW5Cw"
      },
      "execution_count": 150,
      "outputs": []
    },
    {
      "cell_type": "code",
      "source": [
        "#Checking the count of NaN values in al the columns\n",
        "df.duplicated().sum()\n",
        "df.isnull().sum()"
      ],
      "metadata": {
        "colab": {
          "base_uri": "https://localhost:8080/"
        },
        "id": "06Y7GwkjW5MD",
        "outputId": "58823d51-00f5-49e8-f461-e512e658976a"
      },
      "execution_count": 151,
      "outputs": [
        {
          "output_type": "execute_result",
          "data": {
            "text/plain": [
              "price                             0\n",
              "retail_price                      0\n",
              "currency_buyer                    0\n",
              "units_sold                        0\n",
              "uses_ad_boosts                    0\n",
              "rating                            0\n",
              "rating_count                      0\n",
              "badges_count                      0\n",
              "badge_local_product               0\n",
              "badge_product_quality             0\n",
              "badge_fast_shipping               0\n",
              "tags                              0\n",
              "product_color                    29\n",
              "product_variation_size_id        12\n",
              "product_variation_inventory       0\n",
              "shipping_option_name              0\n",
              "shipping_option_price             0\n",
              "shipping_is_express               0\n",
              "countries_shipped_to              0\n",
              "inventory_total                   0\n",
              "has_urgency_banner              744\n",
              "urgency_text                    744\n",
              "origin_country                   12\n",
              "merchant_title                    0\n",
              "merchant_name                     4\n",
              "merchant_info_subtitle            0\n",
              "merchant_rating_count             0\n",
              "merchant_rating                   0\n",
              "merchant_id                       0\n",
              "merchant_has_profile_picture      0\n",
              "merchant_profile_picture        923\n",
              "theme                             0\n",
              "crawl_month                       0\n",
              "id                                0\n",
              "dtype: int64"
            ]
          },
          "metadata": {},
          "execution_count": 151
        }
      ]
    },
    {
      "cell_type": "code",
      "source": [
        "#still having columns should be preprocessed as shown in  the previous cell"
      ],
      "metadata": {
        "id": "T4RJfYPdX2VE"
      },
      "execution_count": 152,
      "outputs": []
    },
    {
      "cell_type": "code",
      "source": [
        "Country = df.loc[:, 'origin_country']\n",
        "Country"
      ],
      "metadata": {
        "colab": {
          "base_uri": "https://localhost:8080/"
        },
        "id": "movVciD9YFnE",
        "outputId": "1960f61e-8448-44af-b5c4-2d597d6ed251"
      },
      "execution_count": 153,
      "outputs": [
        {
          "output_type": "execute_result",
          "data": {
            "text/plain": [
              "0       CN\n",
              "1       CN\n",
              "2       CN\n",
              "3       CN\n",
              "4       CN\n",
              "        ..\n",
              "1089    CN\n",
              "1090    CN\n",
              "1091    CN\n",
              "1092    CN\n",
              "1093    CN\n",
              "Name: origin_country, Length: 1093, dtype: object"
            ]
          },
          "metadata": {},
          "execution_count": 153
        }
      ]
    },
    {
      "cell_type": "code",
      "source": [
        "#Filling the Nan values with the most frequent value which is CN\n",
        "df.loc[:, 'origin_country']=Country.fillna('CN')"
      ],
      "metadata": {
        "id": "cOFsR0k1ZdcV"
      },
      "execution_count": 154,
      "outputs": []
    },
    {
      "cell_type": "code",
      "source": [
        "#plotting the values of origin_country\n",
        "import matplotlib.pyplot as plt\n",
        "import seaborn as sns\n",
        "sns.countplot(x=Country.value_counts())"
      ],
      "metadata": {
        "colab": {
          "base_uri": "https://localhost:8080/",
          "height": 297
        },
        "id": "rRfC-WkvZddu",
        "outputId": "ffb4ee87-51f5-423b-a487-d463c9597b95"
      },
      "execution_count": 155,
      "outputs": [
        {
          "output_type": "execute_result",
          "data": {
            "text/plain": [
              "<Axes: xlabel='origin_country', ylabel='count'>"
            ]
          },
          "metadata": {},
          "execution_count": 155
        },
        {
          "output_type": "display_data",
          "data": {
            "text/plain": [
              "<Figure size 432x288 with 1 Axes>"
            ],
            "image/png": "[encoded data removed]"
          },
          "metadata": {
            "needs_background": "light"
          }
        }
      ]
    },
    {
      "cell_type": "code",
      "source": [
        "#when seeing the data set som columns like has_urgency_banne has nan values we should preprocessed it"
      ],
      "metadata": {
        "id": "M4i8Q_zUbYy-"
      },
      "execution_count": 156,
      "outputs": []
    },
    {
      "cell_type": "code",
      "source": [
        "Urgency = df.loc[:,'has_urgency_banner']\n",
        "Urgency"
      ],
      "metadata": {
        "colab": {
          "base_uri": "https://localhost:8080/"
        },
        "id": "lA6DjivgZdhc",
        "outputId": "1f0167d2-f513-4946-e95d-03880eac0aac"
      },
      "execution_count": 157,
      "outputs": [
        {
          "output_type": "execute_result",
          "data": {
            "text/plain": [
              "0       NaN\n",
              "1       NaN\n",
              "2       NaN\n",
              "3       NaN\n",
              "4       1.0\n",
              "       ... \n",
              "1089    NaN\n",
              "1090    NaN\n",
              "1091    NaN\n",
              "1092    1.0\n",
              "1093    1.0\n",
              "Name: has_urgency_banner, Length: 1093, dtype: float64"
            ]
          },
          "metadata": {},
          "execution_count": 157
        }
      ]
    },
    {
      "cell_type": "code",
      "source": [
        "#Filling the Nan values with zero which express that there was no urgency or troubles with this transaction\n",
        "df.loc[:, 'has_urgency_banner']=Urgency.fillna(0)"
      ],
      "metadata": {
        "id": "_c7KgRmFZdkb"
      },
      "execution_count": 158,
      "outputs": []
    },
    {
      "cell_type": "code",
      "source": [
        "#Checking urgent text \n",
        "df['urgency_text'].value_counts()"
      ],
      "metadata": {
        "colab": {
          "base_uri": "https://localhost:8080/"
        },
        "id": "3OTrX-jwbwRV",
        "outputId": "8ff8b011-6625-4e8f-884c-cdb824c6ac53"
      },
      "execution_count": 159,
      "outputs": [
        {
          "output_type": "execute_result",
          "data": {
            "text/plain": [
              "Quantité limitée !                  348\n",
              "Réduction sur les achats en gros      1\n",
              "Name: urgency_text, dtype: int64"
            ]
          },
          "metadata": {},
          "execution_count": 159
        }
      ]
    },
    {
      "cell_type": "code",
      "source": [
        "# handling urgency_text column\n",
        "df['urgency_text'] = df['urgency_text'].replace({\n",
        "    'Quantité limitée !' : 'Limited Quantity', \n",
        "    'Réduction sur les achats en gros': 'Wholesale discount', \n",
        "    np.nan: 'None'\n",
        "})"
      ],
      "metadata": {
        "id": "pLBw7tz3bwZc"
      },
      "execution_count": 160,
      "outputs": []
    },
    {
      "cell_type": "code",
      "source": [
        "total_missing = df.isnull().sum().sort_values(ascending=False)\n"
      ],
      "metadata": {
        "id": "JSDdYDMCfx-s"
      },
      "execution_count": 161,
      "outputs": []
    },
    {
      "cell_type": "code",
      "source": [
        "#showing total missing values in data\n",
        "percent = (df.isnull().sum()/df.isnull().count()).sort_values(ascending=False)*100\n",
        "missing_data = pd.concat([total_missing, percent], axis=1, keys=['Total Missing', 'Percent'])\n",
        "missing_data.head(20)"
      ],
      "metadata": {
        "colab": {
          "base_uri": "https://localhost:8080/",
          "height": 676
        },
        "id": "VfQyO5SOdCXZ",
        "outputId": "fdf416b2-576b-4490-e994-610d29dbd85c"
      },
      "execution_count": 162,
      "outputs": [
        {
          "output_type": "execute_result",
          "data": {
            "text/plain": [
              "                              Total Missing    Percent\n",
              "merchant_profile_picture                923  84.446478\n",
              "product_color                            29   2.653248\n",
              "product_variation_size_id                12   1.097896\n",
              "merchant_name                             4   0.365965\n",
              "price                                     0   0.000000\n",
              "has_urgency_banner                        0   0.000000\n",
              "urgency_text                              0   0.000000\n",
              "origin_country                            0   0.000000\n",
              "merchant_title                            0   0.000000\n",
              "merchant_info_subtitle                    0   0.000000\n",
              "countries_shipped_to                      0   0.000000\n",
              "merchant_rating_count                     0   0.000000\n",
              "merchant_rating                           0   0.000000\n",
              "merchant_id                               0   0.000000\n",
              "merchant_has_profile_picture              0   0.000000\n",
              "theme                                     0   0.000000\n",
              "crawl_month                               0   0.000000\n",
              "inventory_total                           0   0.000000\n",
              "shipping_is_express                       0   0.000000\n",
              "retail_price                              0   0.000000"
            ],
            "text/html": [
              "\n",
              "  <div id=\"df-57ba21bb-6133-4bfb-add3-1ce4cab110a8\">\n",
              "    <div class=\"colab-df-container\">\n",
              "      <div>\n",
              "<style scoped>\n",
              "    .dataframe tbody tr th:only-of-type {\n",
              "        vertical-align: middle;\n",
              "    }\n",
              "\n",
              "    .dataframe tbody tr th {\n",
              "        vertical-align: top;\n",
              "    }\n",
              "\n",
              "    .dataframe thead th {\n",
              "        text-align: right;\n",
              "    }\n",
              "</style>\n",
              "<table border=\"1\" class=\"dataframe\">\n",
              "  <thead>\n",
              "    <tr style=\"text-align: right;\">\n",
              "      <th></th>\n",
              "      <th>Total Missing</th>\n",
              "      <th>Percent</th>\n",
              "    </tr>\n",
              "  </thead>\n",
              "  <tbody>\n",
              "    <tr>\n",
              "      <th>merchant_profile_picture</th>\n",
              "      <td>923</td>\n",
              "      <td>84.446478</td>\n",
              "    </tr>\n",
              "    <tr>\n",
              "      <th>product_color</th>\n",
              "      <td>29</td>\n",
              "      <td>2.653248</td>\n",
              "    </tr>\n",
              "    <tr>\n",
              "      <th>product_variation_size_id</th>\n",
              "      <td>12</td>\n",
              "      <td>1.097896</td>\n",
              "    </tr>\n",
              "    <tr>\n",
              "      <th>merchant_name</th>\n",
              "      <td>4</td>\n",
              "      <td>0.365965</td>\n",
              "    </tr>\n",
              "    <tr>\n",
              "      <th>price</th>\n",
              "      <td>0</td>\n",
              "      <td>0.000000</td>\n",
              "    </tr>\n",
              "    <tr>\n",
              "      <th>has_urgency_banner</th>\n",
              "      <td>0</td>\n",
              "      <td>0.000000</td>\n",
              "    </tr>\n",
              "    <tr>\n",
              "      <th>urgency_text</th>\n",
              "      <td>0</td>\n",
              "      <td>0.000000</td>\n",
              "    </tr>\n",
              "    <tr>\n",
              "      <th>origin_country</th>\n",
              "      <td>0</td>\n",
              "      <td>0.000000</td>\n",
              "    </tr>\n",
              "    <tr>\n",
              "      <th>merchant_title</th>\n",
              "      <td>0</td>\n",
              "      <td>0.000000</td>\n",
              "    </tr>\n",
              "    <tr>\n",
              "      <th>merchant_info_subtitle</th>\n",
              "      <td>0</td>\n",
              "      <td>0.000000</td>\n",
              "    </tr>\n",
              "    <tr>\n",
              "      <th>countries_shipped_to</th>\n",
              "      <td>0</td>\n",
              "      <td>0.000000</td>\n",
              "    </tr>\n",
              "    <tr>\n",
              "      <th>merchant_rating_count</th>\n",
              "      <td>0</td>\n",
              "      <td>0.000000</td>\n",
              "    </tr>\n",
              "    <tr>\n",
              "      <th>merchant_rating</th>\n",
              "      <td>0</td>\n",
              "      <td>0.000000</td>\n",
              "    </tr>\n",
              "    <tr>\n",
              "      <th>merchant_id</th>\n",
              "      <td>0</td>\n",
              "      <td>0.000000</td>\n",
              "    </tr>\n",
              "    <tr>\n",
              "      <th>merchant_has_profile_picture</th>\n",
              "      <td>0</td>\n",
              "      <td>0.000000</td>\n",
              "    </tr>\n",
              "    <tr>\n",
              "      <th>theme</th>\n",
              "      <td>0</td>\n",
              "      <td>0.000000</td>\n",
              "    </tr>\n",
              "    <tr>\n",
              "      <th>crawl_month</th>\n",
              "      <td>0</td>\n",
              "      <td>0.000000</td>\n",
              "    </tr>\n",
              "    <tr>\n",
              "      <th>inventory_total</th>\n",
              "      <td>0</td>\n",
              "      <td>0.000000</td>\n",
              "    </tr>\n",
              "    <tr>\n",
              "      <th>shipping_is_express</th>\n",
              "      <td>0</td>\n",
              "      <td>0.000000</td>\n",
              "    </tr>\n",
              "    <tr>\n",
              "      <th>retail_price</th>\n",
              "      <td>0</td>\n",
              "      <td>0.000000</td>\n",
              "    </tr>\n",
              "  </tbody>\n",
              "</table>\n",
              "</div>\n",
              "      <button class=\"colab-df-convert\" onclick=\"convertToInteractive('df-57ba21bb-6133-4bfb-add3-1ce4cab110a8')\"\n",
              "              title=\"Convert this dataframe to an interactive table.\"\n",
              "              style=\"display:none;\">\n",
              "        \n",
              "  <svg xmlns=\"http://www.w3.org/2000/svg\" height=\"24px\"viewBox=\"0 0 24 24\"\n",
              "       width=\"24px\">\n",
              "    <path d=\"M0 0h24v24H0V0z\" fill=\"none\"/>\n",
              "    <path d=\"M18.56 5.44l.94 2.06.94-2.06 2.06-.94-2.06-.94-.94-2.06-.94 2.06-2.06.94zm-11 1L8.5 8.5l.94-2.06 2.06-.94-2.06-.94L8.5 2.5l-.94 2.06-2.06.94zm10 10l.94 2.06.94-2.06 2.06-.94-2.06-.94-.94-2.06-.94 2.06-2.06.94z\"/><path d=\"M17.41 7.96l-1.37-1.37c-.4-.4-.92-.59-1.43-.59-.52 0-1.04.2-1.43.59L10.3 9.45l-7.72 7.72c-.78.78-.78 2.05 0 2.83L4 21.41c.39.39.9.59 1.41.59.51 0 1.02-.2 1.41-.59l7.78-7.78 2.81-2.81c.8-.78.8-2.07 0-2.86zM5.41 20L4 18.59l7.72-7.72 1.47 1.35L5.41 20z\"/>\n",
              "  </svg>\n",
              "      </button>\n",
              "      \n",
              "  <style>\n",
              "    .colab-df-container {\n",
              "      display:flex;\n",
              "      flex-wrap:wrap;\n",
              "      gap: 12px;\n",
              "    }\n",
              "\n",
              "    .colab-df-convert {\n",
              "      background-color: #E8F0FE;\n",
              "      border: none;\n",
              "      border-radius: 50%;\n",
              "      cursor: pointer;\n",
              "      display: none;\n",
              "      fill: #1967D2;\n",
              "      height: 32px;\n",
              "      padding: 0 0 0 0;\n",
              "      width: 32px;\n",
              "    }\n",
              "\n",
              "    .colab-df-convert:hover {\n",
              "      background-color: #E2EBFA;\n",
              "      box-shadow: 0px 1px 2px rgba(60, 64, 67, 0.3), 0px 1px 3px 1px rgba(60, 64, 67, 0.15);\n",
              "      fill: #174EA6;\n",
              "    }\n",
              "\n",
              "    [theme=dark] .colab-df-convert {\n",
              "      background-color: #3B4455;\n",
              "      fill: #D2E3FC;\n",
              "    }\n",
              "\n",
              "    [theme=dark] .colab-df-convert:hover {\n",
              "      background-color: #434B5C;\n",
              "      box-shadow: 0px 1px 3px 1px rgba(0, 0, 0, 0.15);\n",
              "      filter: drop-shadow(0px 1px 2px rgba(0, 0, 0, 0.3));\n",
              "      fill: #FFFFFF;\n",
              "    }\n",
              "  </style>\n",
              "\n",
              "      <script>\n",
              "        const buttonEl =\n",
              "          document.querySelector('#df-57ba21bb-6133-4bfb-add3-1ce4cab110a8 button.colab-df-convert');\n",
              "        buttonEl.style.display =\n",
              "          google.colab.kernel.accessAllowed ? 'block' : 'none';\n",
              "\n",
              "        async function convertToInteractive(key) {\n",
              "          const element = document.querySelector('#df-57ba21bb-6133-4bfb-add3-1ce4cab110a8');\n",
              "          const dataTable =\n",
              "            await google.colab.kernel.invokeFunction('convertToInteractive',\n",
              "                                                     [key], {});\n",
              "          if (!dataTable) return;\n",
              "\n",
              "          const docLinkHtml = 'Like what you see? Visit the ' +\n",
              "            '<a target=\"_blank\" href=https://colab.research.google.com/notebooks/data_table.ipynb>data table notebook</a>'\n",
              "            + ' to learn more about interactive tables.';\n",
              "          element.innerHTML = '';\n",
              "          dataTable['output_type'] = 'display_data';\n",
              "          await google.colab.output.renderOutput(dataTable, element);\n",
              "          const docLink = document.createElement('div');\n",
              "          docLink.innerHTML = docLinkHtml;\n",
              "          element.appendChild(docLink);\n",
              "        }\n",
              "      </script>\n",
              "    </div>\n",
              "  </div>\n",
              "  "
            ]
          },
          "metadata": {},
          "execution_count": 162
        }
      ]
    },
    {
      "cell_type": "code",
      "source": [
        "total_train = df.isnull().sum().sort_values(ascending=False)"
      ],
      "metadata": {
        "id": "EBQUxwn-eGBj"
      },
      "execution_count": 163,
      "outputs": []
    },
    {
      "cell_type": "code",
      "source": [
        "# Show the total missing values and Percent in Training data \n",
        "missing_data = pd.concat([total_train, percent], axis=1, keys=['Total', 'Percent'])\n",
        "f, ax = plt.subplots(figsize=(15, 6))\n",
        "\n",
        "sns.barplot(x=missing_data.index, y=missing_data['Percent'])\n",
        "plt.xlabel('df_train', fontsize=15)\n",
        "plt.ylabel('Percent of missing values', fontsize=15)\n",
        "plt.title('Percent missing data by feature in Training data', fontsize=15)\n",
        "plt.show()\n",
        "\n"
      ],
      "metadata": {
        "colab": {
          "base_uri": "https://localhost:8080/",
          "height": 311
        },
        "id": "i88eDjt0bwK0",
        "outputId": "c5734b8b-3b2d-4422-e608-da88574419dd"
      },
      "execution_count": 164,
      "outputs": [
        {
          "output_type": "display_data",
          "data": {
            "text/plain": [
              "<Figure size 1080x432 with 1 Axes>"
            ],
            "image/png": "[encoded data removed]"
          },
          "metadata": {
            "needs_background": "light"
          }
        }
      ]
    },
    {
      "cell_type": "code",
      "source": [],
      "metadata": {
        "id": "cWu7TYRBeD2k"
      },
      "execution_count": 164,
      "outputs": []
    },
    {
      "cell_type": "code",
      "source": [
        "#Geting the number of existence of each value in product_variation_size_id column\n",
        "pd.options.display.max_rows = 100\n",
        "df['product_variation_size_id'].value_counts()"
      ],
      "metadata": {
        "colab": {
          "base_uri": "https://localhost:8080/"
        },
        "id": "1G7DUR-HgcRI",
        "outputId": "922b9a86-c7c2-463b-fb80-9ce39094f1f0"
      },
      "execution_count": 165,
      "outputs": [
        {
          "output_type": "execute_result",
          "data": {
            "text/plain": [
              "S                               444\n",
              "XS                              248\n",
              "M                               135\n",
              "XXS                              76\n",
              "L                                29\n",
              "S.                               13\n",
              "XL                               12\n",
              "XXL                              11\n",
              "XXXS                              5\n",
              "M.                                4\n",
              "Size-XS                           4\n",
              "Size S                            4\n",
              "4XL                               4\n",
              "XS.                               4\n",
              "Size-S                            3\n",
              "2XL                               3\n",
              "10 ml                             3\n",
              "s                                 3\n",
              "Size M                            2\n",
              "35                                2\n",
              "Size4XL                           2\n",
              "Size -XXS                         2\n",
              "SizeL                             2\n",
              "25                                2\n",
              "SIZE XS                           2\n",
              "29                                2\n",
              "S Pink                            2\n",
              "33                                2\n",
              "2pcs                              2\n",
              "5                                 1\n",
              "One Size                          1\n",
              "20PCS-10PAIRS                     1\n",
              "XXXXXL                            1\n",
              "2                                 1\n",
              "4-5 Years                         1\n",
              "Size-5XL                          1\n",
              "30 cm                             1\n",
              "1 PC - XL                         1\n",
              "size S                            1\n",
              "Size/S                            1\n",
              "B                                 1\n",
              "20pcs                             1\n",
              "S..                               1\n",
              "Suit-S                            1\n",
              "Base & Top & Matte Top Coat       1\n",
              "Baby Float Boat                   1\n",
              "1m by 3m                          1\n",
              "SIZE S                            1\n",
              "White                             1\n",
              "40 cm                             1\n",
              "5XL                               1\n",
              "10pcs                             1\n",
              "Round                             1\n",
              "1 pc.                             1\n",
              "100 cm                            1\n",
              "60                                1\n",
              "26(Waist 72cm 28inch)             1\n",
              "S(bust 88cm)                      1\n",
              "choose a size                     1\n",
              "Base Coat                         1\n",
              "100 x 100cm(39.3 x 39.3inch)      1\n",
              "1                                 1\n",
              "25-S                              1\n",
              "Size-XXS                          1\n",
              "5PAIRS                            1\n",
              "Pack of 1                         1\n",
              "6XL                               1\n",
              "S/M(child)                        1\n",
              "S (waist58-62cm)                  1\n",
              "Size S.                           1\n",
              "SIZE XXS                          1\n",
              "X   L                             1\n",
              "Women Size 36                     1\n",
              "04-3XL                            1\n",
              "Floating Chair for Kid            1\n",
              "34                                1\n",
              "US-S                              1\n",
              "Size XXS                          1\n",
              "pants-S                           1\n",
              "XXXXL                             1\n",
              "SIZE-XXS                          1\n",
              "1pc                               1\n",
              "H01                               1\n",
              "Name: product_variation_size_id, dtype: int64"
            ]
          },
          "metadata": {},
          "execution_count": 165
        }
      ]
    },
    {
      "cell_type": "code",
      "source": [
        "#we will find a great variation between our values and alot of values with the same meaning but written in different way in our dataset that should be handled"
      ],
      "metadata": {
        "id": "N_YaOhhBgjQp"
      },
      "execution_count": 166,
      "outputs": []
    },
    {
      "cell_type": "code",
      "source": [
        "#Gathering all the value with the same meaning and replacing its name with its actual name\n",
        "df['product_variation_size_id'].replace(['S', 'S.', 's', 'Size S', 'Size-S', 'Size S.', 'Suit-S', 'size S','S Pink', 'pants-S', 'US-S', 'SIZE S', 'S (waist58-62cm)', 'Size--S', '25-S', 'Size/S', 'S Diameter 30cm', 'S..', 'S(Pink & Black)'], 'S', inplace=True)\n",
        "df['product_variation_size_id'].replace(['XS', 'XS.', 'SIZE XS', 'Size-XS'], 'XS', inplace=True)\n",
        "df['product_variation_size_id'].replace(['XXS', 'XXXS', 'SIZE-XXS', 'Size -XXS', 'Size XXS', 'Size-XXS', 'SIZE XXS'], 'XXS+', inplace=True)\n",
        "df['product_variation_size_id'].replace(['M', 'M.', 'Size M'], 'M', inplace=True)\n",
        "df['product_variation_size_id'].replace(['L', 'SizeL', '32/L', 'L.', 'Size-L'], 'L', inplace=True)\n",
        "df['product_variation_size_id'].replace(['XL', '2XL', '1 PC - XL', 'X   L'], 'XL', inplace=True)\n",
        "df['product_variation_size_id'].replace(['XXL', '4XL', '2XL', 'Size4XL', '3XL', 'XXXXXL', '1 PC - XL', 'SIZE-4XL', '04-3XL', 'Size-5XL', 'XXXXL', '5XL', 'XXXL'], 'XXL+', inplace=True)\n",
        "size_val_counts = df['product_variation_size_id'].value_counts()\n",
        "# Select the values where the count is less than 5 and Nans and puting them under category other\n",
        "minority = size_val_counts[size_val_counts <= 5].index\n",
        "df.loc[df['product_variation_size_id'].isin(minority), 'product_variation_size_id'] = \"Other\"\n",
        "df['product_variation_size_id'] = df['product_variation_size_id'].replace(np.nan, \"Other\")"
      ],
      "metadata": {
        "id": "YR_qaW8xgjVk"
      },
      "execution_count": 167,
      "outputs": []
    },
    {
      "cell_type": "code",
      "source": [
        "import matplotlib.pyplot as plt\n",
        "import seaborn as sns\n",
        "#ploting size column after handling it\n",
        "plt.figure(figsize=(8, 4))\n",
        "ax = sns.countplot(x = 'product_variation_size_id',\n",
        "                   order = df['product_variation_size_id'].value_counts().index,\n",
        "                   palette= \"Set2\",\n",
        "                   data=df)\n",
        "ax.set(xlabel='Size', ylabel='Count')\n",
        "\n",
        "plt.show()"
      ],
      "metadata": {
        "colab": {
          "base_uri": "https://localhost:8080/",
          "height": 282
        },
        "id": "6hNHajD2gjWm",
        "outputId": "ee10d2bc-8404-429c-c917-238f0daa8efe"
      },
      "execution_count": 168,
      "outputs": [
        {
          "output_type": "display_data",
          "data": {
            "text/plain": [
              "<Figure size 576x288 with 1 Axes>"
            ],
            "image/png": "[encoded data removed]"
          },
          "metadata": {
            "needs_background": "light"
          }
        }
      ]
    },
    {
      "cell_type": "code",
      "source": [
        "#Getting the unique values \n",
        "colors = df['product_color'].unique()"
      ],
      "metadata": {
        "id": "YJRZoURXiz__"
      },
      "execution_count": 169,
      "outputs": []
    },
    {
      "cell_type": "code",
      "source": [
        "# convert to lower case\n",
        "df['product_color'] = df['product_color'].str.lower()\n",
        "# remove trailing white spaces\n",
        "df['product_color'] = df['product_color'].str.strip()\n",
        "df['product_color'].head(20)"
      ],
      "metadata": {
        "colab": {
          "base_uri": "https://localhost:8080/"
        },
        "id": "KMdBK5Mzi5MH",
        "outputId": "4951885a-64e7-47d6-a271-d71dafac8e83"
      },
      "execution_count": 170,
      "outputs": [
        {
          "output_type": "execute_result",
          "data": {
            "text/plain": [
              "0       yellow\n",
              "1        black\n",
              "2        white\n",
              "3     lakeblue\n",
              "4      apricot\n",
              "5        black\n",
              "6        white\n",
              "7        brown\n",
              "8      winered\n",
              "9         blue\n",
              "10         red\n",
              "11       white\n",
              "12    navyblue\n",
              "13       black\n",
              "14      yellow\n",
              "15       green\n",
              "16      yellow\n",
              "17       khaki\n",
              "18       green\n",
              "19       white\n",
              "Name: product_color, dtype: object"
            ]
          },
          "metadata": {},
          "execution_count": 170
        }
      ]
    },
    {
      "cell_type": "code",
      "source": [
        "#Defing a dictionary with all the colors in our dataset and its corresponing color that it belongs to\n",
        "color_Switch = {\n",
        "'Black' : 'black',\n",
        "'coolblack': 'black',\n",
        "'White': 'white',\n",
        "'offwhite': 'white', \n",
        "'bluue': 'blue',\n",
        "'prussianblue': 'blue',\n",
        "'navyblue': 'blue', \n",
        "'navy blue': 'blue',\n",
        "'lightblue': 'blue',\n",
        "'skyblue': 'blue',\n",
        "'darkblue': 'blue',\n",
        "'navy' : 'blue',\n",
        "'bluee': 'blue',\n",
        "'bluue': 'blue',\n",
        "'denimblue': 'blue', \n",
        "'lakeblue': 'blue', \n",
        "'Blue': 'blue',\n",
        "'gold': 'yellow',\n",
        "'lightyellow': 'yellow',\n",
        "'winered': 'red',\n",
        "'rosered': 'red',\n",
        "'watermelonred': 'red',\n",
        "'RED': 'red',\n",
        "'winered': 'red',\n",
        "'wine red': 'red',\n",
        "'rose': 'red',\n",
        "'orange-red': 'red',\n",
        "'Rose red': 'red',\n",
        "'wine': 'red',\n",
        "'coralred': 'red',\n",
        "'burgundy': 'red', \n",
        "'lightred': 'red', \n",
        "'lightpink': 'pink',\n",
        "'Pink': 'pink',\n",
        "'dustypink': 'pink',\n",
        "'armygreen':'green',\n",
        "'khaki': 'green',\n",
        "'lightgreen': 'green',\n",
        "'fluorescentgreen': 'green',\n",
        "'army green': 'green',\n",
        "'applegreen': 'green',\n",
        "'Army green': 'green',\n",
        "'mintgreen': 'green',\n",
        "'army': 'green', \n",
        "'lightkhaki': 'green', \n",
        "'darkgreen': 'green', \n",
        "'light green': 'green', \n",
        "'lightkhaki': 'green', \n",
        "'lightgray': 'grey', \n",
        "'apricot': 'orange',\n",
        "'violet': 'purple',\n",
        "'lightpurple': 'purple', \n",
        "'gray': 'grey',\n",
        "'silver': 'grey',\n",
        "'coffee': 'brown', \n",
        "'blackwhite': 'dual', \n",
        " np.nan: 'other'}"
      ],
      "metadata": {
        "id": "Ak4JokCXi5Sx"
      },
      "execution_count": 171,
      "outputs": []
    },
    {
      "cell_type": "code",
      "source": [
        "#matching each color to its corresponding color category and the rest to others\n",
        "def switch(color): \n",
        "    if color in color_Switch: \n",
        "        return color_Switch[color]\n",
        "    elif color in color_Switch.values(): \n",
        "        return color\n",
        "    elif '&' in color: \n",
        "        return 'dual'\n",
        "    else:\n",
        "        return 'other'\n",
        "df['product_color'] = df.product_color.apply(switch)"
      ],
      "metadata": {
        "id": "u3_wNILui5a6"
      },
      "execution_count": 172,
      "outputs": []
    },
    {
      "cell_type": "code",
      "source": [
        "#Plotting the data after handling it\n",
        "plt.figure(figsize=(7, 6))\n",
        "ax = sns.countplot(x = 'product_color',\n",
        "                   order = df['product_color'].value_counts().index,\n",
        "                   palette= \"Set2\",\n",
        "                   data=df)\n",
        "ax.set(xlabel='Color', ylabel='Count')\n",
        "plt.xticks(rotation=90, ha='right')\n",
        "plt.show()"
      ],
      "metadata": {
        "colab": {
          "base_uri": "https://localhost:8080/",
          "height": 413
        },
        "id": "XhB0OkiQhPjp",
        "outputId": "12859fb2-1362-435b-bc81-d1097bf6f030"
      },
      "execution_count": 173,
      "outputs": [
        {
          "output_type": "display_data",
          "data": {
            "text/plain": [
              "<Figure size 504x432 with 1 Axes>"
            ],
            "image/png": "[encoded data removed]"
          },
          "metadata": {
            "needs_background": "light"
          }
        }
      ]
    },
    {
      "cell_type": "code",
      "source": [
        "df.info()\n"
      ],
      "metadata": {
        "colab": {
          "base_uri": "https://localhost:8080/"
        },
        "id": "GyhnojLWhVEp",
        "outputId": "aa8bc8a3-b6d3-4805-c5df-5a18981dd41f"
      },
      "execution_count": 174,
      "outputs": [
        {
          "output_type": "stream",
          "name": "stdout",
          "text": [
            "<class 'pandas.core.frame.DataFrame'>\n",
            "Int64Index: 1093 entries, 0 to 1093\n",
            "Data columns (total 34 columns):\n",
            " #   Column                        Non-Null Count  Dtype  \n",
            "---  ------                        --------------  -----  \n",
            " 0   price                         1093 non-null   float64\n",
            " 1   retail_price                  1093 non-null   int64  \n",
            " 2   currency_buyer                1093 non-null   object \n",
            " 3   units_sold                    1093 non-null   int64  \n",
            " 4   uses_ad_boosts                1093 non-null   int64  \n",
            " 5   rating                        1093 non-null   float64\n",
            " 6   rating_count                  1093 non-null   int64  \n",
            " 7   badges_count                  1093 non-null   int64  \n",
            " 8   badge_local_product           1093 non-null   int64  \n",
            " 9   badge_product_quality         1093 non-null   int64  \n",
            " 10  badge_fast_shipping           1093 non-null   int64  \n",
            " 11  tags                          1093 non-null   object \n",
            " 12  product_color                 1093 non-null   object \n",
            " 13  product_variation_size_id     1093 non-null   object \n",
            " 14  product_variation_inventory   1093 non-null   int64  \n",
            " 15  shipping_option_name          1093 non-null   object \n",
            " 16  shipping_option_price         1093 non-null   int64  \n",
            " 17  shipping_is_express           1093 non-null   int64  \n",
            " 18  countries_shipped_to          1093 non-null   int64  \n",
            " 19  inventory_total               1093 non-null   int64  \n",
            " 20  has_urgency_banner            1093 non-null   float64\n",
            " 21  urgency_text                  1093 non-null   object \n",
            " 22  origin_country                1093 non-null   object \n",
            " 23  merchant_title                1093 non-null   object \n",
            " 24  merchant_name                 1089 non-null   object \n",
            " 25  merchant_info_subtitle        1093 non-null   object \n",
            " 26  merchant_rating_count         1093 non-null   int64  \n",
            " 27  merchant_rating               1093 non-null   float64\n",
            " 28  merchant_id                   1093 non-null   object \n",
            " 29  merchant_has_profile_picture  1093 non-null   int64  \n",
            " 30  merchant_profile_picture      170 non-null    object \n",
            " 31  theme                         1093 non-null   object \n",
            " 32  crawl_month                   1093 non-null   object \n",
            " 33  id                            1093 non-null   int64  \n",
            "dtypes: float64(4), int64(16), object(14)\n",
            "memory usage: 298.9+ KB\n"
          ]
        }
      ]
    },
    {
      "cell_type": "code",
      "source": [
        "# show missing values per-column in training data  \n",
        "df.isna().sum().sort_values(ascending = True)"
      ],
      "metadata": {
        "colab": {
          "base_uri": "https://localhost:8080/"
        },
        "id": "tys0Lvkvh0PZ",
        "outputId": "a0658d07-e314-4447-8973-77ebeeba84e7"
      },
      "execution_count": 175,
      "outputs": [
        {
          "output_type": "execute_result",
          "data": {
            "text/plain": [
              "price                             0\n",
              "theme                             0\n",
              "merchant_has_profile_picture      0\n",
              "merchant_id                       0\n",
              "merchant_rating                   0\n",
              "merchant_rating_count             0\n",
              "merchant_info_subtitle            0\n",
              "merchant_title                    0\n",
              "origin_country                    0\n",
              "urgency_text                      0\n",
              "has_urgency_banner                0\n",
              "inventory_total                   0\n",
              "countries_shipped_to              0\n",
              "shipping_is_express               0\n",
              "crawl_month                       0\n",
              "shipping_option_price             0\n",
              "product_variation_inventory       0\n",
              "retail_price                      0\n",
              "currency_buyer                    0\n",
              "units_sold                        0\n",
              "uses_ad_boosts                    0\n",
              "rating                            0\n",
              "rating_count                      0\n",
              "shipping_option_name              0\n",
              "id                                0\n",
              "badge_local_product               0\n",
              "badge_product_quality             0\n",
              "badge_fast_shipping               0\n",
              "tags                              0\n",
              "product_color                     0\n",
              "product_variation_size_id         0\n",
              "badges_count                      0\n",
              "merchant_name                     4\n",
              "merchant_profile_picture        923\n",
              "dtype: int64"
            ]
          },
          "metadata": {},
          "execution_count": 175
        }
      ]
    },
    {
      "cell_type": "markdown",
      "source": [
        "**remove useless data columns that does not affect the predection**"
      ],
      "metadata": {
        "id": "PFGY7CALjIKr"
      }
    },
    {
      "cell_type": "code",
      "source": [
        "#Inscpecting merchant_profile_picture column\n",
        "df['merchant_profile_picture'].value_counts()"
      ],
      "metadata": {
        "colab": {
          "base_uri": "https://localhost:8080/"
        },
        "id": "c-49TUARh0Xr",
        "outputId": "f4e7118f-175b-4eef-9394-f1fa5693c5e6"
      },
      "execution_count": 176,
      "outputs": [
        {
          "output_type": "execute_result",
          "data": {
            "text/plain": [
              "https://s3-us-west-1.amazonaws.com/sweeper-production-merchantimage/dp_5acaf29d5ebcfd72403106a8.jpg    8\n",
              "https://s3-us-west-1.amazonaws.com/sweeper-production-merchantimage/dp_55c8a4c33a698c6010edcd9e.jpg    6\n",
              "https://s3-us-west-1.amazonaws.com/sweeper-production-merchantimage/dp_5533c83986ff95173dc017d0.jpg    6\n",
              "https://s3-us-west-1.amazonaws.com/sweeper-production-merchantimage/dp_58ad449708de0c6dc59d9e06.jpg    5\n",
              "https://s3-us-west-1.amazonaws.com/sweeper-production-merchantimage/dp_577fb2b368116418674befd9.jpg    4\n",
              "https://s3-us-west-1.amazonaws.com/sweeper-production-merchantimage/dp_55c8029641d799421d41fe3a.jpg    4\n",
              "https://s3-us-west-1.amazonaws.com/sweeper-production-merchantimage/dp_57c306d73a698c06f98ed450.jpg    4\n",
              "https://s3-us-west-1.amazonaws.com/sweeper-production-merchantimage/dp_54db03867851097093c0efe7.jpg    4\n",
              "https://s3-us-west-1.amazonaws.com/sweeper-production-merchantimage/dp_5268759b736046671957190c.jpg    4\n",
              "https://s3-us-west-1.amazonaws.com/sweeper-production-merchantimage/dp_557ed5b886d66519ff242099.jpg    4\n",
              "https://s3-us-west-1.amazonaws.com/sweeper-production-merchantimage/dp_58131ddf6f55296033923a7c.jpg    4\n",
              "https://s3-us-west-1.amazonaws.com/sweeper-production-merchantimage/dp_56e43d9e3a698c3826a5feff.jpg    3\n",
              "https://s3-us-west-1.amazonaws.com/sweeper-production-merchantimage/dp_539937d634067e06707b1a8e.jpg    3\n",
              "https://s3-us-west-1.amazonaws.com/sweeper-production-merchantimage/dp_55ed5a3362e273427107759e.jpg    3\n",
              "https://s3-us-west-1.amazonaws.com/sweeper-production-merchantimage/dp_5384613a796f680f9d78a127.jpg    3\n",
              "https://s3-us-west-1.amazonaws.com/sweeper-production-merchantimage/dp_5abb2cf26be8733b5bf6844f.jpg    3\n",
              "https://s3-us-west-1.amazonaws.com/sweeper-production-merchantimage/dp_5b14d31d7e43f22f255ea98c.jpg    3\n",
              "https://s3-us-west-1.amazonaws.com/sweeper-production-merchantimage/dp_58b011e82e27bf506cee1ace.jpg    2\n",
              "https://s3-us-west-1.amazonaws.com/sweeper-production-merchantimage/dp_546d44001280fa3ce1bf80fa.jpg    2\n",
              "https://s3-us-west-1.amazonaws.com/sweeper-production-merchantimage/dp_53db691bd911395c8b2f92be.jpg    2\n",
              "https://s3-us-west-1.amazonaws.com/sweeper-production-merchantimage/dp_59aebfa350df6107c1eff8c8.jpg    2\n",
              "https://s3-us-west-1.amazonaws.com/sweeper-production-merchantimage/dp_5357bcf2bb72c5504882e889.jpg    2\n",
              "https://s3-us-west-1.amazonaws.com/sweeper-production-merchantimage/dp_53facca81c105e3d5866e212.jpg    2\n",
              "https://s3-us-west-1.amazonaws.com/sweeper-production-merchantimage/dp_59c7610621064f2f6c8c9fe7.jpg    2\n",
              "https://s3-us-west-1.amazonaws.com/sweeper-production-merchantimage/dp_5495976a40b3782bc8b3654a.jpg    2\n",
              "https://s3-us-west-1.amazonaws.com/sweeper-production-merchantimage/dp_55ed4e573a698c3a9daa8b2b.jpg    2\n",
              "https://s3-us-west-1.amazonaws.com/sweeper-production-merchantimage/dp_5df71a34092d7302140be245.jpg    2\n",
              "https://s3-us-west-1.amazonaws.com/sweeper-production-merchantimage/dp_556425de56aea60ea1d17778.jpg    2\n",
              "https://s3-us-west-1.amazonaws.com/sweeper-production-merchantimage/dp_561dc58d1f1ffb54d008b82f.jpg    2\n",
              "https://s3-us-west-1.amazonaws.com/sweeper-production-merchantimage/dp_584bcf7bfef409603f39b619.jpg    2\n",
              "https://s3-us-west-1.amazonaws.com/sweeper-production-merchantimage/dp_5417aada4ad3ab27e954b76c.jpg    2\n",
              "https://s3-us-west-1.amazonaws.com/sweeper-production-merchantimage/dp_55e7e41e606d0a18fdfc67d1.jpg    2\n",
              "https://s3-us-west-1.amazonaws.com/sweeper-production-merchantimage/dp_58dceeb2a6d6757401114dfd.jpg    2\n",
              "https://s3-us-west-1.amazonaws.com/sweeper-production-merchantimage/dp_56c3c5d830d9795c3bad3124.jpg    1\n",
              "https://s3-us-west-1.amazonaws.com/sweeper-production-merchantimage/dp_582bd2fde18c0f0a402ba101.jpg    1\n",
              "https://s3-us-west-1.amazonaws.com/sweeper-production-merchantimage/dp_5542fcb264b4f014ce88ecae.jpg    1\n",
              "https://s3-us-west-1.amazonaws.com/sweeper-production-merchantimage/dp_559f4066577ce11970f7f7fa.jpg    1\n",
              "https://s3-us-west-1.amazonaws.com/sweeper-production-merchantimage/dp_5466f5ea1280fa5c9c7ba98e.jpg    1\n",
              "https://s3-us-west-1.amazonaws.com/sweeper-production-merchantimage/dp_550ab2be8e8def0b2c654d4b.jpg    1\n",
              "https://s3-us-west-1.amazonaws.com/sweeper-production-merchantimage/dp_58c910072be00b51c601ccee.jpg    1\n",
              "https://s3-us-west-1.amazonaws.com/sweeper-production-merchantimage/dp_547465748edcfa6ceab14f70.jpg    1\n",
              "https://s3-us-west-1.amazonaws.com/sweeper-production-merchantimage/dp_5927d9ead7f65462c5a1d409.jpg    1\n",
              "https://s3-us-west-1.amazonaws.com/sweeper-production-merchantimage/dp_5817f156d8ef7848c3b400cc.jpg    1\n",
              "https://s3-us-west-1.amazonaws.com/sweeper-production-merchantimage/dp_567eb3a5d8a1043c0ab70707.jpg    1\n",
              "https://s3-us-west-1.amazonaws.com/sweeper-production-merchantimage/dp_53ad2f5a46188e43c8b6bef6.jpg    1\n",
              "https://s3-us-west-1.amazonaws.com/sweeper-production-merchantimage/dp_55d480c092e9ba1242bd816a.jpg    1\n",
              "https://s3-us-west-1.amazonaws.com/sweeper-production-merchantimage/dp_547bfcda3dabbe37af5818b1.jpg    1\n",
              "https://s3-us-west-1.amazonaws.com/sweeper-production-merchantimage/dp_593aa1956a74d26d7914a7e4.jpg    1\n",
              "https://s3-us-west-1.amazonaws.com/sweeper-production-merchantimage/dp_587f85cbb8038f4cb049c56c.jpg    1\n",
              "https://s3-us-west-1.amazonaws.com/sweeper-production-merchantimage/dp_58d12c00b9d9d6505a44c4e6.jpg    1\n",
              "https://s3-us-west-1.amazonaws.com/sweeper-production-merchantimage/dp_53994751796f684b7f2193b5.jpg    1\n",
              "https://s3-us-west-1.amazonaws.com/sweeper-production-merchantimage/dp_5652f4053a698c76dc9a3f37.jpg    1\n",
              "https://s3-us-west-1.amazonaws.com/sweeper-production-merchantimage/dp_56669d89eb4b14361d45090f.jpg    1\n",
              "https://s3-us-west-1.amazonaws.com/sweeper-production-merchantimage/dp_55a641ddfa6d460ba65ce3b8.jpg    1\n",
              "https://s3-us-west-1.amazonaws.com/sweeper-production-merchantimage/dp_5556c60071e86d19fe7590d4.jpg    1\n",
              "https://s3-us-west-1.amazonaws.com/sweeper-production-merchantimage/dp_5db248327c0d0800c24fc084.jpg    1\n",
              "https://s3-us-west-1.amazonaws.com/sweeper-production-merchantimage/dp_5466fad41280fa5ca27ba85d.jpg    1\n",
              "https://s3-us-west-1.amazonaws.com/sweeper-production-merchantimage/dp_54b8872d40b37856baa55e38.jpg    1\n",
              "https://s3-us-west-1.amazonaws.com/sweeper-production-merchantimage/dp_51aff6a38e221e2cafcdc0cb.jpg    1\n",
              "https://s3-us-west-1.amazonaws.com/sweeper-production-merchantimage/dp_5435ef5d01c0c057210e6b32.jpg    1\n",
              "https://s3-us-west-1.amazonaws.com/sweeper-production-merchantimage/dp_5b8f992a2eb51f465ffd388d.jpg    1\n",
              "https://s3-us-west-1.amazonaws.com/sweeper-production-merchantimage/dp_55d18ce6183a5d103f970011.jpg    1\n",
              "https://s3-us-west-1.amazonaws.com/sweeper-production-merchantimage/dp_5660e53e769a564b3e3aeca0.jpg    1\n",
              "https://s3-us-west-1.amazonaws.com/sweeper-production-merchantimage/dp_54a2cd4940b3782666e8a5bf.jpg    1\n",
              "https://s3-us-west-1.amazonaws.com/sweeper-production-merchantimage/dp_57713183bd6b18740117229d.jpg    1\n",
              "https://s3-us-west-1.amazonaws.com/sweeper-production-merchantimage/dp_53f2beb39020ee03566d6e18.jpg    1\n",
              "https://s3-us-west-1.amazonaws.com/sweeper-production-merchantimage/dp_58a3f270e269ee522580e6bb.jpg    1\n",
              "https://s3-us-west-1.amazonaws.com/sweeper-production-merchantimage/dp_55cc3e5f845591103477a2f8.jpg    1\n",
              "https://s3-us-west-1.amazonaws.com/sweeper-production-merchantimage/dp_550bed073fca100d87116858.jpg    1\n",
              "https://s3-us-west-1.amazonaws.com/sweeper-production-merchantimage/dp_5b8deaae2eb51f6d30ff9a3d.jpg    1\n",
              "https://s3-us-west-1.amazonaws.com/sweeper-production-merchantimage/dp_56effd3864d54a58a619bdb1.jpg    1\n",
              "https://s3-us-west-1.amazonaws.com/sweeper-production-merchantimage/dp_56680c90e363a3613607ea61.jpg    1\n",
              "https://s3-us-west-1.amazonaws.com/sweeper-production-merchantimage/dp_56db028b3a9cb801c374b3c6.jpg    1\n",
              "https://s3-us-west-1.amazonaws.com/sweeper-production-merchantimage/dp_58fde9517c09181253b0ef86.jpg    1\n",
              "https://s3-us-west-1.amazonaws.com/sweeper-production-merchantimage/dp_53e03f56ff4d6d36d2285ab0.jpg    1\n",
              "https://s3-us-west-1.amazonaws.com/sweeper-production-merchantimage/dp_551506dc18b2791039a7286d.jpg    1\n",
              "https://s3-us-west-1.amazonaws.com/sweeper-production-merchantimage/dp_589e67aa3205e17175ced38e.jpg    1\n",
              "https://s3-us-west-1.amazonaws.com/sweeper-production-merchantimage/dp_5512b0d98e8def07a462e1d7.jpg    1\n",
              "https://s3-us-west-1.amazonaws.com/sweeper-production-merchantimage/dp_5860cbf734de6c4d4803523d.jpg    1\n",
              "https://s3-us-west-1.amazonaws.com/sweeper-production-merchantimage/dp_5620c3b23a698c4bc7d17e8c.jpg    1\n",
              "https://s3-us-west-1.amazonaws.com/sweeper-production-merchantimage/dp_530306fe34067e3f15c41d87.jpg    1\n",
              "https://s3-us-west-1.amazonaws.com/sweeper-production-merchantimage/dp_5902b4eab3e322098d3b41eb.jpg    1\n",
              "https://s3-us-west-1.amazonaws.com/sweeper-production-merchantimage/dp_57568f454054c95cbd8d1619.jpg    1\n",
              "https://s3-us-west-1.amazonaws.com/sweeper-production-merchantimage/dp_570d017b1b4ca758e18e407d.jpg    1\n",
              "https://s3-us-west-1.amazonaws.com/sweeper-production-merchantimage/dp_5466e6343dabbe66ab062be8.jpg    1\n",
              "https://s3-us-west-1.amazonaws.com/sweeper-production-merchantimage/dp_538f4f18ab980a5167a1d722.jpg    1\n",
              "https://s3-us-west-1.amazonaws.com/sweeper-production-merchantimage/dp_5d462e58f320403871a78593.jpg    1\n",
              "https://s3-us-west-1.amazonaws.com/sweeper-production-merchantimage/dp_59146c0c71a2f21160479ee5.jpg    1\n",
              "https://s3-us-west-1.amazonaws.com/sweeper-production-merchantimage/dp_5609de679b11090d3bafce69.jpg    1\n",
              "https://s3-us-west-1.amazonaws.com/sweeper-production-merchantimage/dp_53bd3edad911396c5b3fb0aa.jpg    1\n",
              "https://s3-us-west-1.amazonaws.com/sweeper-production-merchantimage/dp_53e4bb20ff4d6d1b68bdb6d1.jpg    1\n",
              "https://s3-us-west-1.amazonaws.com/sweeper-production-merchantimage/dp_54869f80546ead6e5b318f5b.jpg    1\n",
              "https://s3-us-west-1.amazonaws.com/sweeper-production-merchantimage/dp_580f06685250a20783d33e56.jpg    1\n",
              "https://s3-us-west-1.amazonaws.com/sweeper-production-merchantimage/dp_55419b79439bb51755098f63.jpg    1\n",
              "https://s3-us-west-1.amazonaws.com/sweeper-production-merchantimage/dp_57ee6909567a8d101913df98.jpg    1\n",
              "https://s3-us-west-1.amazonaws.com/sweeper-production-merchantimage/dp_5756d060b833235cbc250227.jpg    1\n",
              "https://s3-us-west-1.amazonaws.com/sweeper-production-merchantimage/dp_5541ba455252290c0b225b1f.jpg    1\n",
              "https://s3-us-west-1.amazonaws.com/sweeper-production-merchantimage/dp_565537c7a9a8a4572be0bef5.jpg    1\n",
              "https://s3-us-west-1.amazonaws.com/sweeper-production-merchantimage/dp_57875ba40cb30d38ba46f57d.jpg    1\n",
              "https://s3-us-west-1.amazonaws.com/sweeper-production-merchantimage/dp_570ceafac277d445e3cbebe5.jpg    1\n",
              "Name: merchant_profile_picture, dtype: int64"
            ]
          },
          "metadata": {},
          "execution_count": 176
        }
      ]
    },
    {
      "cell_type": "markdown",
      "source": [
        "merchant_profile_picture does not give any use full information that could affect the prediction so i will drop it when going into the note book  🥱"
      ],
      "metadata": {
        "id": "gGFxuHWTu_53"
      }
    },
    {
      "cell_type": "code",
      "source": [
        "#incpecting theme coloumn\n",
        "plt.figure(figsize=(3, 3))\n",
        "ax = sns.countplot(x = 'theme',\n",
        "                   order = df['theme'].value_counts().index,\n",
        "                   palette= \"Set2\",\n",
        "                   data=df)\n",
        "ax.set(xlabel='theme', ylabel='Count')\n",
        "plt.xticks(rotation=90, ha='right')\n",
        "plt.show()"
      ],
      "metadata": {
        "colab": {
          "base_uri": "https://localhost:8080/",
          "height": 256
        },
        "id": "-wy0zBfpjozD",
        "outputId": "3292971a-ee09-469f-889f-cb8dfd765f92"
      },
      "execution_count": 177,
      "outputs": [
        {
          "output_type": "display_data",
          "data": {
            "text/plain": [
              "<Figure size 216x216 with 1 Axes>"
            ],
            "image/png": "[encoded data removed]"
          },
          "metadata": {
            "needs_background": "light"
          }
        }
      ]
    },
    {
      "cell_type": "code",
      "source": [
        "#inspecting Crawl month column\n",
        "plt.figure(figsize=(3, 3))\n",
        "ax = sns.countplot(x = 'crawl_month',\n",
        "                   order = df['crawl_month'].value_counts().index,\n",
        "                   palette= \"Set2\",\n",
        "                   data=df)\n",
        "ax.set(xlabel='crawl_month', ylabel='Count')\n",
        "plt.xticks(rotation=90, ha='right')\n",
        "plt.show()"
      ],
      "metadata": {
        "colab": {
          "base_uri": "https://localhost:8080/",
          "height": 257
        },
        "id": "ihp2y6hDj5FM",
        "outputId": "745825ce-2876-4e3d-fc24-6e795c298a2d"
      },
      "execution_count": 178,
      "outputs": [
        {
          "output_type": "display_data",
          "data": {
            "text/plain": [
              "<Figure size 216x216 with 1 Axes>"
            ],
            "image/png": "[encoded data removed]"
          },
          "metadata": {
            "needs_background": "light"
          }
        }
      ]
    },
    {
      "cell_type": "code",
      "source": [
        "#inspecting currency buyer column\n",
        "plt.figure(figsize=(3, 3))\n",
        "ax = sns.countplot(x = 'currency_buyer',\n",
        "                   order = df['currency_buyer'].value_counts().index,\n",
        "                   palette= \"Set2\",\n",
        "                   data=df)\n",
        "ax.set(xlabel='currency_buyer', ylabel='Count')\n",
        "plt.xticks(rotation=90, ha='right')\n",
        "plt.show()"
      ],
      "metadata": {
        "colab": {
          "base_uri": "https://localhost:8080/",
          "height": 236
        },
        "id": "jrepTCpklXYx",
        "outputId": "8cc426c8-35ac-4a2a-83af-d6a94e919727"
      },
      "execution_count": 179,
      "outputs": [
        {
          "output_type": "display_data",
          "data": {
            "text/plain": [
              "<Figure size 216x216 with 1 Axes>"
            ],
            "image/png": "[encoded data removed]"
          },
          "metadata": {
            "needs_background": "light"
          }
        }
      ]
    },
    {
      "cell_type": "code",
      "source": [
        "df['shipping_option_name'].value_counts()\n"
      ],
      "metadata": {
        "colab": {
          "base_uri": "https://localhost:8080/"
        },
        "id": "IelIBcU2lXaU",
        "outputId": "bbc82819-b6e9-4461-f560-f1a0f688b199"
      },
      "execution_count": 180,
      "outputs": [
        {
          "output_type": "execute_result",
          "data": {
            "text/plain": [
              "Livraison standard         1047\n",
              "Standard Shipping            16\n",
              "Envio Padrão                  6\n",
              "الشحن القياسي                 4\n",
              "Expediere Standard            4\n",
              "Envío normal                  3\n",
              "Standardversand               3\n",
              "Standardowa wysyłka           2\n",
              "Standart Gönderi              2\n",
              "Livraison Express             2\n",
              "Стандартная доставка          2\n",
              "Spedizione standard           1\n",
              "ការដឹកជញ្ជូនតាមស្តង់ដារ       1\n",
              "Name: shipping_option_name, dtype: int64"
            ]
          },
          "metadata": {},
          "execution_count": 180
        }
      ]
    },
    {
      "cell_type": "code",
      "source": [
        "sns.countplot(x=df['merchant_rating'].value_counts())\n"
      ],
      "metadata": {
        "colab": {
          "base_uri": "https://localhost:8080/",
          "height": 297
        },
        "id": "L-tmiWSvlXdH",
        "outputId": "9f57e632-8ea3-43be-b8ec-a31105aaf0a9"
      },
      "execution_count": 181,
      "outputs": [
        {
          "output_type": "execute_result",
          "data": {
            "text/plain": [
              "<Axes: xlabel='merchant_rating', ylabel='count'>"
            ]
          },
          "metadata": {},
          "execution_count": 181
        },
        {
          "output_type": "display_data",
          "data": {
            "text/plain": [
              "<Figure size 432x288 with 1 Axes>"
            ],
            "image/png": "[encoded data removed]"
          },
          "metadata": {
            "needs_background": "light"
          }
        }
      ]
    },
    {
      "cell_type": "code",
      "source": [
        "sns.countplot(x=df['merchant_title'].value_counts())\n"
      ],
      "metadata": {
        "colab": {
          "base_uri": "https://localhost:8080/",
          "height": 297
        },
        "id": "vohCBGK6lXfr",
        "outputId": "2b8cf33a-7c3f-46a6-a99b-2cbeba7bffa0"
      },
      "execution_count": 182,
      "outputs": [
        {
          "output_type": "execute_result",
          "data": {
            "text/plain": [
              "<Axes: xlabel='merchant_title', ylabel='count'>"
            ]
          },
          "metadata": {},
          "execution_count": 182
        },
        {
          "output_type": "display_data",
          "data": {
            "text/plain": [
              "<Figure size 432x288 with 1 Axes>"
            ],
            "image/png": "[encoded data removed]"
          },
          "metadata": {
            "needs_background": "light"
          }
        }
      ]
    },
    {
      "cell_type": "markdown",
      "source": [
        " these columns (currency_buyer,crawl_month, theme,merchant_profile_picture,merchant_name, merchant_info_subtitle, merchant_idmerchant_rating,merchant_title)doesnt **add** any useful information "
      ],
      "metadata": {
        "id": "0VB6I_u1nBYz"
      }
    },
    {
      "cell_type": "code",
      "source": [
        "#Droping unuseful data\n",
        "df.drop('tags',axis='columns', inplace=True)\n",
        "df.drop('shipping_option_name',axis='columns', inplace=True)\n",
        "df.drop('merchant_title',axis='columns', inplace=True)\n",
        "df.drop('merchant_name',axis='columns', inplace=True)\n",
        "df.drop('merchant_info_subtitle',axis='columns', inplace=True)\n",
        "df.drop('merchant_profile_picture',axis='columns', inplace=True)\n",
        "df.drop('urgency_text',axis='columns', inplace=True)\n",
        "df.drop('currency_buyer',axis='columns', inplace=True)\n",
        "df.drop('merchant_id',axis='columns',inplace=True)\n",
        "df.drop('crawl_month',axis='columns', inplace=True)\n",
        "df.drop('theme',axis='columns', inplace=True)\n",
        "df.drop('id',axis='columns', inplace=True)\n",
        "\n",
        "\n"
      ],
      "metadata": {
        "id": "R-Hd-tuCj5HD"
      },
      "execution_count": 183,
      "outputs": []
    },
    {
      "cell_type": "code",
      "source": [
        "df.head()"
      ],
      "metadata": {
        "colab": {
          "base_uri": "https://localhost:8080/",
          "height": 299
        },
        "id": "ARxdBnRiDMOf",
        "outputId": "d3e02c5d-7b47-4f09-8906-791e973c67c1"
      },
      "execution_count": 184,
      "outputs": [
        {
          "output_type": "execute_result",
          "data": {
            "text/plain": [
              "   price  retail_price  units_sold  uses_ad_boosts  rating  rating_count  \\\n",
              "0   8.00             7       10000               1     4.0          1670   \n",
              "1   8.00             7        1000               0     4.0           843   \n",
              "2   6.00            34         100               0     4.0            10   \n",
              "3   4.67             4         100               1     3.0            82   \n",
              "4   8.00            11        1000               0     4.0           127   \n",
              "\n",
              "   badges_count  badge_local_product  badge_product_quality  \\\n",
              "0             0                    0                      0   \n",
              "1             1                    1                      0   \n",
              "2             0                    0                      0   \n",
              "3             0                    0                      0   \n",
              "4             0                    0                      0   \n",
              "\n",
              "   badge_fast_shipping  ... product_variation_inventory shipping_option_price  \\\n",
              "0                    0  ...                          50                     3   \n",
              "1                    0  ...                          50                     3   \n",
              "2                    0  ...                          50                     2   \n",
              "3                    0  ...                           5                     1   \n",
              "4                    0  ...                          50                     3   \n",
              "\n",
              "   shipping_is_express  countries_shipped_to  inventory_total  \\\n",
              "0                    0                    30               50   \n",
              "1                    0                    37               50   \n",
              "2                    0                    41               50   \n",
              "3                    0                    25               50   \n",
              "4                    0                    15               50   \n",
              "\n",
              "   has_urgency_banner  origin_country  merchant_rating_count merchant_rating  \\\n",
              "0                 0.0              CN                  66644        4.137582   \n",
              "1                 0.0              CN                  25752        4.256873   \n",
              "2                 0.0              CN                   3897        3.928920   \n",
              "3                 0.0              CN                   7497        4.079365   \n",
              "4                 1.0              CN                    173        4.306358   \n",
              "\n",
              "   merchant_has_profile_picture  \n",
              "0                             1  \n",
              "1                             0  \n",
              "2                             0  \n",
              "3                             0  \n",
              "4                             0  \n",
              "\n",
              "[5 rows x 22 columns]"
            ],
            "text/html": [
              "\n",
              "  <div id=\"df-70951f5b-966f-4a03-aa1d-51c7edf821c0\">\n",
              "    <div class=\"colab-df-container\">\n",
              "      <div>\n",
              "<style scoped>\n",
              "    .dataframe tbody tr th:only-of-type {\n",
              "        vertical-align: middle;\n",
              "    }\n",
              "\n",
              "    .dataframe tbody tr th {\n",
              "        vertical-align: top;\n",
              "    }\n",
              "\n",
              "    .dataframe thead th {\n",
              "        text-align: right;\n",
              "    }\n",
              "</style>\n",
              "<table border=\"1\" class=\"dataframe\">\n",
              "  <thead>\n",
              "    <tr style=\"text-align: right;\">\n",
              "      <th></th>\n",
              "      <th>price</th>\n",
              "      <th>retail_price</th>\n",
              "      <th>units_sold</th>\n",
              "      <th>uses_ad_boosts</th>\n",
              "      <th>rating</th>\n",
              "      <th>rating_count</th>\n",
              "      <th>badges_count</th>\n",
              "      <th>badge_local_product</th>\n",
              "      <th>badge_product_quality</th>\n",
              "      <th>badge_fast_shipping</th>\n",
              "      <th>...</th>\n",
              "      <th>product_variation_inventory</th>\n",
              "      <th>shipping_option_price</th>\n",
              "      <th>shipping_is_express</th>\n",
              "      <th>countries_shipped_to</th>\n",
              "      <th>inventory_total</th>\n",
              "      <th>has_urgency_banner</th>\n",
              "      <th>origin_country</th>\n",
              "      <th>merchant_rating_count</th>\n",
              "      <th>merchant_rating</th>\n",
              "      <th>merchant_has_profile_picture</th>\n",
              "    </tr>\n",
              "  </thead>\n",
              "  <tbody>\n",
              "    <tr>\n",
              "      <th>0</th>\n",
              "      <td>8.00</td>\n",
              "      <td>7</td>\n",
              "      <td>10000</td>\n",
              "      <td>1</td>\n",
              "      <td>4.0</td>\n",
              "      <td>1670</td>\n",
              "      <td>0</td>\n",
              "      <td>0</td>\n",
              "      <td>0</td>\n",
              "      <td>0</td>\n",
              "      <td>...</td>\n",
              "      <td>50</td>\n",
              "      <td>3</td>\n",
              "      <td>0</td>\n",
              "      <td>30</td>\n",
              "      <td>50</td>\n",
              "      <td>0.0</td>\n",
              "      <td>CN</td>\n",
              "      <td>66644</td>\n",
              "      <td>4.137582</td>\n",
              "      <td>1</td>\n",
              "    </tr>\n",
              "    <tr>\n",
              "      <th>1</th>\n",
              "      <td>8.00</td>\n",
              "      <td>7</td>\n",
              "      <td>1000</td>\n",
              "      <td>0</td>\n",
              "      <td>4.0</td>\n",
              "      <td>843</td>\n",
              "      <td>1</td>\n",
              "      <td>1</td>\n",
              "      <td>0</td>\n",
              "      <td>0</td>\n",
              "      <td>...</td>\n",
              "      <td>50</td>\n",
              "      <td>3</td>\n",
              "      <td>0</td>\n",
              "      <td>37</td>\n",
              "      <td>50</td>\n",
              "      <td>0.0</td>\n",
              "      <td>CN</td>\n",
              "      <td>25752</td>\n",
              "      <td>4.256873</td>\n",
              "      <td>0</td>\n",
              "    </tr>\n",
              "    <tr>\n",
              "      <th>2</th>\n",
              "      <td>6.00</td>\n",
              "      <td>34</td>\n",
              "      <td>100</td>\n",
              "      <td>0</td>\n",
              "      <td>4.0</td>\n",
              "      <td>10</td>\n",
              "      <td>0</td>\n",
              "      <td>0</td>\n",
              "      <td>0</td>\n",
              "      <td>0</td>\n",
              "      <td>...</td>\n",
              "      <td>50</td>\n",
              "      <td>2</td>\n",
              "      <td>0</td>\n",
              "      <td>41</td>\n",
              "      <td>50</td>\n",
              "      <td>0.0</td>\n",
              "      <td>CN</td>\n",
              "      <td>3897</td>\n",
              "      <td>3.928920</td>\n",
              "      <td>0</td>\n",
              "    </tr>\n",
              "    <tr>\n",
              "      <th>3</th>\n",
              "      <td>4.67</td>\n",
              "      <td>4</td>\n",
              "      <td>100</td>\n",
              "      <td>1</td>\n",
              "      <td>3.0</td>\n",
              "      <td>82</td>\n",
              "      <td>0</td>\n",
              "      <td>0</td>\n",
              "      <td>0</td>\n",
              "      <td>0</td>\n",
              "      <td>...</td>\n",
              "      <td>5</td>\n",
              "      <td>1</td>\n",
              "      <td>0</td>\n",
              "      <td>25</td>\n",
              "      <td>50</td>\n",
              "      <td>0.0</td>\n",
              "      <td>CN</td>\n",
              "      <td>7497</td>\n",
              "      <td>4.079365</td>\n",
              "      <td>0</td>\n",
              "    </tr>\n",
              "    <tr>\n",
              "      <th>4</th>\n",
              "      <td>8.00</td>\n",
              "      <td>11</td>\n",
              "      <td>1000</td>\n",
              "      <td>0</td>\n",
              "      <td>4.0</td>\n",
              "      <td>127</td>\n",
              "      <td>0</td>\n",
              "      <td>0</td>\n",
              "      <td>0</td>\n",
              "      <td>0</td>\n",
              "      <td>...</td>\n",
              "      <td>50</td>\n",
              "      <td>3</td>\n",
              "      <td>0</td>\n",
              "      <td>15</td>\n",
              "      <td>50</td>\n",
              "      <td>1.0</td>\n",
              "      <td>CN</td>\n",
              "      <td>173</td>\n",
              "      <td>4.306358</td>\n",
              "      <td>0</td>\n",
              "    </tr>\n",
              "  </tbody>\n",
              "</table>\n",
              "<p>5 rows × 22 columns</p>\n",
              "</div>\n",
              "      <button class=\"colab-df-convert\" onclick=\"convertToInteractive('df-70951f5b-966f-4a03-aa1d-51c7edf821c0')\"\n",
              "              title=\"Convert this dataframe to an interactive table.\"\n",
              "              style=\"display:none;\">\n",
              "        \n",
              "  <svg xmlns=\"http://www.w3.org/2000/svg\" height=\"24px\"viewBox=\"0 0 24 24\"\n",
              "       width=\"24px\">\n",
              "    <path d=\"M0 0h24v24H0V0z\" fill=\"none\"/>\n",
              "    <path d=\"M18.56 5.44l.94 2.06.94-2.06 2.06-.94-2.06-.94-.94-2.06-.94 2.06-2.06.94zm-11 1L8.5 8.5l.94-2.06 2.06-.94-2.06-.94L8.5 2.5l-.94 2.06-2.06.94zm10 10l.94 2.06.94-2.06 2.06-.94-2.06-.94-.94-2.06-.94 2.06-2.06.94z\"/><path d=\"M17.41 7.96l-1.37-1.37c-.4-.4-.92-.59-1.43-.59-.52 0-1.04.2-1.43.59L10.3 9.45l-7.72 7.72c-.78.78-.78 2.05 0 2.83L4 21.41c.39.39.9.59 1.41.59.51 0 1.02-.2 1.41-.59l7.78-7.78 2.81-2.81c.8-.78.8-2.07 0-2.86zM5.41 20L4 18.59l7.72-7.72 1.47 1.35L5.41 20z\"/>\n",
              "  </svg>\n",
              "      </button>\n",
              "      \n",
              "  <style>\n",
              "    .colab-df-container {\n",
              "      display:flex;\n",
              "      flex-wrap:wrap;\n",
              "      gap: 12px;\n",
              "    }\n",
              "\n",
              "    .colab-df-convert {\n",
              "      background-color: #E8F0FE;\n",
              "      border: none;\n",
              "      border-radius: 50%;\n",
              "      cursor: pointer;\n",
              "      display: none;\n",
              "      fill: #1967D2;\n",
              "      height: 32px;\n",
              "      padding: 0 0 0 0;\n",
              "      width: 32px;\n",
              "    }\n",
              "\n",
              "    .colab-df-convert:hover {\n",
              "      background-color: #E2EBFA;\n",
              "      box-shadow: 0px 1px 2px rgba(60, 64, 67, 0.3), 0px 1px 3px 1px rgba(60, 64, 67, 0.15);\n",
              "      fill: #174EA6;\n",
              "    }\n",
              "\n",
              "    [theme=dark] .colab-df-convert {\n",
              "      background-color: #3B4455;\n",
              "      fill: #D2E3FC;\n",
              "    }\n",
              "\n",
              "    [theme=dark] .colab-df-convert:hover {\n",
              "      background-color: #434B5C;\n",
              "      box-shadow: 0px 1px 3px 1px rgba(0, 0, 0, 0.15);\n",
              "      filter: drop-shadow(0px 1px 2px rgba(0, 0, 0, 0.3));\n",
              "      fill: #FFFFFF;\n",
              "    }\n",
              "  </style>\n",
              "\n",
              "      <script>\n",
              "        const buttonEl =\n",
              "          document.querySelector('#df-70951f5b-966f-4a03-aa1d-51c7edf821c0 button.colab-df-convert');\n",
              "        buttonEl.style.display =\n",
              "          google.colab.kernel.accessAllowed ? 'block' : 'none';\n",
              "\n",
              "        async function convertToInteractive(key) {\n",
              "          const element = document.querySelector('#df-70951f5b-966f-4a03-aa1d-51c7edf821c0');\n",
              "          const dataTable =\n",
              "            await google.colab.kernel.invokeFunction('convertToInteractive',\n",
              "                                                     [key], {});\n",
              "          if (!dataTable) return;\n",
              "\n",
              "          const docLinkHtml = 'Like what you see? Visit the ' +\n",
              "            '<a target=\"_blank\" href=https://colab.research.google.com/notebooks/data_table.ipynb>data table notebook</a>'\n",
              "            + ' to learn more about interactive tables.';\n",
              "          element.innerHTML = '';\n",
              "          dataTable['output_type'] = 'display_data';\n",
              "          await google.colab.output.renderOutput(dataTable, element);\n",
              "          const docLink = document.createElement('div');\n",
              "          docLink.innerHTML = docLinkHtml;\n",
              "          element.appendChild(docLink);\n",
              "        }\n",
              "      </script>\n",
              "    </div>\n",
              "  </div>\n",
              "  "
            ]
          },
          "metadata": {},
          "execution_count": 184
        }
      ]
    },
    {
      "cell_type": "code",
      "source": [
        "df.tail()"
      ],
      "metadata": {
        "colab": {
          "base_uri": "https://localhost:8080/",
          "height": 299
        },
        "id": "bK5voY4gDTsj",
        "outputId": "d04f8cca-ef29-4a16-b966-77cbbba04931"
      },
      "execution_count": 185,
      "outputs": [
        {
          "output_type": "execute_result",
          "data": {
            "text/plain": [
              "      price  retail_price  units_sold  uses_ad_boosts  rating  rating_count  \\\n",
              "1089    4.0             4       10000               0     4.0          2150   \n",
              "1090    5.0             5        1000               0     5.0           377   \n",
              "1091    9.0            48        1000               1     4.0           135   \n",
              "1092   11.0            10       10000               1     4.0          1479   \n",
              "1093    7.0             6        1000               1     3.0           141   \n",
              "\n",
              "      badges_count  badge_local_product  badge_product_quality  \\\n",
              "1089             0                    0                      0   \n",
              "1090             1                    0                      1   \n",
              "1091             0                    0                      0   \n",
              "1092             0                    0                      0   \n",
              "1093             0                    0                      0   \n",
              "\n",
              "      badge_fast_shipping  ... product_variation_inventory  \\\n",
              "1089                    0  ...                          50   \n",
              "1090                    0  ...                          31   \n",
              "1091                    0  ...                          50   \n",
              "1092                    0  ...                          50   \n",
              "1093                    0  ...                           7   \n",
              "\n",
              "     shipping_option_price  shipping_is_express  countries_shipped_to  \\\n",
              "1089                     1                    0                    41   \n",
              "1090                     2                    0                    35   \n",
              "1091                     3                    0                    25   \n",
              "1092                     2                    0                    45   \n",
              "1093                     2                    0                    23   \n",
              "\n",
              "      inventory_total  has_urgency_banner  origin_country  \\\n",
              "1089               50                 0.0              CN   \n",
              "1090               50                 0.0              CN   \n",
              "1091               50                 0.0              CN   \n",
              "1092               50                 1.0              CN   \n",
              "1093               50                 1.0              CN   \n",
              "\n",
              "      merchant_rating_count merchant_rating  merchant_has_profile_picture  \n",
              "1089                 230951        4.311066                             0  \n",
              "1090                   2904        4.422521                             0  \n",
              "1091                   6632        3.748794                             0  \n",
              "1092                   5816        3.936382                             0  \n",
              "1093                  12309        4.045170                             1  \n",
              "\n",
              "[5 rows x 22 columns]"
            ],
            "text/html": [
              "\n",
              "  <div id=\"df-59f3fafe-bcb0-41b8-bb98-91f00a81d146\">\n",
              "    <div class=\"colab-df-container\">\n",
              "      <div>\n",
              "<style scoped>\n",
              "    .dataframe tbody tr th:only-of-type {\n",
              "        vertical-align: middle;\n",
              "    }\n",
              "\n",
              "    .dataframe tbody tr th {\n",
              "        vertical-align: top;\n",
              "    }\n",
              "\n",
              "    .dataframe thead th {\n",
              "        text-align: right;\n",
              "    }\n",
              "</style>\n",
              "<table border=\"1\" class=\"dataframe\">\n",
              "  <thead>\n",
              "    <tr style=\"text-align: right;\">\n",
              "      <th></th>\n",
              "      <th>price</th>\n",
              "      <th>retail_price</th>\n",
              "      <th>units_sold</th>\n",
              "      <th>uses_ad_boosts</th>\n",
              "      <th>rating</th>\n",
              "      <th>rating_count</th>\n",
              "      <th>badges_count</th>\n",
              "      <th>badge_local_product</th>\n",
              "      <th>badge_product_quality</th>\n",
              "      <th>badge_fast_shipping</th>\n",
              "      <th>...</th>\n",
              "      <th>product_variation_inventory</th>\n",
              "      <th>shipping_option_price</th>\n",
              "      <th>shipping_is_express</th>\n",
              "      <th>countries_shipped_to</th>\n",
              "      <th>inventory_total</th>\n",
              "      <th>has_urgency_banner</th>\n",
              "      <th>origin_country</th>\n",
              "      <th>merchant_rating_count</th>\n",
              "      <th>merchant_rating</th>\n",
              "      <th>merchant_has_profile_picture</th>\n",
              "    </tr>\n",
              "  </thead>\n",
              "  <tbody>\n",
              "    <tr>\n",
              "      <th>1089</th>\n",
              "      <td>4.0</td>\n",
              "      <td>4</td>\n",
              "      <td>10000</td>\n",
              "      <td>0</td>\n",
              "      <td>4.0</td>\n",
              "      <td>2150</td>\n",
              "      <td>0</td>\n",
              "      <td>0</td>\n",
              "      <td>0</td>\n",
              "      <td>0</td>\n",
              "      <td>...</td>\n",
              "      <td>50</td>\n",
              "      <td>1</td>\n",
              "      <td>0</td>\n",
              "      <td>41</td>\n",
              "      <td>50</td>\n",
              "      <td>0.0</td>\n",
              "      <td>CN</td>\n",
              "      <td>230951</td>\n",
              "      <td>4.311066</td>\n",
              "      <td>0</td>\n",
              "    </tr>\n",
              "    <tr>\n",
              "      <th>1090</th>\n",
              "      <td>5.0</td>\n",
              "      <td>5</td>\n",
              "      <td>1000</td>\n",
              "      <td>0</td>\n",
              "      <td>5.0</td>\n",
              "      <td>377</td>\n",
              "      <td>1</td>\n",
              "      <td>0</td>\n",
              "      <td>1</td>\n",
              "      <td>0</td>\n",
              "      <td>...</td>\n",
              "      <td>31</td>\n",
              "      <td>2</td>\n",
              "      <td>0</td>\n",
              "      <td>35</td>\n",
              "      <td>50</td>\n",
              "      <td>0.0</td>\n",
              "      <td>CN</td>\n",
              "      <td>2904</td>\n",
              "      <td>4.422521</td>\n",
              "      <td>0</td>\n",
              "    </tr>\n",
              "    <tr>\n",
              "      <th>1091</th>\n",
              "      <td>9.0</td>\n",
              "      <td>48</td>\n",
              "      <td>1000</td>\n",
              "      <td>1</td>\n",
              "      <td>4.0</td>\n",
              "      <td>135</td>\n",
              "      <td>0</td>\n",
              "      <td>0</td>\n",
              "      <td>0</td>\n",
              "      <td>0</td>\n",
              "      <td>...</td>\n",
              "      <td>50</td>\n",
              "      <td>3</td>\n",
              "      <td>0</td>\n",
              "      <td>25</td>\n",
              "      <td>50</td>\n",
              "      <td>0.0</td>\n",
              "      <td>CN</td>\n",
              "      <td>6632</td>\n",
              "      <td>3.748794</td>\n",
              "      <td>0</td>\n",
              "    </tr>\n",
              "    <tr>\n",
              "      <th>1092</th>\n",
              "      <td>11.0</td>\n",
              "      <td>10</td>\n",
              "      <td>10000</td>\n",
              "      <td>1</td>\n",
              "      <td>4.0</td>\n",
              "      <td>1479</td>\n",
              "      <td>0</td>\n",
              "      <td>0</td>\n",
              "      <td>0</td>\n",
              "      <td>0</td>\n",
              "      <td>...</td>\n",
              "      <td>50</td>\n",
              "      <td>2</td>\n",
              "      <td>0</td>\n",
              "      <td>45</td>\n",
              "      <td>50</td>\n",
              "      <td>1.0</td>\n",
              "      <td>CN</td>\n",
              "      <td>5816</td>\n",
              "      <td>3.936382</td>\n",
              "      <td>0</td>\n",
              "    </tr>\n",
              "    <tr>\n",
              "      <th>1093</th>\n",
              "      <td>7.0</td>\n",
              "      <td>6</td>\n",
              "      <td>1000</td>\n",
              "      <td>1</td>\n",
              "      <td>3.0</td>\n",
              "      <td>141</td>\n",
              "      <td>0</td>\n",
              "      <td>0</td>\n",
              "      <td>0</td>\n",
              "      <td>0</td>\n",
              "      <td>...</td>\n",
              "      <td>7</td>\n",
              "      <td>2</td>\n",
              "      <td>0</td>\n",
              "      <td>23</td>\n",
              "      <td>50</td>\n",
              "      <td>1.0</td>\n",
              "      <td>CN</td>\n",
              "      <td>12309</td>\n",
              "      <td>4.045170</td>\n",
              "      <td>1</td>\n",
              "    </tr>\n",
              "  </tbody>\n",
              "</table>\n",
              "<p>5 rows × 22 columns</p>\n",
              "</div>\n",
              "      <button class=\"colab-df-convert\" onclick=\"convertToInteractive('df-59f3fafe-bcb0-41b8-bb98-91f00a81d146')\"\n",
              "              title=\"Convert this dataframe to an interactive table.\"\n",
              "              style=\"display:none;\">\n",
              "        \n",
              "  <svg xmlns=\"http://www.w3.org/2000/svg\" height=\"24px\"viewBox=\"0 0 24 24\"\n",
              "       width=\"24px\">\n",
              "    <path d=\"M0 0h24v24H0V0z\" fill=\"none\"/>\n",
              "    <path d=\"M18.56 5.44l.94 2.06.94-2.06 2.06-.94-2.06-.94-.94-2.06-.94 2.06-2.06.94zm-11 1L8.5 8.5l.94-2.06 2.06-.94-2.06-.94L8.5 2.5l-.94 2.06-2.06.94zm10 10l.94 2.06.94-2.06 2.06-.94-2.06-.94-.94-2.06-.94 2.06-2.06.94z\"/><path d=\"M17.41 7.96l-1.37-1.37c-.4-.4-.92-.59-1.43-.59-.52 0-1.04.2-1.43.59L10.3 9.45l-7.72 7.72c-.78.78-.78 2.05 0 2.83L4 21.41c.39.39.9.59 1.41.59.51 0 1.02-.2 1.41-.59l7.78-7.78 2.81-2.81c.8-.78.8-2.07 0-2.86zM5.41 20L4 18.59l7.72-7.72 1.47 1.35L5.41 20z\"/>\n",
              "  </svg>\n",
              "      </button>\n",
              "      \n",
              "  <style>\n",
              "    .colab-df-container {\n",
              "      display:flex;\n",
              "      flex-wrap:wrap;\n",
              "      gap: 12px;\n",
              "    }\n",
              "\n",
              "    .colab-df-convert {\n",
              "      background-color: #E8F0FE;\n",
              "      border: none;\n",
              "      border-radius: 50%;\n",
              "      cursor: pointer;\n",
              "      display: none;\n",
              "      fill: #1967D2;\n",
              "      height: 32px;\n",
              "      padding: 0 0 0 0;\n",
              "      width: 32px;\n",
              "    }\n",
              "\n",
              "    .colab-df-convert:hover {\n",
              "      background-color: #E2EBFA;\n",
              "      box-shadow: 0px 1px 2px rgba(60, 64, 67, 0.3), 0px 1px 3px 1px rgba(60, 64, 67, 0.15);\n",
              "      fill: #174EA6;\n",
              "    }\n",
              "\n",
              "    [theme=dark] .colab-df-convert {\n",
              "      background-color: #3B4455;\n",
              "      fill: #D2E3FC;\n",
              "    }\n",
              "\n",
              "    [theme=dark] .colab-df-convert:hover {\n",
              "      background-color: #434B5C;\n",
              "      box-shadow: 0px 1px 3px 1px rgba(0, 0, 0, 0.15);\n",
              "      filter: drop-shadow(0px 1px 2px rgba(0, 0, 0, 0.3));\n",
              "      fill: #FFFFFF;\n",
              "    }\n",
              "  </style>\n",
              "\n",
              "      <script>\n",
              "        const buttonEl =\n",
              "          document.querySelector('#df-59f3fafe-bcb0-41b8-bb98-91f00a81d146 button.colab-df-convert');\n",
              "        buttonEl.style.display =\n",
              "          google.colab.kernel.accessAllowed ? 'block' : 'none';\n",
              "\n",
              "        async function convertToInteractive(key) {\n",
              "          const element = document.querySelector('#df-59f3fafe-bcb0-41b8-bb98-91f00a81d146');\n",
              "          const dataTable =\n",
              "            await google.colab.kernel.invokeFunction('convertToInteractive',\n",
              "                                                     [key], {});\n",
              "          if (!dataTable) return;\n",
              "\n",
              "          const docLinkHtml = 'Like what you see? Visit the ' +\n",
              "            '<a target=\"_blank\" href=https://colab.research.google.com/notebooks/data_table.ipynb>data table notebook</a>'\n",
              "            + ' to learn more about interactive tables.';\n",
              "          element.innerHTML = '';\n",
              "          dataTable['output_type'] = 'display_data';\n",
              "          await google.colab.output.renderOutput(dataTable, element);\n",
              "          const docLink = document.createElement('div');\n",
              "          docLink.innerHTML = docLinkHtml;\n",
              "          element.appendChild(docLink);\n",
              "        }\n",
              "      </script>\n",
              "    </div>\n",
              "  </div>\n",
              "  "
            ]
          },
          "metadata": {},
          "execution_count": 185
        }
      ]
    },
    {
      "cell_type": "code",
      "source": [
        "#e missing values\n",
        "missing_values_count = df.isnull().sum()\n",
        "\n",
        "# look at the # of missing points in all columns\n",
        "missing_values_count[:]"
      ],
      "metadata": {
        "colab": {
          "base_uri": "https://localhost:8080/"
        },
        "id": "mU1C0GHwj5KR",
        "outputId": "55a14246-1915-4758-fb37-f5dcf86c329b"
      },
      "execution_count": 186,
      "outputs": [
        {
          "output_type": "execute_result",
          "data": {
            "text/plain": [
              "price                           0\n",
              "retail_price                    0\n",
              "units_sold                      0\n",
              "uses_ad_boosts                  0\n",
              "rating                          0\n",
              "rating_count                    0\n",
              "badges_count                    0\n",
              "badge_local_product             0\n",
              "badge_product_quality           0\n",
              "badge_fast_shipping             0\n",
              "product_color                   0\n",
              "product_variation_size_id       0\n",
              "product_variation_inventory     0\n",
              "shipping_option_price           0\n",
              "shipping_is_express             0\n",
              "countries_shipped_to            0\n",
              "inventory_total                 0\n",
              "has_urgency_banner              0\n",
              "origin_country                  0\n",
              "merchant_rating_count           0\n",
              "merchant_rating                 0\n",
              "merchant_has_profile_picture    0\n",
              "dtype: int64"
            ]
          },
          "metadata": {},
          "execution_count": 186
        }
      ]
    },
    {
      "cell_type": "code",
      "source": [
        "#One_hot encoding for categorical data\n",
        "df= pd.get_dummies(df)"
      ],
      "metadata": {
        "id": "WoMCnV4Op0f4"
      },
      "execution_count": 187,
      "outputs": []
    },
    {
      "cell_type": "markdown",
      "source": [
        "i drop the column in the down cell cause it appears in training data after get dummies but does not appear in test data annd this cause an error  😢"
      ],
      "metadata": {
        "id": "p6GXXYbNE-Xs"
      }
    },
    {
      "cell_type": "code",
      "source": [
        "df.drop(['origin_country_GB'],axis=1, inplace=True)\n"
      ],
      "metadata": {
        "id": "MxpIjVotLWv6"
      },
      "execution_count": 188,
      "outputs": []
    },
    {
      "cell_type": "code",
      "source": [
        "df.head()\n"
      ],
      "metadata": {
        "colab": {
          "base_uri": "https://localhost:8080/",
          "height": 299
        },
        "id": "kjqKDnpWp0hl",
        "outputId": "af2a7dd9-d430-48e6-e03b-39b42b73faf1"
      },
      "execution_count": 189,
      "outputs": [
        {
          "output_type": "execute_result",
          "data": {
            "text/plain": [
              "   price  retail_price  units_sold  uses_ad_boosts  rating  rating_count  \\\n",
              "0   8.00             7       10000               1     4.0          1670   \n",
              "1   8.00             7        1000               0     4.0           843   \n",
              "2   6.00            34         100               0     4.0            10   \n",
              "3   4.67             4         100               1     3.0            82   \n",
              "4   8.00            11        1000               0     4.0           127   \n",
              "\n",
              "   badges_count  badge_local_product  badge_product_quality  \\\n",
              "0             0                    0                      0   \n",
              "1             1                    1                      0   \n",
              "2             0                    0                      0   \n",
              "3             0                    0                      0   \n",
              "4             0                    0                      0   \n",
              "\n",
              "   badge_fast_shipping  ...  product_variation_size_id_Other  \\\n",
              "0                    0  ...                                0   \n",
              "1                    0  ...                                0   \n",
              "2                    0  ...                                0   \n",
              "3                    0  ...                                0   \n",
              "4                    0  ...                                0   \n",
              "\n",
              "   product_variation_size_id_S  product_variation_size_id_XL  \\\n",
              "0                            0                             0   \n",
              "1                            0                             0   \n",
              "2                            0                             0   \n",
              "3                            0                             0   \n",
              "4                            1                             0   \n",
              "\n",
              "   product_variation_size_id_XS  product_variation_size_id_XXL+  \\\n",
              "0                             0                               0   \n",
              "1                             0                               0   \n",
              "2                             0                               0   \n",
              "3                             1                               0   \n",
              "4                             0                               0   \n",
              "\n",
              "   product_variation_size_id_XXS+  origin_country_CN  origin_country_SG  \\\n",
              "0                               0                  1                  0   \n",
              "1                               0                  1                  0   \n",
              "2                               0                  1                  0   \n",
              "3                               0                  1                  0   \n",
              "4                               0                  1                  0   \n",
              "\n",
              "   origin_country_US  origin_country_VE  \n",
              "0                  0                  0  \n",
              "1                  0                  0  \n",
              "2                  0                  0  \n",
              "3                  0                  0  \n",
              "4                  0                  0  \n",
              "\n",
              "[5 rows x 44 columns]"
            ],
            "text/html": [
              "\n",
              "  <div id=\"df-166cee87-055b-414f-831e-b6ea45454899\">\n",
              "    <div class=\"colab-df-container\">\n",
              "      <div>\n",
              "<style scoped>\n",
              "    .dataframe tbody tr th:only-of-type {\n",
              "        vertical-align: middle;\n",
              "    }\n",
              "\n",
              "    .dataframe tbody tr th {\n",
              "        vertical-align: top;\n",
              "    }\n",
              "\n",
              "    .dataframe thead th {\n",
              "        text-align: right;\n",
              "    }\n",
              "</style>\n",
              "<table border=\"1\" class=\"dataframe\">\n",
              "  <thead>\n",
              "    <tr style=\"text-align: right;\">\n",
              "      <th></th>\n",
              "      <th>price</th>\n",
              "      <th>retail_price</th>\n",
              "      <th>units_sold</th>\n",
              "      <th>uses_ad_boosts</th>\n",
              "      <th>rating</th>\n",
              "      <th>rating_count</th>\n",
              "      <th>badges_count</th>\n",
              "      <th>badge_local_product</th>\n",
              "      <th>badge_product_quality</th>\n",
              "      <th>badge_fast_shipping</th>\n",
              "      <th>...</th>\n",
              "      <th>product_variation_size_id_Other</th>\n",
              "      <th>product_variation_size_id_S</th>\n",
              "      <th>product_variation_size_id_XL</th>\n",
              "      <th>product_variation_size_id_XS</th>\n",
              "      <th>product_variation_size_id_XXL+</th>\n",
              "      <th>product_variation_size_id_XXS+</th>\n",
              "      <th>origin_country_CN</th>\n",
              "      <th>origin_country_SG</th>\n",
              "      <th>origin_country_US</th>\n",
              "      <th>origin_country_VE</th>\n",
              "    </tr>\n",
              "  </thead>\n",
              "  <tbody>\n",
              "    <tr>\n",
              "      <th>0</th>\n",
              "      <td>8.00</td>\n",
              "      <td>7</td>\n",
              "      <td>10000</td>\n",
              "      <td>1</td>\n",
              "      <td>4.0</td>\n",
              "      <td>1670</td>\n",
              "      <td>0</td>\n",
              "      <td>0</td>\n",
              "      <td>0</td>\n",
              "      <td>0</td>\n",
              "      <td>...</td>\n",
              "      <td>0</td>\n",
              "      <td>0</td>\n",
              "      <td>0</td>\n",
              "      <td>0</td>\n",
              "      <td>0</td>\n",
              "      <td>0</td>\n",
              "      <td>1</td>\n",
              "      <td>0</td>\n",
              "      <td>0</td>\n",
              "      <td>0</td>\n",
              "    </tr>\n",
              "    <tr>\n",
              "      <th>1</th>\n",
              "      <td>8.00</td>\n",
              "      <td>7</td>\n",
              "      <td>1000</td>\n",
              "      <td>0</td>\n",
              "      <td>4.0</td>\n",
              "      <td>843</td>\n",
              "      <td>1</td>\n",
              "      <td>1</td>\n",
              "      <td>0</td>\n",
              "      <td>0</td>\n",
              "      <td>...</td>\n",
              "      <td>0</td>\n",
              "      <td>0</td>\n",
              "      <td>0</td>\n",
              "      <td>0</td>\n",
              "      <td>0</td>\n",
              "      <td>0</td>\n",
              "      <td>1</td>\n",
              "      <td>0</td>\n",
              "      <td>0</td>\n",
              "      <td>0</td>\n",
              "    </tr>\n",
              "    <tr>\n",
              "      <th>2</th>\n",
              "      <td>6.00</td>\n",
              "      <td>34</td>\n",
              "      <td>100</td>\n",
              "      <td>0</td>\n",
              "      <td>4.0</td>\n",
              "      <td>10</td>\n",
              "      <td>0</td>\n",
              "      <td>0</td>\n",
              "      <td>0</td>\n",
              "      <td>0</td>\n",
              "      <td>...</td>\n",
              "      <td>0</td>\n",
              "      <td>0</td>\n",
              "      <td>0</td>\n",
              "      <td>0</td>\n",
              "      <td>0</td>\n",
              "      <td>0</td>\n",
              "      <td>1</td>\n",
              "      <td>0</td>\n",
              "      <td>0</td>\n",
              "      <td>0</td>\n",
              "    </tr>\n",
              "    <tr>\n",
              "      <th>3</th>\n",
              "      <td>4.67</td>\n",
              "      <td>4</td>\n",
              "      <td>100</td>\n",
              "      <td>1</td>\n",
              "      <td>3.0</td>\n",
              "      <td>82</td>\n",
              "      <td>0</td>\n",
              "      <td>0</td>\n",
              "      <td>0</td>\n",
              "      <td>0</td>\n",
              "      <td>...</td>\n",
              "      <td>0</td>\n",
              "      <td>0</td>\n",
              "      <td>0</td>\n",
              "      <td>1</td>\n",
              "      <td>0</td>\n",
              "      <td>0</td>\n",
              "      <td>1</td>\n",
              "      <td>0</td>\n",
              "      <td>0</td>\n",
              "      <td>0</td>\n",
              "    </tr>\n",
              "    <tr>\n",
              "      <th>4</th>\n",
              "      <td>8.00</td>\n",
              "      <td>11</td>\n",
              "      <td>1000</td>\n",
              "      <td>0</td>\n",
              "      <td>4.0</td>\n",
              "      <td>127</td>\n",
              "      <td>0</td>\n",
              "      <td>0</td>\n",
              "      <td>0</td>\n",
              "      <td>0</td>\n",
              "      <td>...</td>\n",
              "      <td>0</td>\n",
              "      <td>1</td>\n",
              "      <td>0</td>\n",
              "      <td>0</td>\n",
              "      <td>0</td>\n",
              "      <td>0</td>\n",
              "      <td>1</td>\n",
              "      <td>0</td>\n",
              "      <td>0</td>\n",
              "      <td>0</td>\n",
              "    </tr>\n",
              "  </tbody>\n",
              "</table>\n",
              "<p>5 rows × 44 columns</p>\n",
              "</div>\n",
              "      <button class=\"colab-df-convert\" onclick=\"convertToInteractive('df-166cee87-055b-414f-831e-b6ea45454899')\"\n",
              "              title=\"Convert this dataframe to an interactive table.\"\n",
              "              style=\"display:none;\">\n",
              "        \n",
              "  <svg xmlns=\"http://www.w3.org/2000/svg\" height=\"24px\"viewBox=\"0 0 24 24\"\n",
              "       width=\"24px\">\n",
              "    <path d=\"M0 0h24v24H0V0z\" fill=\"none\"/>\n",
              "    <path d=\"M18.56 5.44l.94 2.06.94-2.06 2.06-.94-2.06-.94-.94-2.06-.94 2.06-2.06.94zm-11 1L8.5 8.5l.94-2.06 2.06-.94-2.06-.94L8.5 2.5l-.94 2.06-2.06.94zm10 10l.94 2.06.94-2.06 2.06-.94-2.06-.94-.94-2.06-.94 2.06-2.06.94z\"/><path d=\"M17.41 7.96l-1.37-1.37c-.4-.4-.92-.59-1.43-.59-.52 0-1.04.2-1.43.59L10.3 9.45l-7.72 7.72c-.78.78-.78 2.05 0 2.83L4 21.41c.39.39.9.59 1.41.59.51 0 1.02-.2 1.41-.59l7.78-7.78 2.81-2.81c.8-.78.8-2.07 0-2.86zM5.41 20L4 18.59l7.72-7.72 1.47 1.35L5.41 20z\"/>\n",
              "  </svg>\n",
              "      </button>\n",
              "      \n",
              "  <style>\n",
              "    .colab-df-container {\n",
              "      display:flex;\n",
              "      flex-wrap:wrap;\n",
              "      gap: 12px;\n",
              "    }\n",
              "\n",
              "    .colab-df-convert {\n",
              "      background-color: #E8F0FE;\n",
              "      border: none;\n",
              "      border-radius: 50%;\n",
              "      cursor: pointer;\n",
              "      display: none;\n",
              "      fill: #1967D2;\n",
              "      height: 32px;\n",
              "      padding: 0 0 0 0;\n",
              "      width: 32px;\n",
              "    }\n",
              "\n",
              "    .colab-df-convert:hover {\n",
              "      background-color: #E2EBFA;\n",
              "      box-shadow: 0px 1px 2px rgba(60, 64, 67, 0.3), 0px 1px 3px 1px rgba(60, 64, 67, 0.15);\n",
              "      fill: #174EA6;\n",
              "    }\n",
              "\n",
              "    [theme=dark] .colab-df-convert {\n",
              "      background-color: #3B4455;\n",
              "      fill: #D2E3FC;\n",
              "    }\n",
              "\n",
              "    [theme=dark] .colab-df-convert:hover {\n",
              "      background-color: #434B5C;\n",
              "      box-shadow: 0px 1px 3px 1px rgba(0, 0, 0, 0.15);\n",
              "      filter: drop-shadow(0px 1px 2px rgba(0, 0, 0, 0.3));\n",
              "      fill: #FFFFFF;\n",
              "    }\n",
              "  </style>\n",
              "\n",
              "      <script>\n",
              "        const buttonEl =\n",
              "          document.querySelector('#df-166cee87-055b-414f-831e-b6ea45454899 button.colab-df-convert');\n",
              "        buttonEl.style.display =\n",
              "          google.colab.kernel.accessAllowed ? 'block' : 'none';\n",
              "\n",
              "        async function convertToInteractive(key) {\n",
              "          const element = document.querySelector('#df-166cee87-055b-414f-831e-b6ea45454899');\n",
              "          const dataTable =\n",
              "            await google.colab.kernel.invokeFunction('convertToInteractive',\n",
              "                                                     [key], {});\n",
              "          if (!dataTable) return;\n",
              "\n",
              "          const docLinkHtml = 'Like what you see? Visit the ' +\n",
              "            '<a target=\"_blank\" href=https://colab.research.google.com/notebooks/data_table.ipynb>data table notebook</a>'\n",
              "            + ' to learn more about interactive tables.';\n",
              "          element.innerHTML = '';\n",
              "          dataTable['output_type'] = 'display_data';\n",
              "          await google.colab.output.renderOutput(dataTable, element);\n",
              "          const docLink = document.createElement('div');\n",
              "          docLink.innerHTML = docLinkHtml;\n",
              "          element.appendChild(docLink);\n",
              "        }\n",
              "      </script>\n",
              "    </div>\n",
              "  </div>\n",
              "  "
            ]
          },
          "metadata": {},
          "execution_count": 189
        }
      ]
    },
    {
      "cell_type": "code",
      "source": [
        "df.info()"
      ],
      "metadata": {
        "colab": {
          "base_uri": "https://localhost:8080/"
        },
        "id": "Nw3FscH5KZJo",
        "outputId": "0eca5cb8-05ee-48d9-bc96-55b77b3eba34"
      },
      "execution_count": 190,
      "outputs": [
        {
          "output_type": "stream",
          "name": "stdout",
          "text": [
            "<class 'pandas.core.frame.DataFrame'>\n",
            "Int64Index: 1093 entries, 0 to 1093\n",
            "Data columns (total 44 columns):\n",
            " #   Column                           Non-Null Count  Dtype  \n",
            "---  ------                           --------------  -----  \n",
            " 0   price                            1093 non-null   float64\n",
            " 1   retail_price                     1093 non-null   int64  \n",
            " 2   units_sold                       1093 non-null   int64  \n",
            " 3   uses_ad_boosts                   1093 non-null   int64  \n",
            " 4   rating                           1093 non-null   float64\n",
            " 5   rating_count                     1093 non-null   int64  \n",
            " 6   badges_count                     1093 non-null   int64  \n",
            " 7   badge_local_product              1093 non-null   int64  \n",
            " 8   badge_product_quality            1093 non-null   int64  \n",
            " 9   badge_fast_shipping              1093 non-null   int64  \n",
            " 10  product_variation_inventory      1093 non-null   int64  \n",
            " 11  shipping_option_price            1093 non-null   int64  \n",
            " 12  shipping_is_express              1093 non-null   int64  \n",
            " 13  countries_shipped_to             1093 non-null   int64  \n",
            " 14  inventory_total                  1093 non-null   int64  \n",
            " 15  has_urgency_banner               1093 non-null   float64\n",
            " 16  merchant_rating_count            1093 non-null   int64  \n",
            " 17  merchant_rating                  1093 non-null   float64\n",
            " 18  merchant_has_profile_picture     1093 non-null   int64  \n",
            " 19  product_color_black              1093 non-null   uint8  \n",
            " 20  product_color_blue               1093 non-null   uint8  \n",
            " 21  product_color_brown              1093 non-null   uint8  \n",
            " 22  product_color_dual               1093 non-null   uint8  \n",
            " 23  product_color_green              1093 non-null   uint8  \n",
            " 24  product_color_grey               1093 non-null   uint8  \n",
            " 25  product_color_orange             1093 non-null   uint8  \n",
            " 26  product_color_other              1093 non-null   uint8  \n",
            " 27  product_color_pink               1093 non-null   uint8  \n",
            " 28  product_color_purple             1093 non-null   uint8  \n",
            " 29  product_color_red                1093 non-null   uint8  \n",
            " 30  product_color_white              1093 non-null   uint8  \n",
            " 31  product_color_yellow             1093 non-null   uint8  \n",
            " 32  product_variation_size_id_L      1093 non-null   uint8  \n",
            " 33  product_variation_size_id_M      1093 non-null   uint8  \n",
            " 34  product_variation_size_id_Other  1093 non-null   uint8  \n",
            " 35  product_variation_size_id_S      1093 non-null   uint8  \n",
            " 36  product_variation_size_id_XL     1093 non-null   uint8  \n",
            " 37  product_variation_size_id_XS     1093 non-null   uint8  \n",
            " 38  product_variation_size_id_XXL+   1093 non-null   uint8  \n",
            " 39  product_variation_size_id_XXS+   1093 non-null   uint8  \n",
            " 40  origin_country_CN                1093 non-null   uint8  \n",
            " 41  origin_country_SG                1093 non-null   uint8  \n",
            " 42  origin_country_US                1093 non-null   uint8  \n",
            " 43  origin_country_VE                1093 non-null   uint8  \n",
            "dtypes: float64(4), int64(15), uint8(25)\n",
            "memory usage: 197.5 KB\n"
          ]
        }
      ]
    },
    {
      "cell_type": "code",
      "source": [
        "#Defining the labels and the features of our train dataset \n",
        "Xtrain=df.loc[:,df.columns!='rating']\n",
        "Ytrain = df.rating"
      ],
      "metadata": {
        "id": "ks8yij7Bp0kn"
      },
      "execution_count": 191,
      "outputs": []
    },
    {
      "cell_type": "code",
      "source": [
        "Xtrain.shape"
      ],
      "metadata": {
        "colab": {
          "base_uri": "https://localhost:8080/"
        },
        "id": "aiChd3_MKk8h",
        "outputId": "ff990d0f-b93c-422d-cd96-560d26f186f2"
      },
      "execution_count": 192,
      "outputs": [
        {
          "output_type": "execute_result",
          "data": {
            "text/plain": [
              "(1093, 43)"
            ]
          },
          "metadata": {},
          "execution_count": 192
        }
      ]
    },
    {
      "cell_type": "code",
      "source": [
        "Ytrain.shape"
      ],
      "metadata": {
        "colab": {
          "base_uri": "https://localhost:8080/"
        },
        "id": "hIxbmUA2NWcN",
        "outputId": "fd861c82-360f-469d-90fa-fcc13e8b7f8b"
      },
      "execution_count": 193,
      "outputs": [
        {
          "output_type": "execute_result",
          "data": {
            "text/plain": [
              "(1093,)"
            ]
          },
          "metadata": {},
          "execution_count": 193
        }
      ]
    },
    {
      "cell_type": "code",
      "source": [
        "from sklearn.preprocessing import MinMaxScaler\n",
        "#Scaling \n",
        "scaler = MinMaxScaler()\n",
        "Xtrain = scaler.fit_transform(Xtrain)"
      ],
      "metadata": {
        "id": "dzLukcGvp0mt"
      },
      "execution_count": 194,
      "outputs": []
    },
    {
      "cell_type": "markdown",
      "source": [
        "** DecisionTreeClassifier**"
      ],
      "metadata": {
        "id": "hz-42XqquIEm"
      }
    },
    {
      "cell_type": "code",
      "source": [
        "from sklearn.model_selection import GridSearchCV #importing GidSearchCv\n",
        "from sklearn import tree #importing tree \n",
        "from sklearn.tree import DecisionTreeClassifier #importing DecisionTreeClassifier\n",
        "#Using gridsearch to find the best parameters\n",
        "param_grid = {'criterion' :['gini', 'entropy'],\n",
        "              'max_depth' : [2,4,6,7,8,10,12,14,16]\n",
        "             }\n",
        "clf = DecisionTreeClassifier(random_state=1024)\n",
        "grid_search = GridSearchCV(estimator=clf, param_grid=param_grid, cv=16, verbose=True)\n",
        "grid_search.fit(Xtrain, Ytrain)"
      ],
      "metadata": {
        "colab": {
          "base_uri": "https://localhost:8080/",
          "height": 224
        },
        "id": "PIEaNN6Up0si",
        "outputId": "6233531d-38f7-46ad-a494-6b670ce5ea27"
      },
      "execution_count": 195,
      "outputs": [
        {
          "output_type": "stream",
          "name": "stdout",
          "text": [
            "Fitting 16 folds for each of 18 candidates, totalling 288 fits\n"
          ]
        },
        {
          "output_type": "stream",
          "name": "stderr",
          "text": [
            "/usr/local/lib/python3.9/dist-packages/sklearn/model_selection/_split.py:700: UserWarning:\n",
            "\n",
            "The least populated class in y has only 2 members, which is less than n_splits=16.\n",
            "\n"
          ]
        },
        {
          "output_type": "execute_result",
          "data": {
            "text/plain": [
              "GridSearchCV(cv=16, estimator=DecisionTreeClassifier(random_state=1024),\n",
              "             param_grid={'criterion': ['gini', 'entropy'],\n",
              "                         'max_depth': [2, 4, 6, 7, 8, 10, 12, 14, 16]},\n",
              "             verbose=True)"
            ],
            "text/html": [
              "<style>#sk-container-id-9 {color: black;background-color: white;}#sk-container-id-9 pre{padding: 0;}#sk-container-id-9 div.sk-toggleable {background-color: white;}#sk-container-id-9 label.sk-toggleable__label {cursor: pointer;display: block;width: 100%;margin-bottom: 0;padding: 0.3em;box-sizing: border-box;text-align: center;}#sk-container-id-9 label.sk-toggleable__label-arrow:before {content: \"▸\";float: left;margin-right: 0.25em;color: #696969;}#sk-container-id-9 label.sk-toggleable__label-arrow:hover:before {color: black;}#sk-container-id-9 div.sk-estimator:hover label.sk-toggleable__label-arrow:before {color: black;}#sk-container-id-9 div.sk-toggleable__content {max-height: 0;max-width: 0;overflow: hidden;text-align: left;background-color: #f0f8ff;}#sk-container-id-9 div.sk-toggleable__content pre {margin: 0.2em;color: black;border-radius: 0.25em;background-color: #f0f8ff;}#sk-container-id-9 input.sk-toggleable__control:checked~div.sk-toggleable__content {max-height: 200px;max-width: 100%;overflow: auto;}#sk-container-id-9 input.sk-toggleable__control:checked~label.sk-toggleable__label-arrow:before {content: \"▾\";}#sk-container-id-9 div.sk-estimator input.sk-toggleable__control:checked~label.sk-toggleable__label {background-color: #d4ebff;}#sk-container-id-9 div.sk-label input.sk-toggleable__control:checked~label.sk-toggleable__label {background-color: #d4ebff;}#sk-container-id-9 input.sk-hidden--visually {border: 0;clip: rect(1px 1px 1px 1px);clip: rect(1px, 1px, 1px, 1px);height: 1px;margin: -1px;overflow: hidden;padding: 0;position: absolute;width: 1px;}#sk-container-id-9 div.sk-estimator {font-family: monospace;background-color: #f0f8ff;border: 1px dotted black;border-radius: 0.25em;box-sizing: border-box;margin-bottom: 0.5em;}#sk-container-id-9 div.sk-estimator:hover {background-color: #d4ebff;}#sk-container-id-9 div.sk-parallel-item::after {content: \"\";width: 100%;border-bottom: 1px solid gray;flex-grow: 1;}#sk-container-id-9 div.sk-label:hover label.sk-toggleable__label {background-color: #d4ebff;}#sk-container-id-9 div.sk-serial::before {content: \"\";position: absolute;border-left: 1px solid gray;box-sizing: border-box;top: 0;bottom: 0;left: 50%;z-index: 0;}#sk-container-id-9 div.sk-serial {display: flex;flex-direction: column;align-items: center;background-color: white;padding-right: 0.2em;padding-left: 0.2em;position: relative;}#sk-container-id-9 div.sk-item {position: relative;z-index: 1;}#sk-container-id-9 div.sk-parallel {display: flex;align-items: stretch;justify-content: center;background-color: white;position: relative;}#sk-container-id-9 div.sk-item::before, #sk-container-id-9 div.sk-parallel-item::before {content: \"\";position: absolute;border-left: 1px solid gray;box-sizing: border-box;top: 0;bottom: 0;left: 50%;z-index: -1;}#sk-container-id-9 div.sk-parallel-item {display: flex;flex-direction: column;z-index: 1;position: relative;background-color: white;}#sk-container-id-9 div.sk-parallel-item:first-child::after {align-self: flex-end;width: 50%;}#sk-container-id-9 div.sk-parallel-item:last-child::after {align-self: flex-start;width: 50%;}#sk-container-id-9 div.sk-parallel-item:only-child::after {width: 0;}#sk-container-id-9 div.sk-dashed-wrapped {border: 1px dashed gray;margin: 0 0.4em 0.5em 0.4em;box-sizing: border-box;padding-bottom: 0.4em;background-color: white;}#sk-container-id-9 div.sk-label label {font-family: monospace;font-weight: bold;display: inline-block;line-height: 1.2em;}#sk-container-id-9 div.sk-label-container {text-align: center;}#sk-container-id-9 div.sk-container {/* jupyter's `normalize.less` sets `[hidden] { display: none; }` but bootstrap.min.css set `[hidden] { display: none !important; }` so we also need the `!important` here to be able to override the default hidden behavior on the sphinx rendered scikit-learn.org. See: https://github.com/scikit-learn/scikit-learn/issues/21755 */display: inline-block !important;position: relative;}#sk-container-id-9 div.sk-text-repr-fallback {display: none;}</style><div id=\"sk-container-id-9\" class=\"sk-top-container\"><div class=\"sk-text-repr-fallback\"><pre>GridSearchCV(cv=16, estimator=DecisionTreeClassifier(random_state=1024),\n",
              "             param_grid={&#x27;criterion&#x27;: [&#x27;gini&#x27;, &#x27;entropy&#x27;],\n",
              "                         &#x27;max_depth&#x27;: [2, 4, 6, 7, 8, 10, 12, 14, 16]},\n",
              "             verbose=True)</pre><b>In a Jupyter environment, please rerun this cell to show the HTML representation or trust the notebook. <br />On GitHub, the HTML representation is unable to render, please try loading this page with nbviewer.org.</b></div><div class=\"sk-container\" hidden><div class=\"sk-item sk-dashed-wrapped\"><div class=\"sk-label-container\"><div class=\"sk-label sk-toggleable\"><input class=\"sk-toggleable__control sk-hidden--visually\" id=\"sk-estimator-id-13\" type=\"checkbox\" ><label for=\"sk-estimator-id-13\" class=\"sk-toggleable__label sk-toggleable__label-arrow\">GridSearchCV</label><div class=\"sk-toggleable__content\"><pre>GridSearchCV(cv=16, estimator=DecisionTreeClassifier(random_state=1024),\n",
              "             param_grid={&#x27;criterion&#x27;: [&#x27;gini&#x27;, &#x27;entropy&#x27;],\n",
              "                         &#x27;max_depth&#x27;: [2, 4, 6, 7, 8, 10, 12, 14, 16]},\n",
              "             verbose=True)</pre></div></div></div><div class=\"sk-parallel\"><div class=\"sk-parallel-item\"><div class=\"sk-item\"><div class=\"sk-label-container\"><div class=\"sk-label sk-toggleable\"><input class=\"sk-toggleable__control sk-hidden--visually\" id=\"sk-estimator-id-14\" type=\"checkbox\" ><label for=\"sk-estimator-id-14\" class=\"sk-toggleable__label sk-toggleable__label-arrow\">estimator: DecisionTreeClassifier</label><div class=\"sk-toggleable__content\"><pre>DecisionTreeClassifier(random_state=1024)</pre></div></div></div><div class=\"sk-serial\"><div class=\"sk-item\"><div class=\"sk-estimator sk-toggleable\"><input class=\"sk-toggleable__control sk-hidden--visually\" id=\"sk-estimator-id-15\" type=\"checkbox\" ><label for=\"sk-estimator-id-15\" class=\"sk-toggleable__label sk-toggleable__label-arrow\">DecisionTreeClassifier</label><div class=\"sk-toggleable__content\"><pre>DecisionTreeClassifier(random_state=1024)</pre></div></div></div></div></div></div></div></div></div></div>"
            ]
          },
          "metadata": {},
          "execution_count": 195
        }
      ]
    },
    {
      "cell_type": "code",
      "source": [
        "print(grid_search.best_params_, '\\n' , grid_search.best_estimator_, '\\n The best score is :', grid_search.best_score_)\n"
      ],
      "metadata": {
        "colab": {
          "base_uri": "https://localhost:8080/"
        },
        "id": "A5i7ig3crmB5",
        "outputId": "40c723ca-654c-4ad5-960b-0f6f9d1fdc04"
      },
      "execution_count": 196,
      "outputs": [
        {
          "output_type": "stream",
          "name": "stdout",
          "text": [
            "{'criterion': 'gini', 'max_depth': 4} \n",
            " DecisionTreeClassifier(max_depth=4, random_state=1024) \n",
            " The best score is : 0.7876705029838021\n"
          ]
        }
      ]
    },
    {
      "cell_type": "code",
      "source": [
        "#Building a decison tree model using these parameters\n",
        "clf = DecisionTreeClassifier(criterion=\"gini\", max_depth=4, random_state=1024)\n",
        "clf.fit(Xtrain,Ytrain) #Fitting the model with our samples of the train dataset"
      ],
      "metadata": {
        "colab": {
          "base_uri": "https://localhost:8080/",
          "height": 74
        },
        "id": "-mPSN-MDrmDk",
        "outputId": "fc81ce9f-0a39-4941-87ba-1bb30fc54ca7"
      },
      "execution_count": 197,
      "outputs": [
        {
          "output_type": "execute_result",
          "data": {
            "text/plain": [
              "DecisionTreeClassifier(max_depth=4, random_state=1024)"
            ],
            "text/html": [
              "<style>#sk-container-id-10 {color: black;background-color: white;}#sk-container-id-10 pre{padding: 0;}#sk-container-id-10 div.sk-toggleable {background-color: white;}#sk-container-id-10 label.sk-toggleable__label {cursor: pointer;display: block;width: 100%;margin-bottom: 0;padding: 0.3em;box-sizing: border-box;text-align: center;}#sk-container-id-10 label.sk-toggleable__label-arrow:before {content: \"▸\";float: left;margin-right: 0.25em;color: #696969;}#sk-container-id-10 label.sk-toggleable__label-arrow:hover:before {color: black;}#sk-container-id-10 div.sk-estimator:hover label.sk-toggleable__label-arrow:before {color: black;}#sk-container-id-10 div.sk-toggleable__content {max-height: 0;max-width: 0;overflow: hidden;text-align: left;background-color: #f0f8ff;}#sk-container-id-10 div.sk-toggleable__content pre {margin: 0.2em;color: black;border-radius: 0.25em;background-color: #f0f8ff;}#sk-container-id-10 input.sk-toggleable__control:checked~div.sk-toggleable__content {max-height: 200px;max-width: 100%;overflow: auto;}#sk-container-id-10 input.sk-toggleable__control:checked~label.sk-toggleable__label-arrow:before {content: \"▾\";}#sk-container-id-10 div.sk-estimator input.sk-toggleable__control:checked~label.sk-toggleable__label {background-color: #d4ebff;}#sk-container-id-10 div.sk-label input.sk-toggleable__control:checked~label.sk-toggleable__label {background-color: #d4ebff;}#sk-container-id-10 input.sk-hidden--visually {border: 0;clip: rect(1px 1px 1px 1px);clip: rect(1px, 1px, 1px, 1px);height: 1px;margin: -1px;overflow: hidden;padding: 0;position: absolute;width: 1px;}#sk-container-id-10 div.sk-estimator {font-family: monospace;background-color: #f0f8ff;border: 1px dotted black;border-radius: 0.25em;box-sizing: border-box;margin-bottom: 0.5em;}#sk-container-id-10 div.sk-estimator:hover {background-color: #d4ebff;}#sk-container-id-10 div.sk-parallel-item::after {content: \"\";width: 100%;border-bottom: 1px solid gray;flex-grow: 1;}#sk-container-id-10 div.sk-label:hover label.sk-toggleable__label {background-color: #d4ebff;}#sk-container-id-10 div.sk-serial::before {content: \"\";position: absolute;border-left: 1px solid gray;box-sizing: border-box;top: 0;bottom: 0;left: 50%;z-index: 0;}#sk-container-id-10 div.sk-serial {display: flex;flex-direction: column;align-items: center;background-color: white;padding-right: 0.2em;padding-left: 0.2em;position: relative;}#sk-container-id-10 div.sk-item {position: relative;z-index: 1;}#sk-container-id-10 div.sk-parallel {display: flex;align-items: stretch;justify-content: center;background-color: white;position: relative;}#sk-container-id-10 div.sk-item::before, #sk-container-id-10 div.sk-parallel-item::before {content: \"\";position: absolute;border-left: 1px solid gray;box-sizing: border-box;top: 0;bottom: 0;left: 50%;z-index: -1;}#sk-container-id-10 div.sk-parallel-item {display: flex;flex-direction: column;z-index: 1;position: relative;background-color: white;}#sk-container-id-10 div.sk-parallel-item:first-child::after {align-self: flex-end;width: 50%;}#sk-container-id-10 div.sk-parallel-item:last-child::after {align-self: flex-start;width: 50%;}#sk-container-id-10 div.sk-parallel-item:only-child::after {width: 0;}#sk-container-id-10 div.sk-dashed-wrapped {border: 1px dashed gray;margin: 0 0.4em 0.5em 0.4em;box-sizing: border-box;padding-bottom: 0.4em;background-color: white;}#sk-container-id-10 div.sk-label label {font-family: monospace;font-weight: bold;display: inline-block;line-height: 1.2em;}#sk-container-id-10 div.sk-label-container {text-align: center;}#sk-container-id-10 div.sk-container {/* jupyter's `normalize.less` sets `[hidden] { display: none; }` but bootstrap.min.css set `[hidden] { display: none !important; }` so we also need the `!important` here to be able to override the default hidden behavior on the sphinx rendered scikit-learn.org. See: https://github.com/scikit-learn/scikit-learn/issues/21755 */display: inline-block !important;position: relative;}#sk-container-id-10 div.sk-text-repr-fallback {display: none;}</style><div id=\"sk-container-id-10\" class=\"sk-top-container\"><div class=\"sk-text-repr-fallback\"><pre>DecisionTreeClassifier(max_depth=4, random_state=1024)</pre><b>In a Jupyter environment, please rerun this cell to show the HTML representation or trust the notebook. <br />On GitHub, the HTML representation is unable to render, please try loading this page with nbviewer.org.</b></div><div class=\"sk-container\" hidden><div class=\"sk-item\"><div class=\"sk-estimator sk-toggleable\"><input class=\"sk-toggleable__control sk-hidden--visually\" id=\"sk-estimator-id-16\" type=\"checkbox\" checked><label for=\"sk-estimator-id-16\" class=\"sk-toggleable__label sk-toggleable__label-arrow\">DecisionTreeClassifier</label><div class=\"sk-toggleable__content\"><pre>DecisionTreeClassifier(max_depth=4, random_state=1024)</pre></div></div></div></div></div>"
            ]
          },
          "metadata": {},
          "execution_count": 197
        }
      ]
    },
    {
      "cell_type": "markdown",
      "source": [
        "**Support vector model**"
      ],
      "metadata": {
        "id": "LnOIcLdCt_zs"
      }
    },
    {
      "cell_type": "code",
      "source": [
        "#Building Svm model\n",
        "from sklearn.svm import SVC\n",
        "from sklearn.metrics import accuracy_score\n",
        "\n",
        "svm = SVC(kernel='linear', gamma=0.001, C=10)\n",
        "svm.fit(Xtrain,Ytrain)"
      ],
      "metadata": {
        "id": "c1xxBTYormIN",
        "colab": {
          "base_uri": "https://localhost:8080/",
          "height": 74
        },
        "outputId": "f6385fb0-e185-44c1-d6c2-2b6094fc8b21"
      },
      "execution_count": 198,
      "outputs": [
        {
          "output_type": "execute_result",
          "data": {
            "text/plain": [
              "SVC(C=10, gamma=0.001, kernel='linear')"
            ],
            "text/html": [
              "<style>#sk-container-id-11 {color: black;background-color: white;}#sk-container-id-11 pre{padding: 0;}#sk-container-id-11 div.sk-toggleable {background-color: white;}#sk-container-id-11 label.sk-toggleable__label {cursor: pointer;display: block;width: 100%;margin-bottom: 0;padding: 0.3em;box-sizing: border-box;text-align: center;}#sk-container-id-11 label.sk-toggleable__label-arrow:before {content: \"▸\";float: left;margin-right: 0.25em;color: #696969;}#sk-container-id-11 label.sk-toggleable__label-arrow:hover:before {color: black;}#sk-container-id-11 div.sk-estimator:hover label.sk-toggleable__label-arrow:before {color: black;}#sk-container-id-11 div.sk-toggleable__content {max-height: 0;max-width: 0;overflow: hidden;text-align: left;background-color: #f0f8ff;}#sk-container-id-11 div.sk-toggleable__content pre {margin: 0.2em;color: black;border-radius: 0.25em;background-color: #f0f8ff;}#sk-container-id-11 input.sk-toggleable__control:checked~div.sk-toggleable__content {max-height: 200px;max-width: 100%;overflow: auto;}#sk-container-id-11 input.sk-toggleable__control:checked~label.sk-toggleable__label-arrow:before {content: \"▾\";}#sk-container-id-11 div.sk-estimator input.sk-toggleable__control:checked~label.sk-toggleable__label {background-color: #d4ebff;}#sk-container-id-11 div.sk-label input.sk-toggleable__control:checked~label.sk-toggleable__label {background-color: #d4ebff;}#sk-container-id-11 input.sk-hidden--visually {border: 0;clip: rect(1px 1px 1px 1px);clip: rect(1px, 1px, 1px, 1px);height: 1px;margin: -1px;overflow: hidden;padding: 0;position: absolute;width: 1px;}#sk-container-id-11 div.sk-estimator {font-family: monospace;background-color: #f0f8ff;border: 1px dotted black;border-radius: 0.25em;box-sizing: border-box;margin-bottom: 0.5em;}#sk-container-id-11 div.sk-estimator:hover {background-color: #d4ebff;}#sk-container-id-11 div.sk-parallel-item::after {content: \"\";width: 100%;border-bottom: 1px solid gray;flex-grow: 1;}#sk-container-id-11 div.sk-label:hover label.sk-toggleable__label {background-color: #d4ebff;}#sk-container-id-11 div.sk-serial::before {content: \"\";position: absolute;border-left: 1px solid gray;box-sizing: border-box;top: 0;bottom: 0;left: 50%;z-index: 0;}#sk-container-id-11 div.sk-serial {display: flex;flex-direction: column;align-items: center;background-color: white;padding-right: 0.2em;padding-left: 0.2em;position: relative;}#sk-container-id-11 div.sk-item {position: relative;z-index: 1;}#sk-container-id-11 div.sk-parallel {display: flex;align-items: stretch;justify-content: center;background-color: white;position: relative;}#sk-container-id-11 div.sk-item::before, #sk-container-id-11 div.sk-parallel-item::before {content: \"\";position: absolute;border-left: 1px solid gray;box-sizing: border-box;top: 0;bottom: 0;left: 50%;z-index: -1;}#sk-container-id-11 div.sk-parallel-item {display: flex;flex-direction: column;z-index: 1;position: relative;background-color: white;}#sk-container-id-11 div.sk-parallel-item:first-child::after {align-self: flex-end;width: 50%;}#sk-container-id-11 div.sk-parallel-item:last-child::after {align-self: flex-start;width: 50%;}#sk-container-id-11 div.sk-parallel-item:only-child::after {width: 0;}#sk-container-id-11 div.sk-dashed-wrapped {border: 1px dashed gray;margin: 0 0.4em 0.5em 0.4em;box-sizing: border-box;padding-bottom: 0.4em;background-color: white;}#sk-container-id-11 div.sk-label label {font-family: monospace;font-weight: bold;display: inline-block;line-height: 1.2em;}#sk-container-id-11 div.sk-label-container {text-align: center;}#sk-container-id-11 div.sk-container {/* jupyter's `normalize.less` sets `[hidden] { display: none; }` but bootstrap.min.css set `[hidden] { display: none !important; }` so we also need the `!important` here to be able to override the default hidden behavior on the sphinx rendered scikit-learn.org. See: https://github.com/scikit-learn/scikit-learn/issues/21755 */display: inline-block !important;position: relative;}#sk-container-id-11 div.sk-text-repr-fallback {display: none;}</style><div id=\"sk-container-id-11\" class=\"sk-top-container\"><div class=\"sk-text-repr-fallback\"><pre>SVC(C=10, gamma=0.001, kernel=&#x27;linear&#x27;)</pre><b>In a Jupyter environment, please rerun this cell to show the HTML representation or trust the notebook. <br />On GitHub, the HTML representation is unable to render, please try loading this page with nbviewer.org.</b></div><div class=\"sk-container\" hidden><div class=\"sk-item\"><div class=\"sk-estimator sk-toggleable\"><input class=\"sk-toggleable__control sk-hidden--visually\" id=\"sk-estimator-id-17\" type=\"checkbox\" checked><label for=\"sk-estimator-id-17\" class=\"sk-toggleable__label sk-toggleable__label-arrow\">SVC</label><div class=\"sk-toggleable__content\"><pre>SVC(C=10, gamma=0.001, kernel=&#x27;linear&#x27;)</pre></div></div></div></div></div>"
            ]
          },
          "metadata": {},
          "execution_count": 198
        }
      ]
    },
    {
      "cell_type": "code",
      "source": [
        "#Building a naive bayes \n",
        "from sklearn.naive_bayes import ComplementNB\n",
        "gnb = ComplementNB()\n",
        "gnb.fit(Xtrain,Ytrain)"
      ],
      "metadata": {
        "id": "nXfHhYK74Zoj",
        "colab": {
          "base_uri": "https://localhost:8080/",
          "height": 74
        },
        "outputId": "b654944f-c871-4d31-8a25-fbe4c95ffefb"
      },
      "execution_count": 199,
      "outputs": [
        {
          "output_type": "execute_result",
          "data": {
            "text/plain": [
              "ComplementNB()"
            ],
            "text/html": [
              "<style>#sk-container-id-12 {color: black;background-color: white;}#sk-container-id-12 pre{padding: 0;}#sk-container-id-12 div.sk-toggleable {background-color: white;}#sk-container-id-12 label.sk-toggleable__label {cursor: pointer;display: block;width: 100%;margin-bottom: 0;padding: 0.3em;box-sizing: border-box;text-align: center;}#sk-container-id-12 label.sk-toggleable__label-arrow:before {content: \"▸\";float: left;margin-right: 0.25em;color: #696969;}#sk-container-id-12 label.sk-toggleable__label-arrow:hover:before {color: black;}#sk-container-id-12 div.sk-estimator:hover label.sk-toggleable__label-arrow:before {color: black;}#sk-container-id-12 div.sk-toggleable__content {max-height: 0;max-width: 0;overflow: hidden;text-align: left;background-color: #f0f8ff;}#sk-container-id-12 div.sk-toggleable__content pre {margin: 0.2em;color: black;border-radius: 0.25em;background-color: #f0f8ff;}#sk-container-id-12 input.sk-toggleable__control:checked~div.sk-toggleable__content {max-height: 200px;max-width: 100%;overflow: auto;}#sk-container-id-12 input.sk-toggleable__control:checked~label.sk-toggleable__label-arrow:before {content: \"▾\";}#sk-container-id-12 div.sk-estimator input.sk-toggleable__control:checked~label.sk-toggleable__label {background-color: #d4ebff;}#sk-container-id-12 div.sk-label input.sk-toggleable__control:checked~label.sk-toggleable__label {background-color: #d4ebff;}#sk-container-id-12 input.sk-hidden--visually {border: 0;clip: rect(1px 1px 1px 1px);clip: rect(1px, 1px, 1px, 1px);height: 1px;margin: -1px;overflow: hidden;padding: 0;position: absolute;width: 1px;}#sk-container-id-12 div.sk-estimator {font-family: monospace;background-color: #f0f8ff;border: 1px dotted black;border-radius: 0.25em;box-sizing: border-box;margin-bottom: 0.5em;}#sk-container-id-12 div.sk-estimator:hover {background-color: #d4ebff;}#sk-container-id-12 div.sk-parallel-item::after {content: \"\";width: 100%;border-bottom: 1px solid gray;flex-grow: 1;}#sk-container-id-12 div.sk-label:hover label.sk-toggleable__label {background-color: #d4ebff;}#sk-container-id-12 div.sk-serial::before {content: \"\";position: absolute;border-left: 1px solid gray;box-sizing: border-box;top: 0;bottom: 0;left: 50%;z-index: 0;}#sk-container-id-12 div.sk-serial {display: flex;flex-direction: column;align-items: center;background-color: white;padding-right: 0.2em;padding-left: 0.2em;position: relative;}#sk-container-id-12 div.sk-item {position: relative;z-index: 1;}#sk-container-id-12 div.sk-parallel {display: flex;align-items: stretch;justify-content: center;background-color: white;position: relative;}#sk-container-id-12 div.sk-item::before, #sk-container-id-12 div.sk-parallel-item::before {content: \"\";position: absolute;border-left: 1px solid gray;box-sizing: border-box;top: 0;bottom: 0;left: 50%;z-index: -1;}#sk-container-id-12 div.sk-parallel-item {display: flex;flex-direction: column;z-index: 1;position: relative;background-color: white;}#sk-container-id-12 div.sk-parallel-item:first-child::after {align-self: flex-end;width: 50%;}#sk-container-id-12 div.sk-parallel-item:last-child::after {align-self: flex-start;width: 50%;}#sk-container-id-12 div.sk-parallel-item:only-child::after {width: 0;}#sk-container-id-12 div.sk-dashed-wrapped {border: 1px dashed gray;margin: 0 0.4em 0.5em 0.4em;box-sizing: border-box;padding-bottom: 0.4em;background-color: white;}#sk-container-id-12 div.sk-label label {font-family: monospace;font-weight: bold;display: inline-block;line-height: 1.2em;}#sk-container-id-12 div.sk-label-container {text-align: center;}#sk-container-id-12 div.sk-container {/* jupyter's `normalize.less` sets `[hidden] { display: none; }` but bootstrap.min.css set `[hidden] { display: none !important; }` so we also need the `!important` here to be able to override the default hidden behavior on the sphinx rendered scikit-learn.org. See: https://github.com/scikit-learn/scikit-learn/issues/21755 */display: inline-block !important;position: relative;}#sk-container-id-12 div.sk-text-repr-fallback {display: none;}</style><div id=\"sk-container-id-12\" class=\"sk-top-container\"><div class=\"sk-text-repr-fallback\"><pre>ComplementNB()</pre><b>In a Jupyter environment, please rerun this cell to show the HTML representation or trust the notebook. <br />On GitHub, the HTML representation is unable to render, please try loading this page with nbviewer.org.</b></div><div class=\"sk-container\" hidden><div class=\"sk-item\"><div class=\"sk-estimator sk-toggleable\"><input class=\"sk-toggleable__control sk-hidden--visually\" id=\"sk-estimator-id-18\" type=\"checkbox\" checked><label for=\"sk-estimator-id-18\" class=\"sk-toggleable__label sk-toggleable__label-arrow\">ComplementNB</label><div class=\"sk-toggleable__content\"><pre>ComplementNB()</pre></div></div></div></div></div>"
            ]
          },
          "metadata": {},
          "execution_count": 199
        }
      ]
    },
    {
      "cell_type": "markdown",
      "source": [],
      "metadata": {
        "id": "QrBRUL3d1wIb"
      }
    },
    {
      "cell_type": "code",
      "source": [
        "from sklearn.ensemble import RandomForestClassifier"
      ],
      "metadata": {
        "id": "yeJO42lR1cr4"
      },
      "execution_count": 200,
      "outputs": []
    },
    {
      "cell_type": "code",
      "source": [
        "rf =RandomForestClassifier(n_estimators = 300, max_features ='sqrt', max_depth = 5, random_state = 18).fit(Xtrain, Ytrain)"
      ],
      "metadata": {
        "id": "o25yH0p7KAeI"
      },
      "execution_count": 201,
      "outputs": []
    },
    {
      "cell_type": "code",
      "source": [
        "rf.fit(Xtrain,Ytrain)"
      ],
      "metadata": {
        "id": "1Qnf32N91qPc",
        "colab": {
          "base_uri": "https://localhost:8080/",
          "height": 74
        },
        "outputId": "c07a15e0-671f-46ec-8c49-e8e2389e4cd1"
      },
      "execution_count": 202,
      "outputs": [
        {
          "output_type": "execute_result",
          "data": {
            "text/plain": [
              "RandomForestClassifier(max_depth=5, n_estimators=300, random_state=18)"
            ],
            "text/html": [
              "<style>#sk-container-id-13 {color: black;background-color: white;}#sk-container-id-13 pre{padding: 0;}#sk-container-id-13 div.sk-toggleable {background-color: white;}#sk-container-id-13 label.sk-toggleable__label {cursor: pointer;display: block;width: 100%;margin-bottom: 0;padding: 0.3em;box-sizing: border-box;text-align: center;}#sk-container-id-13 label.sk-toggleable__label-arrow:before {content: \"▸\";float: left;margin-right: 0.25em;color: #696969;}#sk-container-id-13 label.sk-toggleable__label-arrow:hover:before {color: black;}#sk-container-id-13 div.sk-estimator:hover label.sk-toggleable__label-arrow:before {color: black;}#sk-container-id-13 div.sk-toggleable__content {max-height: 0;max-width: 0;overflow: hidden;text-align: left;background-color: #f0f8ff;}#sk-container-id-13 div.sk-toggleable__content pre {margin: 0.2em;color: black;border-radius: 0.25em;background-color: #f0f8ff;}#sk-container-id-13 input.sk-toggleable__control:checked~div.sk-toggleable__content {max-height: 200px;max-width: 100%;overflow: auto;}#sk-container-id-13 input.sk-toggleable__control:checked~label.sk-toggleable__label-arrow:before {content: \"▾\";}#sk-container-id-13 div.sk-estimator input.sk-toggleable__control:checked~label.sk-toggleable__label {background-color: #d4ebff;}#sk-container-id-13 div.sk-label input.sk-toggleable__control:checked~label.sk-toggleable__label {background-color: #d4ebff;}#sk-container-id-13 input.sk-hidden--visually {border: 0;clip: rect(1px 1px 1px 1px);clip: rect(1px, 1px, 1px, 1px);height: 1px;margin: -1px;overflow: hidden;padding: 0;position: absolute;width: 1px;}#sk-container-id-13 div.sk-estimator {font-family: monospace;background-color: #f0f8ff;border: 1px dotted black;border-radius: 0.25em;box-sizing: border-box;margin-bottom: 0.5em;}#sk-container-id-13 div.sk-estimator:hover {background-color: #d4ebff;}#sk-container-id-13 div.sk-parallel-item::after {content: \"\";width: 100%;border-bottom: 1px solid gray;flex-grow: 1;}#sk-container-id-13 div.sk-label:hover label.sk-toggleable__label {background-color: #d4ebff;}#sk-container-id-13 div.sk-serial::before {content: \"\";position: absolute;border-left: 1px solid gray;box-sizing: border-box;top: 0;bottom: 0;left: 50%;z-index: 0;}#sk-container-id-13 div.sk-serial {display: flex;flex-direction: column;align-items: center;background-color: white;padding-right: 0.2em;padding-left: 0.2em;position: relative;}#sk-container-id-13 div.sk-item {position: relative;z-index: 1;}#sk-container-id-13 div.sk-parallel {display: flex;align-items: stretch;justify-content: center;background-color: white;position: relative;}#sk-container-id-13 div.sk-item::before, #sk-container-id-13 div.sk-parallel-item::before {content: \"\";position: absolute;border-left: 1px solid gray;box-sizing: border-box;top: 0;bottom: 0;left: 50%;z-index: -1;}#sk-container-id-13 div.sk-parallel-item {display: flex;flex-direction: column;z-index: 1;position: relative;background-color: white;}#sk-container-id-13 div.sk-parallel-item:first-child::after {align-self: flex-end;width: 50%;}#sk-container-id-13 div.sk-parallel-item:last-child::after {align-self: flex-start;width: 50%;}#sk-container-id-13 div.sk-parallel-item:only-child::after {width: 0;}#sk-container-id-13 div.sk-dashed-wrapped {border: 1px dashed gray;margin: 0 0.4em 0.5em 0.4em;box-sizing: border-box;padding-bottom: 0.4em;background-color: white;}#sk-container-id-13 div.sk-label label {font-family: monospace;font-weight: bold;display: inline-block;line-height: 1.2em;}#sk-container-id-13 div.sk-label-container {text-align: center;}#sk-container-id-13 div.sk-container {/* jupyter's `normalize.less` sets `[hidden] { display: none; }` but bootstrap.min.css set `[hidden] { display: none !important; }` so we also need the `!important` here to be able to override the default hidden behavior on the sphinx rendered scikit-learn.org. See: https://github.com/scikit-learn/scikit-learn/issues/21755 */display: inline-block !important;position: relative;}#sk-container-id-13 div.sk-text-repr-fallback {display: none;}</style><div id=\"sk-container-id-13\" class=\"sk-top-container\"><div class=\"sk-text-repr-fallback\"><pre>RandomForestClassifier(max_depth=5, n_estimators=300, random_state=18)</pre><b>In a Jupyter environment, please rerun this cell to show the HTML representation or trust the notebook. <br />On GitHub, the HTML representation is unable to render, please try loading this page with nbviewer.org.</b></div><div class=\"sk-container\" hidden><div class=\"sk-item\"><div class=\"sk-estimator sk-toggleable\"><input class=\"sk-toggleable__control sk-hidden--visually\" id=\"sk-estimator-id-19\" type=\"checkbox\" checked><label for=\"sk-estimator-id-19\" class=\"sk-toggleable__label sk-toggleable__label-arrow\">RandomForestClassifier</label><div class=\"sk-toggleable__content\"><pre>RandomForestClassifier(max_depth=5, n_estimators=300, random_state=18)</pre></div></div></div></div></div>"
            ]
          },
          "metadata": {},
          "execution_count": 202
        }
      ]
    },
    {
      "cell_type": "markdown",
      "source": [
        "**test data**"
      ],
      "metadata": {
        "id": "Wwo7AAp5uwqU"
      }
    },
    {
      "cell_type": "code",
      "source": [
        "#Reading the test dataset\n",
        "df1 = pd.read_csv('/content/test_new.csv')"
      ],
      "metadata": {
        "id": "VoxZD7khrmOV"
      },
      "execution_count": 203,
      "outputs": []
    },
    {
      "cell_type": "code",
      "source": [
        "#Defining _id that hold the values of the Ids\n",
        "_id= df1['id']"
      ],
      "metadata": {
        "id": "MX_VGWi4vHx6"
      },
      "execution_count": 204,
      "outputs": []
    },
    {
      "cell_type": "code",
      "source": [
        "#Checking the count of NaN values in al the columns\n",
        "df1.duplicated().sum()\n",
        "df1.isnull().sum()"
      ],
      "metadata": {
        "id": "9JulMajoQFY2",
        "colab": {
          "base_uri": "https://localhost:8080/"
        },
        "outputId": "5a3be4d3-7fbe-4094-8023-faf7a35b5a9c"
      },
      "execution_count": 205,
      "outputs": [
        {
          "output_type": "execute_result",
          "data": {
            "text/plain": [
              "price                             0\n",
              "retail_price                      0\n",
              "currency_buyer                    0\n",
              "units_sold                        0\n",
              "uses_ad_boosts                    0\n",
              "rating_count                      0\n",
              "badges_count                      0\n",
              "badge_local_product               0\n",
              "badge_product_quality             0\n",
              "badge_fast_shipping               0\n",
              "tags                              0\n",
              "product_color                    12\n",
              "product_variation_size_id         2\n",
              "product_variation_inventory       0\n",
              "shipping_option_name              0\n",
              "shipping_option_price             0\n",
              "shipping_is_express               0\n",
              "countries_shipped_to              0\n",
              "inventory_total                   0\n",
              "has_urgency_banner              355\n",
              "urgency_text                    355\n",
              "origin_country                    5\n",
              "merchant_title                    0\n",
              "merchant_name                     0\n",
              "merchant_info_subtitle            1\n",
              "merchant_rating_count             0\n",
              "merchant_rating                   0\n",
              "merchant_id                       0\n",
              "merchant_has_profile_picture      0\n",
              "merchant_profile_picture        423\n",
              "theme                             0\n",
              "crawl_month                       0\n",
              "id                                0\n",
              "dtype: int64"
            ]
          },
          "metadata": {},
          "execution_count": 205
        }
      ]
    },
    {
      "cell_type": "code",
      "source": [
        "# First, lets drop duplicates (if any)\n",
        "df_1= df1.drop_duplicates()"
      ],
      "metadata": {
        "id": "7jGifalURo0d"
      },
      "execution_count": 206,
      "outputs": []
    },
    {
      "cell_type": "code",
      "source": [
        "#Checking the count of NaN values in al the columns\n",
        "df_1.duplicated().sum()\n"
      ],
      "metadata": {
        "id": "jzrBqTpBR0Ni",
        "colab": {
          "base_uri": "https://localhost:8080/"
        },
        "outputId": "15ac9d6f-505a-4ce4-d7da-73181787cf56"
      },
      "execution_count": 207,
      "outputs": [
        {
          "output_type": "execute_result",
          "data": {
            "text/plain": [
              "0"
            ]
          },
          "metadata": {},
          "execution_count": 207
        }
      ]
    },
    {
      "cell_type": "code",
      "source": [
        "df_1.isnull().sum()"
      ],
      "metadata": {
        "id": "gE8uhzfiSClT",
        "colab": {
          "base_uri": "https://localhost:8080/"
        },
        "outputId": "8b9dda8f-0b12-4c58-bea4-19f89113fb65"
      },
      "execution_count": 208,
      "outputs": [
        {
          "output_type": "execute_result",
          "data": {
            "text/plain": [
              "price                             0\n",
              "retail_price                      0\n",
              "currency_buyer                    0\n",
              "units_sold                        0\n",
              "uses_ad_boosts                    0\n",
              "rating_count                      0\n",
              "badges_count                      0\n",
              "badge_local_product               0\n",
              "badge_product_quality             0\n",
              "badge_fast_shipping               0\n",
              "tags                              0\n",
              "product_color                    12\n",
              "product_variation_size_id         2\n",
              "product_variation_inventory       0\n",
              "shipping_option_name              0\n",
              "shipping_option_price             0\n",
              "shipping_is_express               0\n",
              "countries_shipped_to              0\n",
              "inventory_total                   0\n",
              "has_urgency_banner              355\n",
              "urgency_text                    355\n",
              "origin_country                    5\n",
              "merchant_title                    0\n",
              "merchant_name                     0\n",
              "merchant_info_subtitle            1\n",
              "merchant_rating_count             0\n",
              "merchant_rating                   0\n",
              "merchant_id                       0\n",
              "merchant_has_profile_picture      0\n",
              "merchant_profile_picture        423\n",
              "theme                             0\n",
              "crawl_month                       0\n",
              "id                                0\n",
              "dtype: int64"
            ]
          },
          "metadata": {},
          "execution_count": 208
        }
      ]
    },
    {
      "cell_type": "code",
      "source": [
        "df_1['urgency_text'] = df_1['urgency_text'].replace({\n",
        "    'Quantité limitée !' : 'Limited Quantity', \n",
        "    'Réduction sur les achats en gros': 'Wholesale discount', \n",
        "    np.nan: 'None'\n",
        "})"
      ],
      "metadata": {
        "id": "Eu4QK59nVZrj"
      },
      "execution_count": 209,
      "outputs": []
    },
    {
      "cell_type": "code",
      "source": [
        "Country = df_1.loc[:, 'origin_country']\n",
        "Country"
      ],
      "metadata": {
        "id": "vP_vGjekvQyB",
        "colab": {
          "base_uri": "https://localhost:8080/"
        },
        "outputId": "263d5488-8420-4cf9-d981-1f333b0c7092"
      },
      "execution_count": 210,
      "outputs": [
        {
          "output_type": "execute_result",
          "data": {
            "text/plain": [
              "0      CN\n",
              "1      CN\n",
              "2      CN\n",
              "3      CN\n",
              "4      CN\n",
              "       ..\n",
              "474    VE\n",
              "475    CN\n",
              "476    VE\n",
              "477    CN\n",
              "478    CN\n",
              "Name: origin_country, Length: 479, dtype: object"
            ]
          },
          "metadata": {},
          "execution_count": 210
        }
      ]
    },
    {
      "cell_type": "code",
      "source": [
        "#Filling the Nan values with the most frequent value which is CN\n",
        "df_1.loc[:, 'origin_country']=Country.fillna('CN')"
      ],
      "metadata": {
        "id": "zVBqQsSYQQsK"
      },
      "execution_count": 211,
      "outputs": []
    },
    {
      "cell_type": "code",
      "source": [
        "Urgency = df_1.loc[:,'has_urgency_banner']\n",
        "Urgency"
      ],
      "metadata": {
        "id": "fvBUGAsGIud_",
        "colab": {
          "base_uri": "https://localhost:8080/"
        },
        "outputId": "69bdae7b-e026-4948-ff95-deccad70a7f7"
      },
      "execution_count": 212,
      "outputs": [
        {
          "output_type": "execute_result",
          "data": {
            "text/plain": [
              "0      NaN\n",
              "1      NaN\n",
              "2      NaN\n",
              "3      NaN\n",
              "4      NaN\n",
              "      ... \n",
              "474    NaN\n",
              "475    NaN\n",
              "476    1.0\n",
              "477    1.0\n",
              "478    1.0\n",
              "Name: has_urgency_banner, Length: 479, dtype: float64"
            ]
          },
          "metadata": {},
          "execution_count": 212
        }
      ]
    },
    {
      "cell_type": "code",
      "source": [
        "#Filling the missing values with zeros\n",
        "df_1.loc[:,'has_urgency_banner']=df_1.loc[:,'has_urgency_banner'].fillna(0)"
      ],
      "metadata": {
        "id": "pTopgvLMUUCZ"
      },
      "execution_count": 213,
      "outputs": []
    },
    {
      "cell_type": "code",
      "source": [
        "#Gathering all the value with the same meaning and replacing its name with its actual name\n",
        "df_1['product_variation_size_id'].replace(['S', 'S.', 's', 'Size S', 'Size-S', 'Size S.', 'Suit-S', 'size S','S Pink', 'pants-S', 'US-S', 'SIZE S', 'S (waist58-62cm)', 'Size--S', '25-S', 'Size/S', 'S Diameter 30cm', 'S..', 'S(Pink & Black)'], 'S', inplace=True)\n",
        "df_1['product_variation_size_id'].replace(['XS', 'XS.', 'SIZE XS', 'Size-XS'], 'XS', inplace=True)\n",
        "df_1['product_variation_size_id'].replace(['XXS', 'XXXS', 'SIZE-XXS', 'Size -XXS', 'Size XXS', 'Size-XXS', 'SIZE XXS'], 'XXS+', inplace=True)\n",
        "df_1['product_variation_size_id'].replace(['M', 'M.', 'Size M'], 'M', inplace=True)\n",
        "df_1['product_variation_size_id'].replace(['L', 'SizeL', '32/L', 'L.', 'Size-L'], 'L', inplace=True)\n",
        "df_1['product_variation_size_id'].replace(['XL', '2XL', '1 PC - XL', 'X   L'], 'XL', inplace=True)\n",
        "df_1['product_variation_size_id'].replace(['XXL', '4XL', '2XL', 'Size4XL', '3XL', 'XXXXXL', '1 PC - XL', 'SIZE-4XL', '04-3XL', 'Size-5XL', 'XXXXL', '5XL', 'XXXL'], 'XXL+', inplace=True)\n",
        "size_val_counts = df_1['product_variation_size_id'].value_counts()\n",
        "# Select the values where the count is less than 5 and Nans and puting them under category other\n",
        "minority = size_val_counts[size_val_counts <= 5].index\n",
        "df_1.loc[df_1['product_variation_size_id'].isin(minority), 'product_variation_size_id'] = \"Other\"\n",
        "df_1['product_variation_size_id'] = df_1['product_variation_size_id'].replace(np.nan, \"Other\")"
      ],
      "metadata": {
        "id": "2mUlOmogStw8"
      },
      "execution_count": 214,
      "outputs": []
    },
    {
      "cell_type": "code",
      "source": [
        "#ploting size column after handling it\n",
        "plt.figure(figsize=(8, 4))\n",
        "ax = sns.countplot(x = 'product_variation_size_id',\n",
        "                   order = df_1['product_variation_size_id'].value_counts().index,\n",
        "                   palette= \"Set2\",\n",
        "                   data=df_1)\n",
        "ax.set(xlabel='Size', ylabel='Count')\n",
        "\n",
        "plt.show()"
      ],
      "metadata": {
        "id": "PRJkHVaKVqoP",
        "colab": {
          "base_uri": "https://localhost:8080/",
          "height": 279
        },
        "outputId": "7e33f25d-32d5-4458-f7f7-8f3be0575409"
      },
      "execution_count": 215,
      "outputs": [
        {
          "output_type": "display_data",
          "data": {
            "text/plain": [
              "<Figure size 576x288 with 1 Axes>"
            ],
            "image/png": "[encoded data removed]"
          },
          "metadata": {
            "needs_background": "light"
          }
        }
      ]
    },
    {
      "cell_type": "code",
      "source": [
        "#Fixing the colors column\n",
        "df_1['product_color'] = df_1.product_color.apply(switch)\n",
        "plt.figure(figsize=(7, 6))\n",
        "ax = sns.countplot(x = 'product_color',\n",
        "                   order = df_1['product_color'].value_counts().index,\n",
        "                   palette= \"Set2\",\n",
        "                   data=df_1)\n",
        "ax.set(xlabel='Color', ylabel='Count')\n",
        "plt.xticks(rotation=90, ha='right')\n",
        "plt.show()"
      ],
      "metadata": {
        "id": "mPd8DCjjVX8b",
        "colab": {
          "base_uri": "https://localhost:8080/",
          "height": 413
        },
        "outputId": "0cc88458-77c2-4731-a7f4-05bd77d1ddaa"
      },
      "execution_count": 216,
      "outputs": [
        {
          "output_type": "display_data",
          "data": {
            "text/plain": [
              "<Figure size 504x432 with 1 Axes>"
            ],
            "image/png": "[encoded data removed]"
          },
          "metadata": {
            "needs_background": "light"
          }
        }
      ]
    },
    {
      "cell_type": "code",
      "source": [
        "#Droping unuseful data\n",
        "df_1.drop('tags',axis='columns', inplace=True)\n",
        "df_1.drop('shipping_option_name',axis='columns', inplace=True)\n",
        "df_1.drop('merchant_title',axis='columns', inplace=True)\n",
        "df_1.drop('merchant_name',axis='columns', inplace=True)\n",
        "df_1.drop('merchant_info_subtitle',axis='columns', inplace=True)\n",
        "df_1.drop('merchant_profile_picture',axis='columns', inplace=True)\n",
        "df_1.drop('urgency_text',axis='columns', inplace=True)\n",
        "df_1.drop('currency_buyer',axis='columns', inplace=True)\n",
        "df_1.drop('merchant_id',axis='columns',inplace=True)\n",
        "df_1.drop('crawl_month',axis='columns', inplace=True)\n",
        "df_1.drop('theme',axis='columns', inplace=True)\n",
        "df_1.drop('id',axis='columns', inplace=True)"
      ],
      "metadata": {
        "id": "7U7ySXZtPXeb"
      },
      "execution_count": 217,
      "outputs": []
    },
    {
      "cell_type": "code",
      "source": [
        "df_1.head()"
      ],
      "metadata": {
        "id": "2RCO3guNzzAv",
        "colab": {
          "base_uri": "https://localhost:8080/",
          "height": 299
        },
        "outputId": "49f931c6-dd1d-459a-b6b8-2f7341bf4dbd"
      },
      "execution_count": 218,
      "outputs": [
        {
          "output_type": "execute_result",
          "data": {
            "text/plain": [
              "   price  retail_price  units_sold  uses_ad_boosts  rating_count  \\\n",
              "0   5.75             5          10               1             0   \n",
              "1   7.00             7        5000               0           579   \n",
              "2   5.00            16        1000               1            62   \n",
              "3  18.00            27        5000               1          1903   \n",
              "4  12.00            81       20000               0          1799   \n",
              "\n",
              "   badges_count  badge_local_product  badge_product_quality  \\\n",
              "0             0                    0                      0   \n",
              "1             0                    0                      0   \n",
              "2             0                    0                      0   \n",
              "3             0                    0                      0   \n",
              "4             0                    0                      0   \n",
              "\n",
              "   badge_fast_shipping product_color  ... product_variation_inventory  \\\n",
              "0                    0         white  ...                           5   \n",
              "1                    0         black  ...                          50   \n",
              "2                    0          blue  ...                          20   \n",
              "3                    0          blue  ...                          50   \n",
              "4                    0         white  ...                          50   \n",
              "\n",
              "   shipping_option_price  shipping_is_express  countries_shipped_to  \\\n",
              "0                      2                    0                   139   \n",
              "1                      2                    0                    31   \n",
              "2                      2                    0                    41   \n",
              "3                      5                    0                    42   \n",
              "4                      3                    0                    38   \n",
              "\n",
              "   inventory_total  has_urgency_banner  origin_country merchant_rating_count  \\\n",
              "0               50                 0.0              CN                     3   \n",
              "1               50                 0.0              CN                  4213   \n",
              "2               50                 0.0              CN                 10501   \n",
              "3               50                 0.0              CN                 15855   \n",
              "4               50                 0.0              CN                151914   \n",
              "\n",
              "   merchant_rating  merchant_has_profile_picture  \n",
              "0         2.333333                             0  \n",
              "1         4.058391                             0  \n",
              "2         4.029235                             0  \n",
              "3         4.052917                             0  \n",
              "4         4.127921                             0  \n",
              "\n",
              "[5 rows x 21 columns]"
            ],
            "text/html": [
              "\n",
              "  <div id=\"df-6ca45406-0f28-49ab-8fe4-108276c4e54b\">\n",
              "    <div class=\"colab-df-container\">\n",
              "      <div>\n",
              "<style scoped>\n",
              "    .dataframe tbody tr th:only-of-type {\n",
              "        vertical-align: middle;\n",
              "    }\n",
              "\n",
              "    .dataframe tbody tr th {\n",
              "        vertical-align: top;\n",
              "    }\n",
              "\n",
              "    .dataframe thead th {\n",
              "        text-align: right;\n",
              "    }\n",
              "</style>\n",
              "<table border=\"1\" class=\"dataframe\">\n",
              "  <thead>\n",
              "    <tr style=\"text-align: right;\">\n",
              "      <th></th>\n",
              "      <th>price</th>\n",
              "      <th>retail_price</th>\n",
              "      <th>units_sold</th>\n",
              "      <th>uses_ad_boosts</th>\n",
              "      <th>rating_count</th>\n",
              "      <th>badges_count</th>\n",
              "      <th>badge_local_product</th>\n",
              "      <th>badge_product_quality</th>\n",
              "      <th>badge_fast_shipping</th>\n",
              "      <th>product_color</th>\n",
              "      <th>...</th>\n",
              "      <th>product_variation_inventory</th>\n",
              "      <th>shipping_option_price</th>\n",
              "      <th>shipping_is_express</th>\n",
              "      <th>countries_shipped_to</th>\n",
              "      <th>inventory_total</th>\n",
              "      <th>has_urgency_banner</th>\n",
              "      <th>origin_country</th>\n",
              "      <th>merchant_rating_count</th>\n",
              "      <th>merchant_rating</th>\n",
              "      <th>merchant_has_profile_picture</th>\n",
              "    </tr>\n",
              "  </thead>\n",
              "  <tbody>\n",
              "    <tr>\n",
              "      <th>0</th>\n",
              "      <td>5.75</td>\n",
              "      <td>5</td>\n",
              "      <td>10</td>\n",
              "      <td>1</td>\n",
              "      <td>0</td>\n",
              "      <td>0</td>\n",
              "      <td>0</td>\n",
              "      <td>0</td>\n",
              "      <td>0</td>\n",
              "      <td>white</td>\n",
              "      <td>...</td>\n",
              "      <td>5</td>\n",
              "      <td>2</td>\n",
              "      <td>0</td>\n",
              "      <td>139</td>\n",
              "      <td>50</td>\n",
              "      <td>0.0</td>\n",
              "      <td>CN</td>\n",
              "      <td>3</td>\n",
              "      <td>2.333333</td>\n",
              "      <td>0</td>\n",
              "    </tr>\n",
              "    <tr>\n",
              "      <th>1</th>\n",
              "      <td>7.00</td>\n",
              "      <td>7</td>\n",
              "      <td>5000</td>\n",
              "      <td>0</td>\n",
              "      <td>579</td>\n",
              "      <td>0</td>\n",
              "      <td>0</td>\n",
              "      <td>0</td>\n",
              "      <td>0</td>\n",
              "      <td>black</td>\n",
              "      <td>...</td>\n",
              "      <td>50</td>\n",
              "      <td>2</td>\n",
              "      <td>0</td>\n",
              "      <td>31</td>\n",
              "      <td>50</td>\n",
              "      <td>0.0</td>\n",
              "      <td>CN</td>\n",
              "      <td>4213</td>\n",
              "      <td>4.058391</td>\n",
              "      <td>0</td>\n",
              "    </tr>\n",
              "    <tr>\n",
              "      <th>2</th>\n",
              "      <td>5.00</td>\n",
              "      <td>16</td>\n",
              "      <td>1000</td>\n",
              "      <td>1</td>\n",
              "      <td>62</td>\n",
              "      <td>0</td>\n",
              "      <td>0</td>\n",
              "      <td>0</td>\n",
              "      <td>0</td>\n",
              "      <td>blue</td>\n",
              "      <td>...</td>\n",
              "      <td>20</td>\n",
              "      <td>2</td>\n",
              "      <td>0</td>\n",
              "      <td>41</td>\n",
              "      <td>50</td>\n",
              "      <td>0.0</td>\n",
              "      <td>CN</td>\n",
              "      <td>10501</td>\n",
              "      <td>4.029235</td>\n",
              "      <td>0</td>\n",
              "    </tr>\n",
              "    <tr>\n",
              "      <th>3</th>\n",
              "      <td>18.00</td>\n",
              "      <td>27</td>\n",
              "      <td>5000</td>\n",
              "      <td>1</td>\n",
              "      <td>1903</td>\n",
              "      <td>0</td>\n",
              "      <td>0</td>\n",
              "      <td>0</td>\n",
              "      <td>0</td>\n",
              "      <td>blue</td>\n",
              "      <td>...</td>\n",
              "      <td>50</td>\n",
              "      <td>5</td>\n",
              "      <td>0</td>\n",
              "      <td>42</td>\n",
              "      <td>50</td>\n",
              "      <td>0.0</td>\n",
              "      <td>CN</td>\n",
              "      <td>15855</td>\n",
              "      <td>4.052917</td>\n",
              "      <td>0</td>\n",
              "    </tr>\n",
              "    <tr>\n",
              "      <th>4</th>\n",
              "      <td>12.00</td>\n",
              "      <td>81</td>\n",
              "      <td>20000</td>\n",
              "      <td>0</td>\n",
              "      <td>1799</td>\n",
              "      <td>0</td>\n",
              "      <td>0</td>\n",
              "      <td>0</td>\n",
              "      <td>0</td>\n",
              "      <td>white</td>\n",
              "      <td>...</td>\n",
              "      <td>50</td>\n",
              "      <td>3</td>\n",
              "      <td>0</td>\n",
              "      <td>38</td>\n",
              "      <td>50</td>\n",
              "      <td>0.0</td>\n",
              "      <td>CN</td>\n",
              "      <td>151914</td>\n",
              "      <td>4.127921</td>\n",
              "      <td>0</td>\n",
              "    </tr>\n",
              "  </tbody>\n",
              "</table>\n",
              "<p>5 rows × 21 columns</p>\n",
              "</div>\n",
              "      <button class=\"colab-df-convert\" onclick=\"convertToInteractive('df-6ca45406-0f28-49ab-8fe4-108276c4e54b')\"\n",
              "              title=\"Convert this dataframe to an interactive table.\"\n",
              "              style=\"display:none;\">\n",
              "        \n",
              "  <svg xmlns=\"http://www.w3.org/2000/svg\" height=\"24px\"viewBox=\"0 0 24 24\"\n",
              "       width=\"24px\">\n",
              "    <path d=\"M0 0h24v24H0V0z\" fill=\"none\"/>\n",
              "    <path d=\"M18.56 5.44l.94 2.06.94-2.06 2.06-.94-2.06-.94-.94-2.06-.94 2.06-2.06.94zm-11 1L8.5 8.5l.94-2.06 2.06-.94-2.06-.94L8.5 2.5l-.94 2.06-2.06.94zm10 10l.94 2.06.94-2.06 2.06-.94-2.06-.94-.94-2.06-.94 2.06-2.06.94z\"/><path d=\"M17.41 7.96l-1.37-1.37c-.4-.4-.92-.59-1.43-.59-.52 0-1.04.2-1.43.59L10.3 9.45l-7.72 7.72c-.78.78-.78 2.05 0 2.83L4 21.41c.39.39.9.59 1.41.59.51 0 1.02-.2 1.41-.59l7.78-7.78 2.81-2.81c.8-.78.8-2.07 0-2.86zM5.41 20L4 18.59l7.72-7.72 1.47 1.35L5.41 20z\"/>\n",
              "  </svg>\n",
              "      </button>\n",
              "      \n",
              "  <style>\n",
              "    .colab-df-container {\n",
              "      display:flex;\n",
              "      flex-wrap:wrap;\n",
              "      gap: 12px;\n",
              "    }\n",
              "\n",
              "    .colab-df-convert {\n",
              "      background-color: #E8F0FE;\n",
              "      border: none;\n",
              "      border-radius: 50%;\n",
              "      cursor: pointer;\n",
              "      display: none;\n",
              "      fill: #1967D2;\n",
              "      height: 32px;\n",
              "      padding: 0 0 0 0;\n",
              "      width: 32px;\n",
              "    }\n",
              "\n",
              "    .colab-df-convert:hover {\n",
              "      background-color: #E2EBFA;\n",
              "      box-shadow: 0px 1px 2px rgba(60, 64, 67, 0.3), 0px 1px 3px 1px rgba(60, 64, 67, 0.15);\n",
              "      fill: #174EA6;\n",
              "    }\n",
              "\n",
              "    [theme=dark] .colab-df-convert {\n",
              "      background-color: #3B4455;\n",
              "      fill: #D2E3FC;\n",
              "    }\n",
              "\n",
              "    [theme=dark] .colab-df-convert:hover {\n",
              "      background-color: #434B5C;\n",
              "      box-shadow: 0px 1px 3px 1px rgba(0, 0, 0, 0.15);\n",
              "      filter: drop-shadow(0px 1px 2px rgba(0, 0, 0, 0.3));\n",
              "      fill: #FFFFFF;\n",
              "    }\n",
              "  </style>\n",
              "\n",
              "      <script>\n",
              "        const buttonEl =\n",
              "          document.querySelector('#df-6ca45406-0f28-49ab-8fe4-108276c4e54b button.colab-df-convert');\n",
              "        buttonEl.style.display =\n",
              "          google.colab.kernel.accessAllowed ? 'block' : 'none';\n",
              "\n",
              "        async function convertToInteractive(key) {\n",
              "          const element = document.querySelector('#df-6ca45406-0f28-49ab-8fe4-108276c4e54b');\n",
              "          const dataTable =\n",
              "            await google.colab.kernel.invokeFunction('convertToInteractive',\n",
              "                                                     [key], {});\n",
              "          if (!dataTable) return;\n",
              "\n",
              "          const docLinkHtml = 'Like what you see? Visit the ' +\n",
              "            '<a target=\"_blank\" href=https://colab.research.google.com/notebooks/data_table.ipynb>data table notebook</a>'\n",
              "            + ' to learn more about interactive tables.';\n",
              "          element.innerHTML = '';\n",
              "          dataTable['output_type'] = 'display_data';\n",
              "          await google.colab.output.renderOutput(dataTable, element);\n",
              "          const docLink = document.createElement('div');\n",
              "          docLink.innerHTML = docLinkHtml;\n",
              "          element.appendChild(docLink);\n",
              "        }\n",
              "      </script>\n",
              "    </div>\n",
              "  </div>\n",
              "  "
            ]
          },
          "metadata": {},
          "execution_count": 218
        }
      ]
    },
    {
      "cell_type": "markdown",
      "source": [
        "#encoding test data"
      ],
      "metadata": {
        "id": "MW0WudEIw66W"
      }
    },
    {
      "cell_type": "code",
      "source": [
        "df_11 = pd.get_dummies(df_1, columns = ['product_variation_size_id','product_color','origin_country'])\n"
      ],
      "metadata": {
        "id": "M6szBh7ewW43"
      },
      "execution_count": 219,
      "outputs": []
    },
    {
      "cell_type": "code",
      "source": [
        "df_11.info()"
      ],
      "metadata": {
        "id": "cI-jLOT2LC7f",
        "colab": {
          "base_uri": "https://localhost:8080/"
        },
        "outputId": "08a4555c-2a3f-4796-816e-ff31bc33a4e9"
      },
      "execution_count": 220,
      "outputs": [
        {
          "output_type": "stream",
          "name": "stdout",
          "text": [
            "<class 'pandas.core.frame.DataFrame'>\n",
            "Int64Index: 479 entries, 0 to 478\n",
            "Data columns (total 43 columns):\n",
            " #   Column                           Non-Null Count  Dtype  \n",
            "---  ------                           --------------  -----  \n",
            " 0   price                            479 non-null    float64\n",
            " 1   retail_price                     479 non-null    int64  \n",
            " 2   units_sold                       479 non-null    int64  \n",
            " 3   uses_ad_boosts                   479 non-null    int64  \n",
            " 4   rating_count                     479 non-null    int64  \n",
            " 5   badges_count                     479 non-null    int64  \n",
            " 6   badge_local_product              479 non-null    int64  \n",
            " 7   badge_product_quality            479 non-null    int64  \n",
            " 8   badge_fast_shipping              479 non-null    int64  \n",
            " 9   product_variation_inventory      479 non-null    int64  \n",
            " 10  shipping_option_price            479 non-null    int64  \n",
            " 11  shipping_is_express              479 non-null    int64  \n",
            " 12  countries_shipped_to             479 non-null    int64  \n",
            " 13  inventory_total                  479 non-null    int64  \n",
            " 14  has_urgency_banner               479 non-null    float64\n",
            " 15  merchant_rating_count            479 non-null    int64  \n",
            " 16  merchant_rating                  479 non-null    float64\n",
            " 17  merchant_has_profile_picture     479 non-null    int64  \n",
            " 18  product_variation_size_id_L      479 non-null    uint8  \n",
            " 19  product_variation_size_id_M      479 non-null    uint8  \n",
            " 20  product_variation_size_id_Other  479 non-null    uint8  \n",
            " 21  product_variation_size_id_S      479 non-null    uint8  \n",
            " 22  product_variation_size_id_XL     479 non-null    uint8  \n",
            " 23  product_variation_size_id_XS     479 non-null    uint8  \n",
            " 24  product_variation_size_id_XXL+   479 non-null    uint8  \n",
            " 25  product_variation_size_id_XXS+   479 non-null    uint8  \n",
            " 26  product_color_black              479 non-null    uint8  \n",
            " 27  product_color_blue               479 non-null    uint8  \n",
            " 28  product_color_brown              479 non-null    uint8  \n",
            " 29  product_color_dual               479 non-null    uint8  \n",
            " 30  product_color_green              479 non-null    uint8  \n",
            " 31  product_color_grey               479 non-null    uint8  \n",
            " 32  product_color_orange             479 non-null    uint8  \n",
            " 33  product_color_other              479 non-null    uint8  \n",
            " 34  product_color_pink               479 non-null    uint8  \n",
            " 35  product_color_purple             479 non-null    uint8  \n",
            " 36  product_color_red                479 non-null    uint8  \n",
            " 37  product_color_white              479 non-null    uint8  \n",
            " 38  product_color_yellow             479 non-null    uint8  \n",
            " 39  origin_country_AT                479 non-null    uint8  \n",
            " 40  origin_country_CN                479 non-null    uint8  \n",
            " 41  origin_country_US                479 non-null    uint8  \n",
            " 42  origin_country_VE                479 non-null    uint8  \n",
            "dtypes: float64(3), int64(15), uint8(25)\n",
            "memory usage: 82.8 KB\n"
          ]
        }
      ]
    },
    {
      "cell_type": "code",
      "source": [
        "Xtest=df_11.loc[:]\n",
        " \n",
        "Xtest.shape"
      ],
      "metadata": {
        "id": "TW2kQP-CwW9T",
        "colab": {
          "base_uri": "https://localhost:8080/"
        },
        "outputId": "1d46da93-dc93-4200-f8d5-53c229ccd746"
      },
      "execution_count": 221,
      "outputs": [
        {
          "output_type": "execute_result",
          "data": {
            "text/plain": [
              "(479, 43)"
            ]
          },
          "metadata": {},
          "execution_count": 221
        }
      ]
    },
    {
      "cell_type": "code",
      "source": [
        "#Scaling \n",
        "Xtest = scaler.fit_transform(Xtest)"
      ],
      "metadata": {
        "id": "SVgfOQ1qwW_G"
      },
      "execution_count": 222,
      "outputs": []
    },
    {
      "cell_type": "code",
      "source": [
        "prediction_rf=rf.predict(Xtest)\n",
        "print(prediction_rf)"
      ],
      "metadata": {
        "colab": {
          "base_uri": "https://localhost:8080/"
        },
        "id": "hod6RfottJ89",
        "outputId": "05e1b39e-f853-4783-d473-07b62fc2b940"
      },
      "execution_count": 223,
      "outputs": [
        {
          "output_type": "stream",
          "name": "stdout",
          "text": [
            "[5. 4. 4. 4. 4. 5. 4. 4. 4. 4. 4. 4. 4. 4. 4. 4. 4. 4. 4. 5. 4. 5. 4. 4.\n",
            " 4. 4. 4. 4. 4. 4. 4. 4. 4. 4. 4. 4. 4. 4. 4. 4. 5. 4. 4. 4. 4. 4. 4. 4.\n",
            " 4. 4. 4. 5. 4. 4. 4. 4. 4. 4. 4. 4. 4. 4. 4. 4. 4. 4. 4. 4. 4. 4. 4. 4.\n",
            " 4. 4. 4. 4. 4. 4. 4. 4. 4. 4. 4. 4. 4. 4. 4. 4. 4. 4. 5. 4. 5. 4. 4. 4.\n",
            " 4. 4. 4. 4. 4. 4. 4. 4. 5. 4. 4. 4. 4. 4. 4. 4. 4. 4. 4. 4. 4. 4. 5. 4.\n",
            " 4. 4. 4. 4. 4. 4. 4. 4. 4. 4. 4. 4. 4. 4. 4. 4. 4. 4. 4. 4. 4. 4. 5. 4.\n",
            " 4. 4. 4. 4. 4. 4. 4. 4. 4. 4. 4. 4. 4. 4. 4. 4. 4. 4. 4. 4. 4. 4. 4. 4.\n",
            " 4. 4. 4. 4. 4. 4. 4. 4. 4. 4. 4. 4. 4. 4. 4. 4. 4. 4. 4. 4. 4. 4. 4. 4.\n",
            " 4. 4. 4. 4. 4. 4. 4. 4. 4. 4. 4. 4. 4. 4. 4. 4. 4. 4. 4. 5. 4. 4. 4. 4.\n",
            " 4. 4. 4. 4. 4. 4. 5. 4. 4. 4. 4. 4. 5. 4. 4. 4. 4. 4. 4. 4. 4. 4. 4. 4.\n",
            " 4. 4. 4. 5. 4. 4. 4. 4. 4. 4. 4. 4. 4. 4. 4. 4. 4. 4. 4. 4. 4. 4. 4. 4.\n",
            " 4. 4. 4. 4. 4. 4. 4. 4. 4. 4. 4. 4. 4. 4. 4. 4. 4. 4. 4. 4. 4. 4. 4. 4.\n",
            " 4. 4. 4. 4. 4. 4. 4. 4. 4. 4. 4. 4. 4. 4. 4. 4. 4. 4. 4. 4. 4. 4. 4. 4.\n",
            " 4. 4. 4. 4. 5. 4. 4. 4. 4. 4. 4. 4. 4. 4. 4. 4. 5. 4. 4. 4. 4. 4. 4. 4.\n",
            " 4. 4. 4. 4. 4. 4. 4. 4. 4. 4. 4. 4. 4. 4. 4. 4. 4. 4. 4. 4. 4. 4. 4. 4.\n",
            " 4. 4. 4. 4. 4. 4. 4. 4. 4. 4. 4. 4. 4. 4. 4. 4. 4. 4. 4. 4. 4. 4. 4. 4.\n",
            " 4. 4. 4. 4. 4. 4. 4. 4. 4. 4. 5. 4. 4. 4. 4. 4. 4. 4. 4. 4. 5. 5. 4. 4.\n",
            " 5. 4. 4. 5. 4. 4. 4. 4. 5. 4. 4. 4. 4. 4. 4. 4. 4. 4. 4. 4. 4. 4. 4. 4.\n",
            " 4. 4. 4. 4. 4. 4. 4. 4. 4. 4. 4. 4. 4. 4. 4. 4. 4. 4. 4. 4. 4. 4. 4. 4.\n",
            " 4. 4. 4. 4. 4. 4. 4. 4. 4. 4. 4. 4. 4. 4. 4. 4. 4. 4. 4. 4. 5. 4. 4.]\n"
          ]
        }
      ]
    },
    {
      "cell_type": "code",
      "source": [
        "#Predicting using decision tree model\n",
        "prediction_dt =clf.predict(Xtest)\n",
        "print(prediction_dt)"
      ],
      "metadata": {
        "id": "7oUwq1OjwXCl",
        "colab": {
          "base_uri": "https://localhost:8080/"
        },
        "outputId": "79ac8cd0-db86-43ff-ec36-81e1e74a978c"
      },
      "execution_count": 224,
      "outputs": [
        {
          "output_type": "stream",
          "name": "stdout",
          "text": [
            "[2. 4. 4. 4. 4. 2. 4. 4. 4. 4. 4. 4. 4. 4. 4. 4. 4. 4. 4. 2. 4. 2. 4. 4.\n",
            " 4. 4. 4. 4. 4. 4. 4. 4. 4. 4. 4. 4. 4. 4. 4. 4. 5. 4. 4. 4. 4. 4. 5. 4.\n",
            " 4. 4. 4. 2. 4. 4. 4. 4. 4. 4. 4. 4. 4. 4. 4. 4. 3. 4. 4. 4. 4. 4. 4. 4.\n",
            " 4. 4. 4. 4. 4. 4. 4. 4. 4. 4. 4. 4. 4. 4. 4. 4. 4. 4. 5. 4. 5. 2. 4. 4.\n",
            " 4. 4. 4. 4. 4. 4. 4. 4. 2. 4. 4. 4. 4. 4. 4. 4. 4. 4. 4. 4. 4. 4. 2. 4.\n",
            " 4. 4. 4. 4. 4. 4. 4. 4. 4. 4. 4. 4. 4. 4. 4. 4. 4. 4. 4. 4. 4. 4. 2. 4.\n",
            " 4. 4. 4. 4. 4. 4. 4. 4. 4. 4. 4. 4. 4. 4. 4. 4. 4. 4. 4. 4. 4. 4. 4. 4.\n",
            " 4. 4. 4. 4. 4. 4. 4. 4. 4. 4. 4. 4. 4. 4. 4. 4. 4. 4. 4. 4. 4. 4. 4. 4.\n",
            " 4. 4. 4. 4. 4. 4. 4. 4. 4. 4. 4. 4. 4. 4. 4. 4. 4. 5. 4. 5. 4. 4. 4. 4.\n",
            " 4. 4. 4. 4. 4. 4. 2. 4. 4. 4. 4. 4. 5. 4. 4. 4. 4. 4. 4. 4. 4. 4. 4. 4.\n",
            " 4. 4. 4. 2. 4. 4. 4. 4. 4. 4. 3. 4. 4. 4. 4. 4. 4. 4. 4. 4. 4. 4. 4. 4.\n",
            " 4. 4. 4. 4. 4. 4. 4. 4. 4. 4. 4. 4. 4. 4. 4. 4. 4. 4. 4. 4. 4. 4. 4. 4.\n",
            " 4. 4. 4. 4. 4. 4. 4. 4. 4. 4. 4. 4. 4. 4. 4. 4. 4. 4. 4. 4. 4. 4. 4. 4.\n",
            " 4. 4. 4. 4. 2. 4. 4. 4. 4. 4. 4. 4. 4. 4. 4. 4. 2. 5. 4. 4. 4. 4. 4. 4.\n",
            " 4. 4. 4. 4. 4. 4. 4. 5. 4. 4. 4. 4. 4. 4. 4. 4. 4. 4. 4. 4. 4. 4. 4. 4.\n",
            " 4. 4. 4. 4. 4. 5. 4. 4. 4. 4. 4. 2. 4. 4. 4. 4. 4. 4. 3. 4. 4. 4. 4. 4.\n",
            " 4. 4. 5. 4. 4. 4. 4. 2. 4. 4. 2. 5. 4. 4. 4. 4. 4. 4. 4. 4. 5. 3. 4. 4.\n",
            " 2. 4. 4. 2. 4. 4. 4. 4. 5. 4. 4. 4. 4. 4. 4. 4. 4. 4. 4. 4. 4. 4. 4. 4.\n",
            " 4. 4. 4. 4. 4. 4. 4. 5. 4. 4. 4. 4. 4. 4. 4. 4. 4. 4. 4. 4. 4. 4. 4. 4.\n",
            " 4. 4. 4. 4. 4. 4. 4. 4. 4. 4. 4. 4. 4. 4. 4. 4. 4. 4. 4. 4. 2. 4. 4.]\n"
          ]
        }
      ]
    },
    {
      "cell_type": "code",
      "source": [
        "#Predicting using Svm model\n",
        "prediction_svm = svm.predict(Xtest)\n",
        "print(prediction_svm)"
      ],
      "metadata": {
        "id": "fNlkJ0yhO_jx",
        "colab": {
          "base_uri": "https://localhost:8080/"
        },
        "outputId": "1d378c1b-1e54-464c-82cb-c3824f9742ad"
      },
      "execution_count": 225,
      "outputs": [
        {
          "output_type": "stream",
          "name": "stdout",
          "text": [
            "[4. 4. 4. 4. 4. 4. 4. 4. 4. 4. 4. 4. 4. 4. 4. 4. 4. 4. 4. 4. 4. 4. 4. 4.\n",
            " 4. 4. 4. 5. 4. 4. 4. 4. 4. 4. 4. 4. 4. 4. 4. 4. 5. 4. 4. 4. 4. 4. 4. 4.\n",
            " 4. 4. 4. 4. 4. 4. 4. 4. 4. 4. 4. 4. 4. 4. 4. 4. 4. 4. 4. 4. 4. 4. 4. 4.\n",
            " 4. 4. 4. 4. 4. 4. 4. 4. 4. 4. 4. 4. 4. 4. 4. 4. 4. 5. 4. 4. 4. 4. 4. 4.\n",
            " 4. 4. 4. 4. 4. 4. 4. 4. 4. 4. 4. 4. 4. 4. 4. 4. 4. 4. 4. 4. 4. 4. 4. 4.\n",
            " 4. 4. 4. 4. 4. 4. 4. 4. 4. 4. 4. 4. 4. 4. 4. 4. 4. 4. 5. 4. 4. 4. 4. 2.\n",
            " 5. 4. 4. 4. 4. 4. 4. 4. 4. 4. 4. 4. 4. 4. 4. 4. 4. 4. 4. 4. 4. 4. 4. 4.\n",
            " 4. 2. 4. 4. 2. 4. 4. 4. 4. 4. 4. 4. 4. 4. 4. 4. 4. 4. 4. 4. 4. 4. 4. 4.\n",
            " 4. 4. 4. 4. 4. 4. 4. 4. 4. 5. 4. 4. 4. 4. 4. 4. 4. 4. 4. 4. 4. 4. 5. 4.\n",
            " 4. 4. 4. 4. 4. 4. 4. 4. 4. 4. 4. 4. 5. 4. 4. 4. 4. 4. 4. 4. 4. 4. 4. 4.\n",
            " 4. 4. 4. 4. 4. 4. 4. 4. 4. 4. 4. 4. 4. 4. 4. 4. 4. 4. 4. 4. 4. 4. 4. 4.\n",
            " 4. 4. 4. 4. 4. 4. 4. 4. 4. 4. 4. 4. 4. 4. 4. 4. 4. 4. 4. 4. 4. 5. 4. 4.\n",
            " 4. 4. 4. 4. 4. 4. 4. 4. 4. 4. 4. 4. 4. 4. 4. 4. 4. 5. 4. 4. 4. 4. 4. 4.\n",
            " 4. 4. 4. 4. 4. 4. 4. 4. 4. 4. 4. 4. 4. 4. 5. 4. 4. 4. 4. 4. 4. 4. 4. 4.\n",
            " 4. 4. 4. 5. 4. 4. 4. 4. 4. 4. 4. 4. 4. 4. 4. 4. 4. 4. 4. 4. 4. 4. 5. 4.\n",
            " 4. 4. 4. 4. 4. 4. 4. 4. 4. 4. 4. 4. 4. 4. 4. 4. 4. 4. 4. 4. 4. 4. 4. 4.\n",
            " 4. 4. 4. 4. 4. 4. 4. 4. 4. 4. 4. 4. 4. 4. 4. 4. 4. 4. 5. 4. 5. 4. 4. 4.\n",
            " 4. 4. 4. 4. 4. 4. 4. 4. 4. 4. 4. 4. 2. 4. 4. 4. 4. 4. 2. 4. 4. 4. 4. 4.\n",
            " 4. 4. 4. 4. 4. 4. 2. 5. 4. 4. 4. 4. 4. 4. 4. 4. 4. 4. 4. 4. 4. 4. 4. 4.\n",
            " 4. 4. 4. 4. 4. 4. 4. 4. 4. 4. 4. 4. 4. 4. 4. 4. 2. 4. 2. 4. 2. 4. 4.]\n"
          ]
        }
      ]
    },
    {
      "cell_type": "code",
      "source": [
        "#predicting using naive model\n",
        "prediction_nb = gnb.predict(Xtest)\n",
        "print(prediction_nb)"
      ],
      "metadata": {
        "id": "VN3m4Q1699hn",
        "colab": {
          "base_uri": "https://localhost:8080/"
        },
        "outputId": "1bb99e33-87bb-4719-c88b-6e4d7c970e72"
      },
      "execution_count": 226,
      "outputs": [
        {
          "output_type": "stream",
          "name": "stdout",
          "text": [
            "[2. 4. 4. 4. 2. 2. 2. 2. 1. 4. 3. 4. 4. 4. 5. 3. 5. 1. 1. 4. 1. 2. 2. 4.\n",
            " 1. 2. 5. 5. 1. 4. 3. 3. 2. 2. 1. 1. 1. 1. 2. 3. 5. 1. 4. 1. 1. 1. 4. 1.\n",
            " 2. 1. 1. 2. 4. 4. 4. 2. 4. 2. 4. 3. 5. 1. 5. 4. 4. 1. 1. 2. 1. 4. 2. 1.\n",
            " 4. 4. 1. 4. 4. 1. 2. 1. 4. 1. 4. 4. 4. 2. 5. 2. 1. 5. 5. 1. 2. 2. 5. 1.\n",
            " 5. 2. 4. 3. 1. 1. 4. 1. 2. 1. 2. 4. 4. 4. 2. 4. 1. 5. 3. 4. 5. 4. 3. 1.\n",
            " 3. 1. 4. 2. 2. 5. 1. 2. 4. 2. 1. 4. 1. 5. 2. 5. 4. 1. 5. 5. 5. 2. 2. 5.\n",
            " 5. 1. 1. 5. 2. 2. 2. 1. 4. 1. 2. 1. 5. 4. 2. 4. 4. 5. 1. 1. 2. 1. 5. 4.\n",
            " 4. 5. 1. 1. 5. 1. 2. 2. 4. 2. 4. 2. 5. 4. 2. 1. 4. 4. 4. 5. 4. 1. 2. 2.\n",
            " 2. 4. 3. 5. 1. 1. 2. 4. 1. 5. 1. 1. 1. 1. 2. 5. 2. 1. 5. 2. 4. 2. 5. 1.\n",
            " 4. 2. 1. 2. 2. 2. 2. 1. 2. 2. 5. 4. 5. 2. 2. 4. 4. 1. 5. 4. 4. 1. 4. 4.\n",
            " 5. 4. 4. 2. 4. 5. 2. 1. 2. 2. 1. 5. 1. 4. 2. 5. 2. 2. 1. 1. 5. 4. 2. 4.\n",
            " 1. 4. 1. 5. 4. 5. 1. 2. 2. 1. 1. 1. 1. 2. 4. 1. 2. 3. 1. 1. 4. 5. 1. 4.\n",
            " 4. 2. 1. 1. 4. 4. 4. 2. 4. 1. 4. 1. 2. 2. 2. 1. 4. 5. 5. 3. 1. 2. 4. 2.\n",
            " 2. 2. 4. 1. 2. 2. 2. 2. 2. 1. 1. 1. 2. 2. 5. 4. 2. 1. 4. 1. 2. 1. 2. 2.\n",
            " 1. 2. 4. 5. 1. 4. 2. 2. 1. 4. 2. 5. 3. 4. 5. 1. 2. 4. 4. 4. 5. 4. 5. 4.\n",
            " 1. 4. 2. 2. 2. 4. 2. 4. 1. 2. 1. 5. 1. 1. 4. 1. 5. 4. 1. 1. 1. 3. 4. 4.\n",
            " 4. 1. 4. 4. 4. 2. 2. 1. 4. 1. 4. 1. 2. 2. 2. 1. 4. 1. 5. 2. 5. 2. 4. 2.\n",
            " 1. 4. 1. 2. 5. 4. 4. 3. 5. 5. 5. 4. 5. 1. 1. 2. 2. 2. 5. 1. 4. 2. 5. 5.\n",
            " 4. 5. 2. 1. 4. 2. 5. 5. 1. 2. 3. 1. 1. 2. 1. 5. 1. 4. 1. 1. 4. 2. 1. 4.\n",
            " 2. 4. 1. 1. 1. 2. 5. 2. 4. 2. 4. 1. 2. 1. 4. 2. 5. 4. 2. 4. 2. 3. 2.]\n"
          ]
        }
      ]
    },
    {
      "cell_type": "code",
      "source": [
        "#saving the prediction in the file\n",
        "pred_rf = pd.DataFrame(data={'id': _id, 'rating':prediction_rf})\n",
        "\n",
        "pred_rf.to_csv('pred_rf.csv', index=False)"
      ],
      "metadata": {
        "id": "882f3snXtXQV"
      },
      "execution_count": 227,
      "outputs": []
    },
    {
      "cell_type": "code",
      "source": [
        "#saving the prediction in the file\n",
        "pred_df = pd.DataFrame(data={'id': _id, 'rating':prediction_nb})\n",
        "\n",
        "pred_df.to_csv('pred_nb.csv', index=False)"
      ],
      "metadata": {
        "id": "-Y24N-j8-OdB"
      },
      "execution_count": 228,
      "outputs": []
    },
    {
      "cell_type": "markdown",
      "source": [],
      "metadata": {
        "id": "LMuiIvhEPLEB"
      }
    },
    {
      "cell_type": "code",
      "source": [
        "#saving the prediction in the file\n",
        "pred_df = pd.DataFrame(data={'id': _id, 'rating': prediction_dt})\n",
        "\n",
        "pred_df.to_csv('pred_dt.csv', index=False)"
      ],
      "metadata": {
        "id": "Y1VSxtNaO_u1"
      },
      "execution_count": 229,
      "outputs": []
    },
    {
      "cell_type": "code",
      "source": [
        "\n",
        "pred_df.to_csv('df', index=False)"
      ],
      "metadata": {
        "id": "HQku69yz5F7u"
      },
      "execution_count": 230,
      "outputs": []
    },
    {
      "cell_type": "code",
      "source": [
        "#saving the prediction in the file\n",
        "pred_df = pd.DataFrame(data={'id': _id, 'rating': prediction_svm})\n",
        "\n",
        "pred_df.to_csv('pred_svm.csv', index=False)"
      ],
      "metadata": {
        "id": "CQy_9_3RPW38"
      },
      "execution_count": 231,
      "outputs": []
    },
    {
      "cell_type": "markdown",
      "source": [
        "**trail2**"
      ],
      "metadata": {
        "id": "IsLwymFsy_V9"
      }
    },
    {
      "cell_type": "code",
      "source": [
        "#Reading the train dataset\n",
        "df2= pd.read_csv('/content/train_new.csv')"
      ],
      "metadata": {
        "id": "0F2br55KzUas"
      },
      "execution_count": 232,
      "outputs": []
    },
    {
      "cell_type": "code",
      "source": [
        "missing_values_count = df2.isnull().sum()\n",
        "\n",
        "# look at the # of missing points in all the coloumns\n",
        "missing_values_count[:]"
      ],
      "metadata": {
        "id": "s7oK2dnpzUmD",
        "colab": {
          "base_uri": "https://localhost:8080/"
        },
        "outputId": "b8ed585f-d4e2-4e24-dce7-02cc85f16a40"
      },
      "execution_count": 233,
      "outputs": [
        {
          "output_type": "execute_result",
          "data": {
            "text/plain": [
              "price                             0\n",
              "retail_price                      0\n",
              "currency_buyer                    0\n",
              "units_sold                        0\n",
              "uses_ad_boosts                    0\n",
              "rating                            0\n",
              "rating_count                      0\n",
              "badges_count                      0\n",
              "badge_local_product               0\n",
              "badge_product_quality             0\n",
              "badge_fast_shipping               0\n",
              "tags                              0\n",
              "product_color                    29\n",
              "product_variation_size_id        12\n",
              "product_variation_inventory       0\n",
              "shipping_option_name              0\n",
              "shipping_option_price             0\n",
              "shipping_is_express               0\n",
              "countries_shipped_to              0\n",
              "inventory_total                   0\n",
              "has_urgency_banner              745\n",
              "urgency_text                    745\n",
              "origin_country                   12\n",
              "merchant_title                    0\n",
              "merchant_name                     4\n",
              "merchant_info_subtitle            0\n",
              "merchant_rating_count             0\n",
              "merchant_rating                   0\n",
              "merchant_id                       0\n",
              "merchant_has_profile_picture      0\n",
              "merchant_profile_picture        924\n",
              "theme                             0\n",
              "crawl_month                       0\n",
              "id                                0\n",
              "dtype: int64"
            ]
          },
          "metadata": {},
          "execution_count": 233
        }
      ]
    },
    {
      "cell_type": "code",
      "source": [
        "#Letting the rates in range between 1 to 5\n",
        "df2=df2.loc[df2['rating'].isin([1,2,3,4,5])]"
      ],
      "metadata": {
        "id": "jJTsEo460sFv"
      },
      "execution_count": 234,
      "outputs": []
    },
    {
      "cell_type": "code",
      "source": [
        "#Checking more details about our data\n",
        "df2.describe()"
      ],
      "metadata": {
        "id": "2VlWPWI_zUpL",
        "colab": {
          "base_uri": "https://localhost:8080/",
          "height": 364
        },
        "outputId": "9a188eb0-897b-48cb-fa0f-c430963ea0b2"
      },
      "execution_count": 235,
      "outputs": [
        {
          "output_type": "execute_result",
          "data": {
            "text/plain": [
              "             price  retail_price     units_sold  uses_ad_boosts       rating  \\\n",
              "count  1093.000000   1093.000000    1093.000000     1093.000000  1093.000000   \n",
              "mean      8.283568     23.695334    4522.704483        0.432754     4.004575   \n",
              "std       3.836460     31.812401    9829.196136        0.495684     0.582857   \n",
              "min       1.000000      2.000000       1.000000        0.000000     1.000000   \n",
              "25%       5.830000      7.000000     100.000000        0.000000     4.000000   \n",
              "50%       8.000000     10.000000    1000.000000        0.000000     4.000000   \n",
              "75%      11.000000     26.000000    5000.000000        1.000000     4.000000   \n",
              "max      27.000000    252.000000  100000.000000        1.000000     5.000000   \n",
              "\n",
              "       rating_count  badges_count  badge_local_product  badge_product_quality  \\\n",
              "count   1093.000000   1093.000000          1093.000000            1093.000000   \n",
              "mean     916.355901      0.113449             0.019213               0.083257   \n",
              "std     2038.307907      0.347588             0.137336               0.276397   \n",
              "min        0.000000      0.000000             0.000000               0.000000   \n",
              "25%       24.000000      0.000000             0.000000               0.000000   \n",
              "50%      144.000000      0.000000             0.000000               0.000000   \n",
              "75%      846.000000      0.000000             0.000000               0.000000   \n",
              "max    20744.000000      3.000000             1.000000               1.000000   \n",
              "\n",
              "       badge_fast_shipping  product_variation_inventory  \\\n",
              "count          1093.000000                  1093.000000   \n",
              "mean              0.010979                    32.835316   \n",
              "std               0.104251                    21.444202   \n",
              "min               0.000000                     1.000000   \n",
              "25%               0.000000                     6.000000   \n",
              "50%               0.000000                    50.000000   \n",
              "75%               0.000000                    50.000000   \n",
              "max               1.000000                    50.000000   \n",
              "\n",
              "       shipping_option_price  shipping_is_express  countries_shipped_to  \\\n",
              "count            1093.000000          1093.000000           1093.000000   \n",
              "mean                2.335773             0.001830             40.483989   \n",
              "std                 1.003552             0.042757             20.205469   \n",
              "min                 1.000000             0.000000              8.000000   \n",
              "25%                 2.000000             0.000000             31.000000   \n",
              "50%                 2.000000             0.000000             40.000000   \n",
              "75%                 3.000000             0.000000             43.000000   \n",
              "max                 7.000000             1.000000            140.000000   \n",
              "\n",
              "       inventory_total  has_urgency_banner  merchant_rating_count  \\\n",
              "count      1093.000000               349.0           1.093000e+03   \n",
              "mean         49.892955                 1.0           2.678107e+04   \n",
              "std           2.015161                 0.0           8.620109e+04   \n",
              "min           1.000000                 1.0           4.000000e+00   \n",
              "25%          50.000000                 1.0           1.926000e+03   \n",
              "50%          50.000000                 1.0           8.225000e+03   \n",
              "75%          50.000000                 1.0           2.276500e+04   \n",
              "max          50.000000                 1.0           2.174765e+06   \n",
              "\n",
              "       merchant_rating  merchant_has_profile_picture           id  \n",
              "count      1093.000000                   1093.000000  1093.000000  \n",
              "mean          4.036020                      0.155535   772.806038  \n",
              "std           0.200409                      0.362580   453.559910  \n",
              "min           2.941176                      0.000000     2.000000  \n",
              "25%           3.918367                      0.000000   383.000000  \n",
              "50%           4.045170                      0.000000   753.000000  \n",
              "75%           4.166509                      0.000000  1167.000000  \n",
              "max           4.577519                      1.000000  1572.000000  "
            ],
            "text/html": [
              "\n",
              "  <div id=\"df-f387a26c-3dcd-439e-8ae6-80a5c95d444c\">\n",
              "    <div class=\"colab-df-container\">\n",
              "      <div>\n",
              "<style scoped>\n",
              "    .dataframe tbody tr th:only-of-type {\n",
              "        vertical-align: middle;\n",
              "    }\n",
              "\n",
              "    .dataframe tbody tr th {\n",
              "        vertical-align: top;\n",
              "    }\n",
              "\n",
              "    .dataframe thead th {\n",
              "        text-align: right;\n",
              "    }\n",
              "</style>\n",
              "<table border=\"1\" class=\"dataframe\">\n",
              "  <thead>\n",
              "    <tr style=\"text-align: right;\">\n",
              "      <th></th>\n",
              "      <th>price</th>\n",
              "      <th>retail_price</th>\n",
              "      <th>units_sold</th>\n",
              "      <th>uses_ad_boosts</th>\n",
              "      <th>rating</th>\n",
              "      <th>rating_count</th>\n",
              "      <th>badges_count</th>\n",
              "      <th>badge_local_product</th>\n",
              "      <th>badge_product_quality</th>\n",
              "      <th>badge_fast_shipping</th>\n",
              "      <th>product_variation_inventory</th>\n",
              "      <th>shipping_option_price</th>\n",
              "      <th>shipping_is_express</th>\n",
              "      <th>countries_shipped_to</th>\n",
              "      <th>inventory_total</th>\n",
              "      <th>has_urgency_banner</th>\n",
              "      <th>merchant_rating_count</th>\n",
              "      <th>merchant_rating</th>\n",
              "      <th>merchant_has_profile_picture</th>\n",
              "      <th>id</th>\n",
              "    </tr>\n",
              "  </thead>\n",
              "  <tbody>\n",
              "    <tr>\n",
              "      <th>count</th>\n",
              "      <td>1093.000000</td>\n",
              "      <td>1093.000000</td>\n",
              "      <td>1093.000000</td>\n",
              "      <td>1093.000000</td>\n",
              "      <td>1093.000000</td>\n",
              "      <td>1093.000000</td>\n",
              "      <td>1093.000000</td>\n",
              "      <td>1093.000000</td>\n",
              "      <td>1093.000000</td>\n",
              "      <td>1093.000000</td>\n",
              "      <td>1093.000000</td>\n",
              "      <td>1093.000000</td>\n",
              "      <td>1093.000000</td>\n",
              "      <td>1093.000000</td>\n",
              "      <td>1093.000000</td>\n",
              "      <td>349.0</td>\n",
              "      <td>1.093000e+03</td>\n",
              "      <td>1093.000000</td>\n",
              "      <td>1093.000000</td>\n",
              "      <td>1093.000000</td>\n",
              "    </tr>\n",
              "    <tr>\n",
              "      <th>mean</th>\n",
              "      <td>8.283568</td>\n",
              "      <td>23.695334</td>\n",
              "      <td>4522.704483</td>\n",
              "      <td>0.432754</td>\n",
              "      <td>4.004575</td>\n",
              "      <td>916.355901</td>\n",
              "      <td>0.113449</td>\n",
              "      <td>0.019213</td>\n",
              "      <td>0.083257</td>\n",
              "      <td>0.010979</td>\n",
              "      <td>32.835316</td>\n",
              "      <td>2.335773</td>\n",
              "      <td>0.001830</td>\n",
              "      <td>40.483989</td>\n",
              "      <td>49.892955</td>\n",
              "      <td>1.0</td>\n",
              "      <td>2.678107e+04</td>\n",
              "      <td>4.036020</td>\n",
              "      <td>0.155535</td>\n",
              "      <td>772.806038</td>\n",
              "    </tr>\n",
              "    <tr>\n",
              "      <th>std</th>\n",
              "      <td>3.836460</td>\n",
              "      <td>31.812401</td>\n",
              "      <td>9829.196136</td>\n",
              "      <td>0.495684</td>\n",
              "      <td>0.582857</td>\n",
              "      <td>2038.307907</td>\n",
              "      <td>0.347588</td>\n",
              "      <td>0.137336</td>\n",
              "      <td>0.276397</td>\n",
              "      <td>0.104251</td>\n",
              "      <td>21.444202</td>\n",
              "      <td>1.003552</td>\n",
              "      <td>0.042757</td>\n",
              "      <td>20.205469</td>\n",
              "      <td>2.015161</td>\n",
              "      <td>0.0</td>\n",
              "      <td>8.620109e+04</td>\n",
              "      <td>0.200409</td>\n",
              "      <td>0.362580</td>\n",
              "      <td>453.559910</td>\n",
              "    </tr>\n",
              "    <tr>\n",
              "      <th>min</th>\n",
              "      <td>1.000000</td>\n",
              "      <td>2.000000</td>\n",
              "      <td>1.000000</td>\n",
              "      <td>0.000000</td>\n",
              "      <td>1.000000</td>\n",
              "      <td>0.000000</td>\n",
              "      <td>0.000000</td>\n",
              "      <td>0.000000</td>\n",
              "      <td>0.000000</td>\n",
              "      <td>0.000000</td>\n",
              "      <td>1.000000</td>\n",
              "      <td>1.000000</td>\n",
              "      <td>0.000000</td>\n",
              "      <td>8.000000</td>\n",
              "      <td>1.000000</td>\n",
              "      <td>1.0</td>\n",
              "      <td>4.000000e+00</td>\n",
              "      <td>2.941176</td>\n",
              "      <td>0.000000</td>\n",
              "      <td>2.000000</td>\n",
              "    </tr>\n",
              "    <tr>\n",
              "      <th>25%</th>\n",
              "      <td>5.830000</td>\n",
              "      <td>7.000000</td>\n",
              "      <td>100.000000</td>\n",
              "      <td>0.000000</td>\n",
              "      <td>4.000000</td>\n",
              "      <td>24.000000</td>\n",
              "      <td>0.000000</td>\n",
              "      <td>0.000000</td>\n",
              "      <td>0.000000</td>\n",
              "      <td>0.000000</td>\n",
              "      <td>6.000000</td>\n",
              "      <td>2.000000</td>\n",
              "      <td>0.000000</td>\n",
              "      <td>31.000000</td>\n",
              "      <td>50.000000</td>\n",
              "      <td>1.0</td>\n",
              "      <td>1.926000e+03</td>\n",
              "      <td>3.918367</td>\n",
              "      <td>0.000000</td>\n",
              "      <td>383.000000</td>\n",
              "    </tr>\n",
              "    <tr>\n",
              "      <th>50%</th>\n",
              "      <td>8.000000</td>\n",
              "      <td>10.000000</td>\n",
              "      <td>1000.000000</td>\n",
              "      <td>0.000000</td>\n",
              "      <td>4.000000</td>\n",
              "      <td>144.000000</td>\n",
              "      <td>0.000000</td>\n",
              "      <td>0.000000</td>\n",
              "      <td>0.000000</td>\n",
              "      <td>0.000000</td>\n",
              "      <td>50.000000</td>\n",
              "      <td>2.000000</td>\n",
              "      <td>0.000000</td>\n",
              "      <td>40.000000</td>\n",
              "      <td>50.000000</td>\n",
              "      <td>1.0</td>\n",
              "      <td>8.225000e+03</td>\n",
              "      <td>4.045170</td>\n",
              "      <td>0.000000</td>\n",
              "      <td>753.000000</td>\n",
              "    </tr>\n",
              "    <tr>\n",
              "      <th>75%</th>\n",
              "      <td>11.000000</td>\n",
              "      <td>26.000000</td>\n",
              "      <td>5000.000000</td>\n",
              "      <td>1.000000</td>\n",
              "      <td>4.000000</td>\n",
              "      <td>846.000000</td>\n",
              "      <td>0.000000</td>\n",
              "      <td>0.000000</td>\n",
              "      <td>0.000000</td>\n",
              "      <td>0.000000</td>\n",
              "      <td>50.000000</td>\n",
              "      <td>3.000000</td>\n",
              "      <td>0.000000</td>\n",
              "      <td>43.000000</td>\n",
              "      <td>50.000000</td>\n",
              "      <td>1.0</td>\n",
              "      <td>2.276500e+04</td>\n",
              "      <td>4.166509</td>\n",
              "      <td>0.000000</td>\n",
              "      <td>1167.000000</td>\n",
              "    </tr>\n",
              "    <tr>\n",
              "      <th>max</th>\n",
              "      <td>27.000000</td>\n",
              "      <td>252.000000</td>\n",
              "      <td>100000.000000</td>\n",
              "      <td>1.000000</td>\n",
              "      <td>5.000000</td>\n",
              "      <td>20744.000000</td>\n",
              "      <td>3.000000</td>\n",
              "      <td>1.000000</td>\n",
              "      <td>1.000000</td>\n",
              "      <td>1.000000</td>\n",
              "      <td>50.000000</td>\n",
              "      <td>7.000000</td>\n",
              "      <td>1.000000</td>\n",
              "      <td>140.000000</td>\n",
              "      <td>50.000000</td>\n",
              "      <td>1.0</td>\n",
              "      <td>2.174765e+06</td>\n",
              "      <td>4.577519</td>\n",
              "      <td>1.000000</td>\n",
              "      <td>1572.000000</td>\n",
              "    </tr>\n",
              "  </tbody>\n",
              "</table>\n",
              "</div>\n",
              "      <button class=\"colab-df-convert\" onclick=\"convertToInteractive('df-f387a26c-3dcd-439e-8ae6-80a5c95d444c')\"\n",
              "              title=\"Convert this dataframe to an interactive table.\"\n",
              "              style=\"display:none;\">\n",
              "        \n",
              "  <svg xmlns=\"http://www.w3.org/2000/svg\" height=\"24px\"viewBox=\"0 0 24 24\"\n",
              "       width=\"24px\">\n",
              "    <path d=\"M0 0h24v24H0V0z\" fill=\"none\"/>\n",
              "    <path d=\"M18.56 5.44l.94 2.06.94-2.06 2.06-.94-2.06-.94-.94-2.06-.94 2.06-2.06.94zm-11 1L8.5 8.5l.94-2.06 2.06-.94-2.06-.94L8.5 2.5l-.94 2.06-2.06.94zm10 10l.94 2.06.94-2.06 2.06-.94-2.06-.94-.94-2.06-.94 2.06-2.06.94z\"/><path d=\"M17.41 7.96l-1.37-1.37c-.4-.4-.92-.59-1.43-.59-.52 0-1.04.2-1.43.59L10.3 9.45l-7.72 7.72c-.78.78-.78 2.05 0 2.83L4 21.41c.39.39.9.59 1.41.59.51 0 1.02-.2 1.41-.59l7.78-7.78 2.81-2.81c.8-.78.8-2.07 0-2.86zM5.41 20L4 18.59l7.72-7.72 1.47 1.35L5.41 20z\"/>\n",
              "  </svg>\n",
              "      </button>\n",
              "      \n",
              "  <style>\n",
              "    .colab-df-container {\n",
              "      display:flex;\n",
              "      flex-wrap:wrap;\n",
              "      gap: 12px;\n",
              "    }\n",
              "\n",
              "    .colab-df-convert {\n",
              "      background-color: #E8F0FE;\n",
              "      border: none;\n",
              "      border-radius: 50%;\n",
              "      cursor: pointer;\n",
              "      display: none;\n",
              "      fill: #1967D2;\n",
              "      height: 32px;\n",
              "      padding: 0 0 0 0;\n",
              "      width: 32px;\n",
              "    }\n",
              "\n",
              "    .colab-df-convert:hover {\n",
              "      background-color: #E2EBFA;\n",
              "      box-shadow: 0px 1px 2px rgba(60, 64, 67, 0.3), 0px 1px 3px 1px rgba(60, 64, 67, 0.15);\n",
              "      fill: #174EA6;\n",
              "    }\n",
              "\n",
              "    [theme=dark] .colab-df-convert {\n",
              "      background-color: #3B4455;\n",
              "      fill: #D2E3FC;\n",
              "    }\n",
              "\n",
              "    [theme=dark] .colab-df-convert:hover {\n",
              "      background-color: #434B5C;\n",
              "      box-shadow: 0px 1px 3px 1px rgba(0, 0, 0, 0.15);\n",
              "      filter: drop-shadow(0px 1px 2px rgba(0, 0, 0, 0.3));\n",
              "      fill: #FFFFFF;\n",
              "    }\n",
              "  </style>\n",
              "\n",
              "      <script>\n",
              "        const buttonEl =\n",
              "          document.querySelector('#df-f387a26c-3dcd-439e-8ae6-80a5c95d444c button.colab-df-convert');\n",
              "        buttonEl.style.display =\n",
              "          google.colab.kernel.accessAllowed ? 'block' : 'none';\n",
              "\n",
              "        async function convertToInteractive(key) {\n",
              "          const element = document.querySelector('#df-f387a26c-3dcd-439e-8ae6-80a5c95d444c');\n",
              "          const dataTable =\n",
              "            await google.colab.kernel.invokeFunction('convertToInteractive',\n",
              "                                                     [key], {});\n",
              "          if (!dataTable) return;\n",
              "\n",
              "          const docLinkHtml = 'Like what you see? Visit the ' +\n",
              "            '<a target=\"_blank\" href=https://colab.research.google.com/notebooks/data_table.ipynb>data table notebook</a>'\n",
              "            + ' to learn more about interactive tables.';\n",
              "          element.innerHTML = '';\n",
              "          dataTable['output_type'] = 'display_data';\n",
              "          await google.colab.output.renderOutput(dataTable, element);\n",
              "          const docLink = document.createElement('div');\n",
              "          docLink.innerHTML = docLinkHtml;\n",
              "          element.appendChild(docLink);\n",
              "        }\n",
              "      </script>\n",
              "    </div>\n",
              "  </div>\n",
              "  "
            ]
          },
          "metadata": {},
          "execution_count": 235
        }
      ]
    },
    {
      "cell_type": "code",
      "source": [
        "#droping the unnessary column\n",
        "df2.drop('tags',axis='columns', inplace=True)\n",
        "df2.drop('shipping_option_name',axis='columns', inplace=True)\n",
        "df2.drop('merchant_title',axis='columns', inplace=True)\n",
        "df2.drop('merchant_name',axis='columns', inplace=True)\n",
        "df2.drop('merchant_info_subtitle',axis='columns', inplace=True)\n",
        "df2.drop('merchant_profile_picture',axis='columns', inplace=True)\n",
        "df2.drop('urgency_text',axis='columns', inplace=True)\n",
        "df2.drop('currency_buyer',axis='columns', inplace=True)\n",
        "df2.drop('merchant_id',axis='columns',inplace=True)\n",
        "df2.drop('crawl_month',axis='columns', inplace=True)\n",
        "df2.drop('theme',axis='columns', inplace=True)\n",
        "df2.drop('id',axis='columns', inplace=True)"
      ],
      "metadata": {
        "id": "KhOSvJ8IzUqo"
      },
      "execution_count": 236,
      "outputs": []
    },
    {
      "cell_type": "code",
      "source": [
        "subset_df_data = df2.loc[:, 'origin_country']\n",
        "subset_df_data"
      ],
      "metadata": {
        "id": "xSLsf5Fr1S8v",
        "colab": {
          "base_uri": "https://localhost:8080/"
        },
        "outputId": "cd847524-fda1-423a-97b6-b2752505ba72"
      },
      "execution_count": 237,
      "outputs": [
        {
          "output_type": "execute_result",
          "data": {
            "text/plain": [
              "0       CN\n",
              "1       CN\n",
              "2       CN\n",
              "3       CN\n",
              "4       CN\n",
              "        ..\n",
              "1089    CN\n",
              "1090    CN\n",
              "1091    CN\n",
              "1092    CN\n",
              "1093    CN\n",
              "Name: origin_country, Length: 1093, dtype: object"
            ]
          },
          "metadata": {},
          "execution_count": 237
        }
      ]
    },
    {
      "cell_type": "code",
      "source": [
        "#filling the missing values in origin_country columns\n",
        "df2.loc[:, 'origin_country']=subset_df_data.fillna('CN')"
      ],
      "metadata": {
        "id": "rDamLQJ01ZwQ"
      },
      "execution_count": 238,
      "outputs": []
    },
    {
      "cell_type": "code",
      "source": [
        "#Filling the missing values in urgency banner column\n",
        "subset_df_data1 = df2.loc[:,'has_urgency_banner']\n",
        "df2.loc[:,'has_urgency_banner']=subset_df_data1.fillna(0)"
      ],
      "metadata": {
        "id": "xOeRMMoL1Z1j"
      },
      "execution_count": 239,
      "outputs": []
    },
    {
      "cell_type": "code",
      "source": [
        "#replacing the size valus with its corresponding size category\n",
        "df2['product_variation_size_id'].replace(['S', 'S.', 's', 'Size S', 'Size-S', 'Size S.', 'Suit-S', 'size S','S Pink', 'pants-S', 'US-S', 'SIZE S', 'S (waist58-62cm)', 'Size--S', '25-S', 'Size/S', 'S Diameter 30cm', 'S..', 'S(Pink & Black)'], 'S', inplace=True)\n",
        "df2['product_variation_size_id'].replace(['XS', 'XS.', 'SIZE XS', 'Size-XS'], 'XS', inplace=True)\n",
        "df2['product_variation_size_id'].replace(['XXS', 'XXXS', 'SIZE-XXS', 'Size -XXS', 'Size XXS', 'Size-XXS', 'SIZE XXS'], 'XXS+', inplace=True)\n",
        "df2['product_variation_size_id'].replace(['M', 'M.', 'Size M'], 'M', inplace=True)\n",
        "df2['product_variation_size_id'].replace(['L', 'SizeL', '32/L', 'L.', 'Size-L'], 'L', inplace=True)\n",
        "df2['product_variation_size_id'].replace(['XL', '2XL', '1 PC - XL', 'X   L'], 'XL', inplace=True)\n",
        "df2['product_variation_size_id'].replace(['XXL', '4XL', '2XL', 'Size4XL', '3XL', 'XXXXXL', '1 PC - XL', 'SIZE-4XL', '04-3XL', 'Size-5XL', 'XXXXL', '5XL', 'XXXL'], 'XXL+', inplace=True)\n",
        "size_val_counts = df2['product_variation_size_id'].value_counts()\n",
        "# Select the values where the count is less than 5 \n",
        "minority = size_val_counts[size_val_counts <= 5].index\n",
        "df2.loc[df2['product_variation_size_id'].isin(minority), 'product_variation_size_id'] = \"Other\"\n",
        "df2['product_variation_size_id'] = df2['product_variation_size_id'].replace(np.nan, \"Other\")"
      ],
      "metadata": {
        "id": "Re8LxED11Z4Y"
      },
      "execution_count": 240,
      "outputs": []
    },
    {
      "cell_type": "code",
      "source": [
        "#checking the unique values or colors column\n",
        "colors = df2['product_color'].unique()\n",
        "colors"
      ],
      "metadata": {
        "id": "7JGfZA8n1TBz",
        "colab": {
          "base_uri": "https://localhost:8080/"
        },
        "outputId": "771c491d-e237-4890-cc65-2e6c3b01619e"
      },
      "execution_count": 241,
      "outputs": [
        {
          "output_type": "execute_result",
          "data": {
            "text/plain": [
              "array(['yellow', 'black', 'white', 'lakeblue', 'apricot', 'brown',\n",
              "       'winered', 'blue', 'red', 'navyblue', 'green', 'khaki', 'White',\n",
              "       'white & green', 'multicolor', 'lightpink', 'pink', 'RED',\n",
              "       'armygreen', 'lightblue', nan, 'coffee', 'grey', 'skyblue',\n",
              "       'watermelonred', 'pink & black', 'whitefloral', 'purple', 'navy',\n",
              "       'pink & white', 'rosered', 'orange', 'Black', 'mintgreen',\n",
              "       'leopardprint', 'gray', 'navy blue', 'star', 'rose', 'lightyellow',\n",
              "       'camouflage', 'black & yellow', 'whitestripe', 'navyblue & white',\n",
              "       'black & blue', 'lightred', 'violet', 'gold', 'black & green',\n",
              "       'white & black', 'burgundy', 'black & white', 'lightgrey',\n",
              "       'coolblack', 'lightgreen', 'beige', 'darkblue', 'darkgreen',\n",
              "       'silver', 'wine red', 'Army green', 'pink & blue', 'rainbow',\n",
              "       'claret', 'floral', 'brown & yellow', 'light green', 'Pink',\n",
              "       'blue & pink', 'dustypink', 'camel', 'orange-red', 'rosegold',\n",
              "       'ivory', 'fluorescentgreen', 'winered & yellow', 'offwhite',\n",
              "       'lightgray', 'wine', 'army', 'applegreen', 'nude', 'pink & grey',\n",
              "       'denimblue', 'blackwhite', 'Blue', 'leopard'], dtype=object)"
            ]
          },
          "metadata": {},
          "execution_count": 241
        }
      ]
    },
    {
      "cell_type": "code",
      "source": [
        "# convert to lower case\n",
        "df2['product_color'] = df2['product_color'].str.lower()\n",
        "# remove trailing white spaces\n",
        "df2['product_color'] = df2['product_color'].str.strip()"
      ],
      "metadata": {
        "id": "_Q0-nn4vzUtr"
      },
      "execution_count": 242,
      "outputs": []
    },
    {
      "cell_type": "code",
      "source": [
        "#Matching each color to its corresponding color category\n",
        "df2['product_color'] = df2.product_color.apply(switch)"
      ],
      "metadata": {
        "id": "yhAGe6HbzUvD"
      },
      "execution_count": 243,
      "outputs": []
    },
    {
      "cell_type": "code",
      "source": [
        "missing_values_count = df2.isnull().sum()\n",
        "\n",
        "# look at the values in all columns after handling them  \n",
        "missing_values_count[:]"
      ],
      "metadata": {
        "id": "jMfe5uXFzUzE",
        "colab": {
          "base_uri": "https://localhost:8080/"
        },
        "outputId": "ba8f5983-fba5-4b66-aebe-80124e003cf6"
      },
      "execution_count": 244,
      "outputs": [
        {
          "output_type": "execute_result",
          "data": {
            "text/plain": [
              "price                           0\n",
              "retail_price                    0\n",
              "units_sold                      0\n",
              "uses_ad_boosts                  0\n",
              "rating                          0\n",
              "rating_count                    0\n",
              "badges_count                    0\n",
              "badge_local_product             0\n",
              "badge_product_quality           0\n",
              "badge_fast_shipping             0\n",
              "product_color                   0\n",
              "product_variation_size_id       0\n",
              "product_variation_inventory     0\n",
              "shipping_option_price           0\n",
              "shipping_is_express             0\n",
              "countries_shipped_to            0\n",
              "inventory_total                 0\n",
              "has_urgency_banner              0\n",
              "origin_country                  0\n",
              "merchant_rating_count           0\n",
              "merchant_rating                 0\n",
              "merchant_has_profile_picture    0\n",
              "dtype: int64"
            ]
          },
          "metadata": {},
          "execution_count": 244
        }
      ]
    },
    {
      "cell_type": "markdown",
      "source": [
        "add new feature to the dataset"
      ],
      "metadata": {
        "id": "SZypzcBJ4T_v"
      }
    },
    {
      "cell_type": "code",
      "source": [
        "#Creating discount feature\n",
        "df2['percent_discount'] = (df2['retail_price'] - df2['price']) / df2['retail_price'] * 100\n",
        "df2[['retail_price', 'price', 'percent_discount']].head()"
      ],
      "metadata": {
        "id": "WYzr2-LO3od3",
        "colab": {
          "base_uri": "https://localhost:8080/",
          "height": 206
        },
        "outputId": "79cef7e0-3910-425a-f7e8-5eb9330afa11"
      },
      "execution_count": 245,
      "outputs": [
        {
          "output_type": "execute_result",
          "data": {
            "text/plain": [
              "   retail_price  price  percent_discount\n",
              "0             7   8.00        -14.285714\n",
              "1             7   8.00        -14.285714\n",
              "2            34   6.00         82.352941\n",
              "3             4   4.67        -16.750000\n",
              "4            11   8.00         27.272727"
            ],
            "text/html": [
              "\n",
              "  <div id=\"df-39d94b70-df08-45ae-9949-00b279d8e18e\">\n",
              "    <div class=\"colab-df-container\">\n",
              "      <div>\n",
              "<style scoped>\n",
              "    .dataframe tbody tr th:only-of-type {\n",
              "        vertical-align: middle;\n",
              "    }\n",
              "\n",
              "    .dataframe tbody tr th {\n",
              "        vertical-align: top;\n",
              "    }\n",
              "\n",
              "    .dataframe thead th {\n",
              "        text-align: right;\n",
              "    }\n",
              "</style>\n",
              "<table border=\"1\" class=\"dataframe\">\n",
              "  <thead>\n",
              "    <tr style=\"text-align: right;\">\n",
              "      <th></th>\n",
              "      <th>retail_price</th>\n",
              "      <th>price</th>\n",
              "      <th>percent_discount</th>\n",
              "    </tr>\n",
              "  </thead>\n",
              "  <tbody>\n",
              "    <tr>\n",
              "      <th>0</th>\n",
              "      <td>7</td>\n",
              "      <td>8.00</td>\n",
              "      <td>-14.285714</td>\n",
              "    </tr>\n",
              "    <tr>\n",
              "      <th>1</th>\n",
              "      <td>7</td>\n",
              "      <td>8.00</td>\n",
              "      <td>-14.285714</td>\n",
              "    </tr>\n",
              "    <tr>\n",
              "      <th>2</th>\n",
              "      <td>34</td>\n",
              "      <td>6.00</td>\n",
              "      <td>82.352941</td>\n",
              "    </tr>\n",
              "    <tr>\n",
              "      <th>3</th>\n",
              "      <td>4</td>\n",
              "      <td>4.67</td>\n",
              "      <td>-16.750000</td>\n",
              "    </tr>\n",
              "    <tr>\n",
              "      <th>4</th>\n",
              "      <td>11</td>\n",
              "      <td>8.00</td>\n",
              "      <td>27.272727</td>\n",
              "    </tr>\n",
              "  </tbody>\n",
              "</table>\n",
              "</div>\n",
              "      <button class=\"colab-df-convert\" onclick=\"convertToInteractive('df-39d94b70-df08-45ae-9949-00b279d8e18e')\"\n",
              "              title=\"Convert this dataframe to an interactive table.\"\n",
              "              style=\"display:none;\">\n",
              "        \n",
              "  <svg xmlns=\"http://www.w3.org/2000/svg\" height=\"24px\"viewBox=\"0 0 24 24\"\n",
              "       width=\"24px\">\n",
              "    <path d=\"M0 0h24v24H0V0z\" fill=\"none\"/>\n",
              "    <path d=\"M18.56 5.44l.94 2.06.94-2.06 2.06-.94-2.06-.94-.94-2.06-.94 2.06-2.06.94zm-11 1L8.5 8.5l.94-2.06 2.06-.94-2.06-.94L8.5 2.5l-.94 2.06-2.06.94zm10 10l.94 2.06.94-2.06 2.06-.94-2.06-.94-.94-2.06-.94 2.06-2.06.94z\"/><path d=\"M17.41 7.96l-1.37-1.37c-.4-.4-.92-.59-1.43-.59-.52 0-1.04.2-1.43.59L10.3 9.45l-7.72 7.72c-.78.78-.78 2.05 0 2.83L4 21.41c.39.39.9.59 1.41.59.51 0 1.02-.2 1.41-.59l7.78-7.78 2.81-2.81c.8-.78.8-2.07 0-2.86zM5.41 20L4 18.59l7.72-7.72 1.47 1.35L5.41 20z\"/>\n",
              "  </svg>\n",
              "      </button>\n",
              "      \n",
              "  <style>\n",
              "    .colab-df-container {\n",
              "      display:flex;\n",
              "      flex-wrap:wrap;\n",
              "      gap: 12px;\n",
              "    }\n",
              "\n",
              "    .colab-df-convert {\n",
              "      background-color: #E8F0FE;\n",
              "      border: none;\n",
              "      border-radius: 50%;\n",
              "      cursor: pointer;\n",
              "      display: none;\n",
              "      fill: #1967D2;\n",
              "      height: 32px;\n",
              "      padding: 0 0 0 0;\n",
              "      width: 32px;\n",
              "    }\n",
              "\n",
              "    .colab-df-convert:hover {\n",
              "      background-color: #E2EBFA;\n",
              "      box-shadow: 0px 1px 2px rgba(60, 64, 67, 0.3), 0px 1px 3px 1px rgba(60, 64, 67, 0.15);\n",
              "      fill: #174EA6;\n",
              "    }\n",
              "\n",
              "    [theme=dark] .colab-df-convert {\n",
              "      background-color: #3B4455;\n",
              "      fill: #D2E3FC;\n",
              "    }\n",
              "\n",
              "    [theme=dark] .colab-df-convert:hover {\n",
              "      background-color: #434B5C;\n",
              "      box-shadow: 0px 1px 3px 1px rgba(0, 0, 0, 0.15);\n",
              "      filter: drop-shadow(0px 1px 2px rgba(0, 0, 0, 0.3));\n",
              "      fill: #FFFFFF;\n",
              "    }\n",
              "  </style>\n",
              "\n",
              "      <script>\n",
              "        const buttonEl =\n",
              "          document.querySelector('#df-39d94b70-df08-45ae-9949-00b279d8e18e button.colab-df-convert');\n",
              "        buttonEl.style.display =\n",
              "          google.colab.kernel.accessAllowed ? 'block' : 'none';\n",
              "\n",
              "        async function convertToInteractive(key) {\n",
              "          const element = document.querySelector('#df-39d94b70-df08-45ae-9949-00b279d8e18e');\n",
              "          const dataTable =\n",
              "            await google.colab.kernel.invokeFunction('convertToInteractive',\n",
              "                                                     [key], {});\n",
              "          if (!dataTable) return;\n",
              "\n",
              "          const docLinkHtml = 'Like what you see? Visit the ' +\n",
              "            '<a target=\"_blank\" href=https://colab.research.google.com/notebooks/data_table.ipynb>data table notebook</a>'\n",
              "            + ' to learn more about interactive tables.';\n",
              "          element.innerHTML = '';\n",
              "          dataTable['output_type'] = 'display_data';\n",
              "          await google.colab.output.renderOutput(dataTable, element);\n",
              "          const docLink = document.createElement('div');\n",
              "          docLink.innerHTML = docLinkHtml;\n",
              "          element.appendChild(docLink);\n",
              "        }\n",
              "      </script>\n",
              "    </div>\n",
              "  </div>\n",
              "  "
            ]
          },
          "metadata": {},
          "execution_count": 245
        }
      ]
    },
    {
      "cell_type": "code",
      "source": [
        "#One-hot encoding\n",
        "df2 = pd.get_dummies(df2)"
      ],
      "metadata": {
        "id": "8zxd3Ffy3ofP"
      },
      "execution_count": 246,
      "outputs": []
    },
    {
      "cell_type": "code",
      "source": [
        "df2.info()"
      ],
      "metadata": {
        "id": "YDXNA2z83oh7",
        "colab": {
          "base_uri": "https://localhost:8080/"
        },
        "outputId": "03a95227-c783-4252-d279-f25f01afec2e"
      },
      "execution_count": 247,
      "outputs": [
        {
          "output_type": "stream",
          "name": "stdout",
          "text": [
            "<class 'pandas.core.frame.DataFrame'>\n",
            "Int64Index: 1093 entries, 0 to 1093\n",
            "Data columns (total 46 columns):\n",
            " #   Column                           Non-Null Count  Dtype  \n",
            "---  ------                           --------------  -----  \n",
            " 0   price                            1093 non-null   float64\n",
            " 1   retail_price                     1093 non-null   int64  \n",
            " 2   units_sold                       1093 non-null   int64  \n",
            " 3   uses_ad_boosts                   1093 non-null   int64  \n",
            " 4   rating                           1093 non-null   float64\n",
            " 5   rating_count                     1093 non-null   int64  \n",
            " 6   badges_count                     1093 non-null   int64  \n",
            " 7   badge_local_product              1093 non-null   int64  \n",
            " 8   badge_product_quality            1093 non-null   int64  \n",
            " 9   badge_fast_shipping              1093 non-null   int64  \n",
            " 10  product_variation_inventory      1093 non-null   int64  \n",
            " 11  shipping_option_price            1093 non-null   int64  \n",
            " 12  shipping_is_express              1093 non-null   int64  \n",
            " 13  countries_shipped_to             1093 non-null   int64  \n",
            " 14  inventory_total                  1093 non-null   int64  \n",
            " 15  has_urgency_banner               1093 non-null   float64\n",
            " 16  merchant_rating_count            1093 non-null   int64  \n",
            " 17  merchant_rating                  1093 non-null   float64\n",
            " 18  merchant_has_profile_picture     1093 non-null   int64  \n",
            " 19  percent_discount                 1093 non-null   float64\n",
            " 20  product_color_black              1093 non-null   uint8  \n",
            " 21  product_color_blue               1093 non-null   uint8  \n",
            " 22  product_color_brown              1093 non-null   uint8  \n",
            " 23  product_color_dual               1093 non-null   uint8  \n",
            " 24  product_color_green              1093 non-null   uint8  \n",
            " 25  product_color_grey               1093 non-null   uint8  \n",
            " 26  product_color_orange             1093 non-null   uint8  \n",
            " 27  product_color_other              1093 non-null   uint8  \n",
            " 28  product_color_pink               1093 non-null   uint8  \n",
            " 29  product_color_purple             1093 non-null   uint8  \n",
            " 30  product_color_red                1093 non-null   uint8  \n",
            " 31  product_color_white              1093 non-null   uint8  \n",
            " 32  product_color_yellow             1093 non-null   uint8  \n",
            " 33  product_variation_size_id_L      1093 non-null   uint8  \n",
            " 34  product_variation_size_id_M      1093 non-null   uint8  \n",
            " 35  product_variation_size_id_Other  1093 non-null   uint8  \n",
            " 36  product_variation_size_id_S      1093 non-null   uint8  \n",
            " 37  product_variation_size_id_XL     1093 non-null   uint8  \n",
            " 38  product_variation_size_id_XS     1093 non-null   uint8  \n",
            " 39  product_variation_size_id_XXL+   1093 non-null   uint8  \n",
            " 40  product_variation_size_id_XXS+   1093 non-null   uint8  \n",
            " 41  origin_country_CN                1093 non-null   uint8  \n",
            " 42  origin_country_GB                1093 non-null   uint8  \n",
            " 43  origin_country_SG                1093 non-null   uint8  \n",
            " 44  origin_country_US                1093 non-null   uint8  \n",
            " 45  origin_country_VE                1093 non-null   uint8  \n",
            "dtypes: float64(5), int64(15), uint8(26)\n",
            "memory usage: 207.1 KB\n"
          ]
        }
      ]
    },
    {
      "cell_type": "code",
      "source": [
        "df2.drop('product_variation_size_id_XL',axis='columns', inplace=True)\n"
      ],
      "metadata": {
        "id": "-ir06scbSK6X"
      },
      "execution_count": 248,
      "outputs": []
    },
    {
      "cell_type": "code",
      "source": [
        "Xtr2=df2.loc[:,df2.columns!='rating'] #defing the features of our train dataset\n",
        "Ytr2 = df2.rating #defing the lables and assigning them to Ytr"
      ],
      "metadata": {
        "id": "_yBFxJKI3oje"
      },
      "execution_count": 249,
      "outputs": []
    },
    {
      "cell_type": "code",
      "source": [
        "#Xtr2.product_color = pd.Categorical(Xtr2.product_color).codes #converting categorical colors into numeric values\n"
      ],
      "metadata": {
        "id": "xUTkBMIV3onD"
      },
      "execution_count": 250,
      "outputs": []
    },
    {
      "cell_type": "code",
      "source": [
        "from sklearn.preprocessing import StandardScaler #applying scaling to our data\n",
        "scaler = StandardScaler().fit(Xtr2)\n",
        "Xtr2= scaler.transform(Xtr2)"
      ],
      "metadata": {
        "id": "L9gDhhVx3op0"
      },
      "execution_count": 251,
      "outputs": []
    },
    {
      "cell_type": "code",
      "source": [
        "from sklearn import preprocessing\n",
        "\n",
        "\n",
        "scaler = preprocessing.Normalizer(norm='l2').fit(Xtr2)"
      ],
      "metadata": {
        "id": "_EBKq8PaLYgK"
      },
      "execution_count": 252,
      "outputs": []
    },
    {
      "cell_type": "code",
      "source": [
        "#Buildiing our Svm model\n",
        "from sklearn.svm import SVC   \n",
        "from sklearn.metrics import accuracy_score\n",
        "\n",
        "svm1 = SVC(kernel='rbf', gamma=0.001, C=10)\n",
        "svm1.fit(Xtr2,Ytr2)"
      ],
      "metadata": {
        "id": "Iy8klf3xLYhm",
        "colab": {
          "base_uri": "https://localhost:8080/",
          "height": 74
        },
        "outputId": "acc27c0a-643c-4057-8629-766b2df5dd91"
      },
      "execution_count": 253,
      "outputs": [
        {
          "output_type": "execute_result",
          "data": {
            "text/plain": [
              "SVC(C=10, gamma=0.001)"
            ],
            "text/html": [
              "<style>#sk-container-id-14 {color: black;background-color: white;}#sk-container-id-14 pre{padding: 0;}#sk-container-id-14 div.sk-toggleable {background-color: white;}#sk-container-id-14 label.sk-toggleable__label {cursor: pointer;display: block;width: 100%;margin-bottom: 0;padding: 0.3em;box-sizing: border-box;text-align: center;}#sk-container-id-14 label.sk-toggleable__label-arrow:before {content: \"▸\";float: left;margin-right: 0.25em;color: #696969;}#sk-container-id-14 label.sk-toggleable__label-arrow:hover:before {color: black;}#sk-container-id-14 div.sk-estimator:hover label.sk-toggleable__label-arrow:before {color: black;}#sk-container-id-14 div.sk-toggleable__content {max-height: 0;max-width: 0;overflow: hidden;text-align: left;background-color: #f0f8ff;}#sk-container-id-14 div.sk-toggleable__content pre {margin: 0.2em;color: black;border-radius: 0.25em;background-color: #f0f8ff;}#sk-container-id-14 input.sk-toggleable__control:checked~div.sk-toggleable__content {max-height: 200px;max-width: 100%;overflow: auto;}#sk-container-id-14 input.sk-toggleable__control:checked~label.sk-toggleable__label-arrow:before {content: \"▾\";}#sk-container-id-14 div.sk-estimator input.sk-toggleable__control:checked~label.sk-toggleable__label {background-color: #d4ebff;}#sk-container-id-14 div.sk-label input.sk-toggleable__control:checked~label.sk-toggleable__label {background-color: #d4ebff;}#sk-container-id-14 input.sk-hidden--visually {border: 0;clip: rect(1px 1px 1px 1px);clip: rect(1px, 1px, 1px, 1px);height: 1px;margin: -1px;overflow: hidden;padding: 0;position: absolute;width: 1px;}#sk-container-id-14 div.sk-estimator {font-family: monospace;background-color: #f0f8ff;border: 1px dotted black;border-radius: 0.25em;box-sizing: border-box;margin-bottom: 0.5em;}#sk-container-id-14 div.sk-estimator:hover {background-color: #d4ebff;}#sk-container-id-14 div.sk-parallel-item::after {content: \"\";width: 100%;border-bottom: 1px solid gray;flex-grow: 1;}#sk-container-id-14 div.sk-label:hover label.sk-toggleable__label {background-color: #d4ebff;}#sk-container-id-14 div.sk-serial::before {content: \"\";position: absolute;border-left: 1px solid gray;box-sizing: border-box;top: 0;bottom: 0;left: 50%;z-index: 0;}#sk-container-id-14 div.sk-serial {display: flex;flex-direction: column;align-items: center;background-color: white;padding-right: 0.2em;padding-left: 0.2em;position: relative;}#sk-container-id-14 div.sk-item {position: relative;z-index: 1;}#sk-container-id-14 div.sk-parallel {display: flex;align-items: stretch;justify-content: center;background-color: white;position: relative;}#sk-container-id-14 div.sk-item::before, #sk-container-id-14 div.sk-parallel-item::before {content: \"\";position: absolute;border-left: 1px solid gray;box-sizing: border-box;top: 0;bottom: 0;left: 50%;z-index: -1;}#sk-container-id-14 div.sk-parallel-item {display: flex;flex-direction: column;z-index: 1;position: relative;background-color: white;}#sk-container-id-14 div.sk-parallel-item:first-child::after {align-self: flex-end;width: 50%;}#sk-container-id-14 div.sk-parallel-item:last-child::after {align-self: flex-start;width: 50%;}#sk-container-id-14 div.sk-parallel-item:only-child::after {width: 0;}#sk-container-id-14 div.sk-dashed-wrapped {border: 1px dashed gray;margin: 0 0.4em 0.5em 0.4em;box-sizing: border-box;padding-bottom: 0.4em;background-color: white;}#sk-container-id-14 div.sk-label label {font-family: monospace;font-weight: bold;display: inline-block;line-height: 1.2em;}#sk-container-id-14 div.sk-label-container {text-align: center;}#sk-container-id-14 div.sk-container {/* jupyter's `normalize.less` sets `[hidden] { display: none; }` but bootstrap.min.css set `[hidden] { display: none !important; }` so we also need the `!important` here to be able to override the default hidden behavior on the sphinx rendered scikit-learn.org. See: https://github.com/scikit-learn/scikit-learn/issues/21755 */display: inline-block !important;position: relative;}#sk-container-id-14 div.sk-text-repr-fallback {display: none;}</style><div id=\"sk-container-id-14\" class=\"sk-top-container\"><div class=\"sk-text-repr-fallback\"><pre>SVC(C=10, gamma=0.001)</pre><b>In a Jupyter environment, please rerun this cell to show the HTML representation or trust the notebook. <br />On GitHub, the HTML representation is unable to render, please try loading this page with nbviewer.org.</b></div><div class=\"sk-container\" hidden><div class=\"sk-item\"><div class=\"sk-estimator sk-toggleable\"><input class=\"sk-toggleable__control sk-hidden--visually\" id=\"sk-estimator-id-20\" type=\"checkbox\" checked><label for=\"sk-estimator-id-20\" class=\"sk-toggleable__label sk-toggleable__label-arrow\">SVC</label><div class=\"sk-toggleable__content\"><pre>SVC(C=10, gamma=0.001)</pre></div></div></div></div></div>"
            ]
          },
          "metadata": {},
          "execution_count": 253
        }
      ]
    },
    {
      "cell_type": "code",
      "source": [
        "from sklearn.model_selection import GridSearchCV #importing GidSearchCv\n",
        "from sklearn import tree #importing tree \n",
        "from sklearn.tree import DecisionTreeClassifier #importing DecisionTreeClassifier\n",
        "#Using gridsearch to find the best parameters\n",
        "param_grid = {'criterion' :['gini', 'entropy'],\n",
        "              'max_depth' : [2,4,6,7,8,10,12,14,16]\n",
        "             }\n",
        "clf = DecisionTreeClassifier(random_state=1024)\n",
        "grid_search = GridSearchCV(estimator=clf, param_grid=param_grid, cv=9, verbose=True)\n",
        "grid_search.fit(Xtr2, Ytr2)"
      ],
      "metadata": {
        "id": "ldSwiW0JLYk9",
        "colab": {
          "base_uri": "https://localhost:8080/",
          "height": 224
        },
        "outputId": "70c7f329-b652-47d1-b951-64c34140f525"
      },
      "execution_count": 254,
      "outputs": [
        {
          "output_type": "stream",
          "name": "stdout",
          "text": [
            "Fitting 9 folds for each of 18 candidates, totalling 162 fits\n"
          ]
        },
        {
          "output_type": "stream",
          "name": "stderr",
          "text": [
            "/usr/local/lib/python3.9/dist-packages/sklearn/model_selection/_split.py:700: UserWarning:\n",
            "\n",
            "The least populated class in y has only 2 members, which is less than n_splits=9.\n",
            "\n"
          ]
        },
        {
          "output_type": "execute_result",
          "data": {
            "text/plain": [
              "GridSearchCV(cv=9, estimator=DecisionTreeClassifier(random_state=1024),\n",
              "             param_grid={'criterion': ['gini', 'entropy'],\n",
              "                         'max_depth': [2, 4, 6, 7, 8, 10, 12, 14, 16]},\n",
              "             verbose=True)"
            ],
            "text/html": [
              "<style>#sk-container-id-15 {color: black;background-color: white;}#sk-container-id-15 pre{padding: 0;}#sk-container-id-15 div.sk-toggleable {background-color: white;}#sk-container-id-15 label.sk-toggleable__label {cursor: pointer;display: block;width: 100%;margin-bottom: 0;padding: 0.3em;box-sizing: border-box;text-align: center;}#sk-container-id-15 label.sk-toggleable__label-arrow:before {content: \"▸\";float: left;margin-right: 0.25em;color: #696969;}#sk-container-id-15 label.sk-toggleable__label-arrow:hover:before {color: black;}#sk-container-id-15 div.sk-estimator:hover label.sk-toggleable__label-arrow:before {color: black;}#sk-container-id-15 div.sk-toggleable__content {max-height: 0;max-width: 0;overflow: hidden;text-align: left;background-color: #f0f8ff;}#sk-container-id-15 div.sk-toggleable__content pre {margin: 0.2em;color: black;border-radius: 0.25em;background-color: #f0f8ff;}#sk-container-id-15 input.sk-toggleable__control:checked~div.sk-toggleable__content {max-height: 200px;max-width: 100%;overflow: auto;}#sk-container-id-15 input.sk-toggleable__control:checked~label.sk-toggleable__label-arrow:before {content: \"▾\";}#sk-container-id-15 div.sk-estimator input.sk-toggleable__control:checked~label.sk-toggleable__label {background-color: #d4ebff;}#sk-container-id-15 div.sk-label input.sk-toggleable__control:checked~label.sk-toggleable__label {background-color: #d4ebff;}#sk-container-id-15 input.sk-hidden--visually {border: 0;clip: rect(1px 1px 1px 1px);clip: rect(1px, 1px, 1px, 1px);height: 1px;margin: -1px;overflow: hidden;padding: 0;position: absolute;width: 1px;}#sk-container-id-15 div.sk-estimator {font-family: monospace;background-color: #f0f8ff;border: 1px dotted black;border-radius: 0.25em;box-sizing: border-box;margin-bottom: 0.5em;}#sk-container-id-15 div.sk-estimator:hover {background-color: #d4ebff;}#sk-container-id-15 div.sk-parallel-item::after {content: \"\";width: 100%;border-bottom: 1px solid gray;flex-grow: 1;}#sk-container-id-15 div.sk-label:hover label.sk-toggleable__label {background-color: #d4ebff;}#sk-container-id-15 div.sk-serial::before {content: \"\";position: absolute;border-left: 1px solid gray;box-sizing: border-box;top: 0;bottom: 0;left: 50%;z-index: 0;}#sk-container-id-15 div.sk-serial {display: flex;flex-direction: column;align-items: center;background-color: white;padding-right: 0.2em;padding-left: 0.2em;position: relative;}#sk-container-id-15 div.sk-item {position: relative;z-index: 1;}#sk-container-id-15 div.sk-parallel {display: flex;align-items: stretch;justify-content: center;background-color: white;position: relative;}#sk-container-id-15 div.sk-item::before, #sk-container-id-15 div.sk-parallel-item::before {content: \"\";position: absolute;border-left: 1px solid gray;box-sizing: border-box;top: 0;bottom: 0;left: 50%;z-index: -1;}#sk-container-id-15 div.sk-parallel-item {display: flex;flex-direction: column;z-index: 1;position: relative;background-color: white;}#sk-container-id-15 div.sk-parallel-item:first-child::after {align-self: flex-end;width: 50%;}#sk-container-id-15 div.sk-parallel-item:last-child::after {align-self: flex-start;width: 50%;}#sk-container-id-15 div.sk-parallel-item:only-child::after {width: 0;}#sk-container-id-15 div.sk-dashed-wrapped {border: 1px dashed gray;margin: 0 0.4em 0.5em 0.4em;box-sizing: border-box;padding-bottom: 0.4em;background-color: white;}#sk-container-id-15 div.sk-label label {font-family: monospace;font-weight: bold;display: inline-block;line-height: 1.2em;}#sk-container-id-15 div.sk-label-container {text-align: center;}#sk-container-id-15 div.sk-container {/* jupyter's `normalize.less` sets `[hidden] { display: none; }` but bootstrap.min.css set `[hidden] { display: none !important; }` so we also need the `!important` here to be able to override the default hidden behavior on the sphinx rendered scikit-learn.org. See: https://github.com/scikit-learn/scikit-learn/issues/21755 */display: inline-block !important;position: relative;}#sk-container-id-15 div.sk-text-repr-fallback {display: none;}</style><div id=\"sk-container-id-15\" class=\"sk-top-container\"><div class=\"sk-text-repr-fallback\"><pre>GridSearchCV(cv=9, estimator=DecisionTreeClassifier(random_state=1024),\n",
              "             param_grid={&#x27;criterion&#x27;: [&#x27;gini&#x27;, &#x27;entropy&#x27;],\n",
              "                         &#x27;max_depth&#x27;: [2, 4, 6, 7, 8, 10, 12, 14, 16]},\n",
              "             verbose=True)</pre><b>In a Jupyter environment, please rerun this cell to show the HTML representation or trust the notebook. <br />On GitHub, the HTML representation is unable to render, please try loading this page with nbviewer.org.</b></div><div class=\"sk-container\" hidden><div class=\"sk-item sk-dashed-wrapped\"><div class=\"sk-label-container\"><div class=\"sk-label sk-toggleable\"><input class=\"sk-toggleable__control sk-hidden--visually\" id=\"sk-estimator-id-21\" type=\"checkbox\" ><label for=\"sk-estimator-id-21\" class=\"sk-toggleable__label sk-toggleable__label-arrow\">GridSearchCV</label><div class=\"sk-toggleable__content\"><pre>GridSearchCV(cv=9, estimator=DecisionTreeClassifier(random_state=1024),\n",
              "             param_grid={&#x27;criterion&#x27;: [&#x27;gini&#x27;, &#x27;entropy&#x27;],\n",
              "                         &#x27;max_depth&#x27;: [2, 4, 6, 7, 8, 10, 12, 14, 16]},\n",
              "             verbose=True)</pre></div></div></div><div class=\"sk-parallel\"><div class=\"sk-parallel-item\"><div class=\"sk-item\"><div class=\"sk-label-container\"><div class=\"sk-label sk-toggleable\"><input class=\"sk-toggleable__control sk-hidden--visually\" id=\"sk-estimator-id-22\" type=\"checkbox\" ><label for=\"sk-estimator-id-22\" class=\"sk-toggleable__label sk-toggleable__label-arrow\">estimator: DecisionTreeClassifier</label><div class=\"sk-toggleable__content\"><pre>DecisionTreeClassifier(random_state=1024)</pre></div></div></div><div class=\"sk-serial\"><div class=\"sk-item\"><div class=\"sk-estimator sk-toggleable\"><input class=\"sk-toggleable__control sk-hidden--visually\" id=\"sk-estimator-id-23\" type=\"checkbox\" ><label for=\"sk-estimator-id-23\" class=\"sk-toggleable__label sk-toggleable__label-arrow\">DecisionTreeClassifier</label><div class=\"sk-toggleable__content\"><pre>DecisionTreeClassifier(random_state=1024)</pre></div></div></div></div></div></div></div></div></div></div>"
            ]
          },
          "metadata": {},
          "execution_count": 254
        }
      ]
    },
    {
      "cell_type": "code",
      "source": [
        "print(grid_search.best_params_, '\\n' , grid_search.best_estimator_, '\\n The best score is :', grid_search.best_score_)\n"
      ],
      "metadata": {
        "id": "88PBeih1LYnz",
        "colab": {
          "base_uri": "https://localhost:8080/"
        },
        "outputId": "bed0d54b-67d7-4fab-cf70-18d9d10d4d1d"
      },
      "execution_count": 255,
      "outputs": [
        {
          "output_type": "stream",
          "name": "stdout",
          "text": [
            "{'criterion': 'gini', 'max_depth': 4} \n",
            " DecisionTreeClassifier(max_depth=4, random_state=1024) \n",
            " The best score is : 0.7804046425506932\n"
          ]
        }
      ]
    },
    {
      "cell_type": "code",
      "source": [
        "#Building a decison tree model using these parameters\n",
        "clf1 = DecisionTreeClassifier(criterion=\"entropy\", max_depth=6, random_state=1024)\n",
        "clf1.fit(Xtr2,Ytr2) #Fitting the model with our samples of the train dataset"
      ],
      "metadata": {
        "id": "298z-uhAL0Vs",
        "colab": {
          "base_uri": "https://localhost:8080/",
          "height": 74
        },
        "outputId": "1c9874a1-aa73-45ed-b5c2-7794a996d2eb"
      },
      "execution_count": 256,
      "outputs": [
        {
          "output_type": "execute_result",
          "data": {
            "text/plain": [
              "DecisionTreeClassifier(criterion='entropy', max_depth=6, random_state=1024)"
            ],
            "text/html": [
              "<style>#sk-container-id-16 {color: black;background-color: white;}#sk-container-id-16 pre{padding: 0;}#sk-container-id-16 div.sk-toggleable {background-color: white;}#sk-container-id-16 label.sk-toggleable__label {cursor: pointer;display: block;width: 100%;margin-bottom: 0;padding: 0.3em;box-sizing: border-box;text-align: center;}#sk-container-id-16 label.sk-toggleable__label-arrow:before {content: \"▸\";float: left;margin-right: 0.25em;color: #696969;}#sk-container-id-16 label.sk-toggleable__label-arrow:hover:before {color: black;}#sk-container-id-16 div.sk-estimator:hover label.sk-toggleable__label-arrow:before {color: black;}#sk-container-id-16 div.sk-toggleable__content {max-height: 0;max-width: 0;overflow: hidden;text-align: left;background-color: #f0f8ff;}#sk-container-id-16 div.sk-toggleable__content pre {margin: 0.2em;color: black;border-radius: 0.25em;background-color: #f0f8ff;}#sk-container-id-16 input.sk-toggleable__control:checked~div.sk-toggleable__content {max-height: 200px;max-width: 100%;overflow: auto;}#sk-container-id-16 input.sk-toggleable__control:checked~label.sk-toggleable__label-arrow:before {content: \"▾\";}#sk-container-id-16 div.sk-estimator input.sk-toggleable__control:checked~label.sk-toggleable__label {background-color: #d4ebff;}#sk-container-id-16 div.sk-label input.sk-toggleable__control:checked~label.sk-toggleable__label {background-color: #d4ebff;}#sk-container-id-16 input.sk-hidden--visually {border: 0;clip: rect(1px 1px 1px 1px);clip: rect(1px, 1px, 1px, 1px);height: 1px;margin: -1px;overflow: hidden;padding: 0;position: absolute;width: 1px;}#sk-container-id-16 div.sk-estimator {font-family: monospace;background-color: #f0f8ff;border: 1px dotted black;border-radius: 0.25em;box-sizing: border-box;margin-bottom: 0.5em;}#sk-container-id-16 div.sk-estimator:hover {background-color: #d4ebff;}#sk-container-id-16 div.sk-parallel-item::after {content: \"\";width: 100%;border-bottom: 1px solid gray;flex-grow: 1;}#sk-container-id-16 div.sk-label:hover label.sk-toggleable__label {background-color: #d4ebff;}#sk-container-id-16 div.sk-serial::before {content: \"\";position: absolute;border-left: 1px solid gray;box-sizing: border-box;top: 0;bottom: 0;left: 50%;z-index: 0;}#sk-container-id-16 div.sk-serial {display: flex;flex-direction: column;align-items: center;background-color: white;padding-right: 0.2em;padding-left: 0.2em;position: relative;}#sk-container-id-16 div.sk-item {position: relative;z-index: 1;}#sk-container-id-16 div.sk-parallel {display: flex;align-items: stretch;justify-content: center;background-color: white;position: relative;}#sk-container-id-16 div.sk-item::before, #sk-container-id-16 div.sk-parallel-item::before {content: \"\";position: absolute;border-left: 1px solid gray;box-sizing: border-box;top: 0;bottom: 0;left: 50%;z-index: -1;}#sk-container-id-16 div.sk-parallel-item {display: flex;flex-direction: column;z-index: 1;position: relative;background-color: white;}#sk-container-id-16 div.sk-parallel-item:first-child::after {align-self: flex-end;width: 50%;}#sk-container-id-16 div.sk-parallel-item:last-child::after {align-self: flex-start;width: 50%;}#sk-container-id-16 div.sk-parallel-item:only-child::after {width: 0;}#sk-container-id-16 div.sk-dashed-wrapped {border: 1px dashed gray;margin: 0 0.4em 0.5em 0.4em;box-sizing: border-box;padding-bottom: 0.4em;background-color: white;}#sk-container-id-16 div.sk-label label {font-family: monospace;font-weight: bold;display: inline-block;line-height: 1.2em;}#sk-container-id-16 div.sk-label-container {text-align: center;}#sk-container-id-16 div.sk-container {/* jupyter's `normalize.less` sets `[hidden] { display: none; }` but bootstrap.min.css set `[hidden] { display: none !important; }` so we also need the `!important` here to be able to override the default hidden behavior on the sphinx rendered scikit-learn.org. See: https://github.com/scikit-learn/scikit-learn/issues/21755 */display: inline-block !important;position: relative;}#sk-container-id-16 div.sk-text-repr-fallback {display: none;}</style><div id=\"sk-container-id-16\" class=\"sk-top-container\"><div class=\"sk-text-repr-fallback\"><pre>DecisionTreeClassifier(criterion=&#x27;entropy&#x27;, max_depth=6, random_state=1024)</pre><b>In a Jupyter environment, please rerun this cell to show the HTML representation or trust the notebook. <br />On GitHub, the HTML representation is unable to render, please try loading this page with nbviewer.org.</b></div><div class=\"sk-container\" hidden><div class=\"sk-item\"><div class=\"sk-estimator sk-toggleable\"><input class=\"sk-toggleable__control sk-hidden--visually\" id=\"sk-estimator-id-24\" type=\"checkbox\" checked><label for=\"sk-estimator-id-24\" class=\"sk-toggleable__label sk-toggleable__label-arrow\">DecisionTreeClassifier</label><div class=\"sk-toggleable__content\"><pre>DecisionTreeClassifier(criterion=&#x27;entropy&#x27;, max_depth=6, random_state=1024)</pre></div></div></div></div></div>"
            ]
          },
          "metadata": {},
          "execution_count": 256
        }
      ]
    },
    {
      "cell_type": "markdown",
      "source": [
        "**test data trail 2**"
      ],
      "metadata": {
        "id": "9KY_0aqPPbZL"
      }
    },
    {
      "cell_type": "code",
      "source": [
        "#Readinf our test dataset\n",
        "df22 = pd.read_csv('/content/test_new.csv')"
      ],
      "metadata": {
        "id": "sIXPp-HCL0Xc"
      },
      "execution_count": 257,
      "outputs": []
    },
    {
      "cell_type": "code",
      "source": [
        "#Assigning id coluns to _id\n",
        "_id= df1['id']"
      ],
      "metadata": {
        "id": "0rNTLT-PL0at"
      },
      "execution_count": 258,
      "outputs": []
    },
    {
      "cell_type": "code",
      "source": [
        "#df22.info()"
      ],
      "metadata": {
        "id": "aHML5oElPl9a"
      },
      "execution_count": 259,
      "outputs": []
    },
    {
      "cell_type": "code",
      "source": [
        "#Dropping unnecessary columns \n",
        "df22.drop('tags',axis='columns', inplace=True)\n",
        "df22.drop('shipping_option_name',axis='columns', inplace=True)\n",
        "df22.drop('merchant_title',axis='columns', inplace=True)\n",
        "df22.drop('merchant_name',axis='columns', inplace=True)\n",
        "df22.drop('merchant_info_subtitle',axis='columns', inplace=True)\n",
        "df22.drop('merchant_profile_picture',axis='columns', inplace=True)\n",
        "df22.drop('urgency_text',axis='columns', inplace=True)\n",
        "df22.drop('currency_buyer',axis='columns', inplace=True)\n",
        "df22.drop('merchant_id',axis='columns',inplace=True)\n",
        "df22.drop('crawl_month',axis='columns', inplace=True)\n",
        "df22.drop('theme',axis='columns', inplace=True)\n",
        "df22.drop('id',axis='columns', inplace=True)"
      ],
      "metadata": {
        "id": "_A64LOzLL0dp"
      },
      "execution_count": 260,
      "outputs": []
    },
    {
      "cell_type": "code",
      "source": [
        "#Filling the missing valus with the most frequent value\n",
        "df22.loc[:, 'origin_country']=subset_df_data.fillna('CN')"
      ],
      "metadata": {
        "id": "nJOq73U4NUP_"
      },
      "execution_count": 261,
      "outputs": []
    },
    {
      "cell_type": "code",
      "source": [
        "#Filling the missing values with zeros\n",
        "df22.loc[:,'has_urgency_banner']=df22.loc[:,'has_urgency_banner'].fillna(0)"
      ],
      "metadata": {
        "id": "QlKzWPnKNUZv"
      },
      "execution_count": 262,
      "outputs": []
    },
    {
      "cell_type": "code",
      "source": [
        "#Handling Size column\n",
        "df22['product_variation_size_id'].replace(['S', 'S.', 's', 'Size S', 'Size-S', 'Size S.', 'Suit-S', 'size S','S Pink', 'pants-S', 'US-S', 'SIZE S', 'S (waist58-62cm)', 'Size--S', '25-S', 'Size/S', 'S Diameter 30cm', 'S..', 'S(Pink & Black)'], 'S', inplace=True)\n",
        "df22['product_variation_size_id'].replace(['XS', 'XS.', 'SIZE XS', 'Size-XS'], 'XS', inplace=True)\n",
        "df22['product_variation_size_id'].replace(['XXS', 'XXXS', 'SIZE-XXS', 'Size -XXS', 'Size XXS', 'Size-XXS', 'SIZE XXS'], 'XXS+', inplace=True)\n",
        "df22['product_variation_size_id'].replace(['M', 'M.', 'Size M'], 'M', inplace=True)\n",
        "df22['product_variation_size_id'].replace(['L', 'SizeL', '32/L', 'L.', 'Size-L'], 'L', inplace=True)\n",
        "df22['product_variation_size_id'].replace(['XL', '2XL', '1 PC - XL', 'X   L'], 'XL', inplace=True)\n",
        "df22['product_variation_size_id'].replace(['XXL', '4XL', '2XL', 'Size4XL', '3XL', 'XXXXXL', '1 PC - XL', 'SIZE-4XL', '04-3XL', 'Size-5XL', 'XXXXL', '5XL', 'XXXL'], 'XXL+', inplace=True)\n",
        "size_val_counts = df1['product_variation_size_id'].value_counts()\n",
        "# Select the values where the count is less than 5 \n",
        "minority = size_val_counts[size_val_counts <= 5].index\n",
        "df22.loc[df22['product_variation_size_id'].isin(minority), 'product_variation_size_id'] = \"Other\"\n",
        "df22['product_variation_size_id'] = df22['product_variation_size_id'].replace(np.nan, \"Other\")"
      ],
      "metadata": {
        "id": "ZuNFSZZFNUbQ"
      },
      "execution_count": 263,
      "outputs": []
    },
    {
      "cell_type": "code",
      "source": [
        "df22['product_color'] = df22['product_color'].str.lower()\n",
        "# remove trailing white spaces\n",
        "df22['product_color'] = df22['product_color'].str.strip()"
      ],
      "metadata": {
        "id": "mCUWaxmsNUfS"
      },
      "execution_count": 264,
      "outputs": []
    },
    {
      "cell_type": "code",
      "source": [
        "df22['product_color'] = df22.product_color.apply(switch)\n"
      ],
      "metadata": {
        "id": "zOGpYaJuOFJQ"
      },
      "execution_count": 265,
      "outputs": []
    },
    {
      "cell_type": "code",
      "source": [
        "#Creating discount feature\n",
        "df22['percent_discount'] = (df22['retail_price'] - df22['price']) / df1['retail_price'] * 100\n",
        "df22[['retail_price', 'price', 'percent_discount']].head()"
      ],
      "metadata": {
        "id": "63o2Swa4OFK1",
        "colab": {
          "base_uri": "https://localhost:8080/",
          "height": 206
        },
        "outputId": "458c6db3-7daf-4dec-aa29-67514c9379e6"
      },
      "execution_count": 266,
      "outputs": [
        {
          "output_type": "execute_result",
          "data": {
            "text/plain": [
              "   retail_price  price  percent_discount\n",
              "0             5   5.75        -15.000000\n",
              "1             7   7.00          0.000000\n",
              "2            16   5.00         68.750000\n",
              "3            27  18.00         33.333333\n",
              "4            81  12.00         85.185185"
            ],
            "text/html": [
              "\n",
              "  <div id=\"df-f8994afd-7e37-4466-8395-f8f49f218756\">\n",
              "    <div class=\"colab-df-container\">\n",
              "      <div>\n",
              "<style scoped>\n",
              "    .dataframe tbody tr th:only-of-type {\n",
              "        vertical-align: middle;\n",
              "    }\n",
              "\n",
              "    .dataframe tbody tr th {\n",
              "        vertical-align: top;\n",
              "    }\n",
              "\n",
              "    .dataframe thead th {\n",
              "        text-align: right;\n",
              "    }\n",
              "</style>\n",
              "<table border=\"1\" class=\"dataframe\">\n",
              "  <thead>\n",
              "    <tr style=\"text-align: right;\">\n",
              "      <th></th>\n",
              "      <th>retail_price</th>\n",
              "      <th>price</th>\n",
              "      <th>percent_discount</th>\n",
              "    </tr>\n",
              "  </thead>\n",
              "  <tbody>\n",
              "    <tr>\n",
              "      <th>0</th>\n",
              "      <td>5</td>\n",
              "      <td>5.75</td>\n",
              "      <td>-15.000000</td>\n",
              "    </tr>\n",
              "    <tr>\n",
              "      <th>1</th>\n",
              "      <td>7</td>\n",
              "      <td>7.00</td>\n",
              "      <td>0.000000</td>\n",
              "    </tr>\n",
              "    <tr>\n",
              "      <th>2</th>\n",
              "      <td>16</td>\n",
              "      <td>5.00</td>\n",
              "      <td>68.750000</td>\n",
              "    </tr>\n",
              "    <tr>\n",
              "      <th>3</th>\n",
              "      <td>27</td>\n",
              "      <td>18.00</td>\n",
              "      <td>33.333333</td>\n",
              "    </tr>\n",
              "    <tr>\n",
              "      <th>4</th>\n",
              "      <td>81</td>\n",
              "      <td>12.00</td>\n",
              "      <td>85.185185</td>\n",
              "    </tr>\n",
              "  </tbody>\n",
              "</table>\n",
              "</div>\n",
              "      <button class=\"colab-df-convert\" onclick=\"convertToInteractive('df-f8994afd-7e37-4466-8395-f8f49f218756')\"\n",
              "              title=\"Convert this dataframe to an interactive table.\"\n",
              "              style=\"display:none;\">\n",
              "        \n",
              "  <svg xmlns=\"http://www.w3.org/2000/svg\" height=\"24px\"viewBox=\"0 0 24 24\"\n",
              "       width=\"24px\">\n",
              "    <path d=\"M0 0h24v24H0V0z\" fill=\"none\"/>\n",
              "    <path d=\"M18.56 5.44l.94 2.06.94-2.06 2.06-.94-2.06-.94-.94-2.06-.94 2.06-2.06.94zm-11 1L8.5 8.5l.94-2.06 2.06-.94-2.06-.94L8.5 2.5l-.94 2.06-2.06.94zm10 10l.94 2.06.94-2.06 2.06-.94-2.06-.94-.94-2.06-.94 2.06-2.06.94z\"/><path d=\"M17.41 7.96l-1.37-1.37c-.4-.4-.92-.59-1.43-.59-.52 0-1.04.2-1.43.59L10.3 9.45l-7.72 7.72c-.78.78-.78 2.05 0 2.83L4 21.41c.39.39.9.59 1.41.59.51 0 1.02-.2 1.41-.59l7.78-7.78 2.81-2.81c.8-.78.8-2.07 0-2.86zM5.41 20L4 18.59l7.72-7.72 1.47 1.35L5.41 20z\"/>\n",
              "  </svg>\n",
              "      </button>\n",
              "      \n",
              "  <style>\n",
              "    .colab-df-container {\n",
              "      display:flex;\n",
              "      flex-wrap:wrap;\n",
              "      gap: 12px;\n",
              "    }\n",
              "\n",
              "    .colab-df-convert {\n",
              "      background-color: #E8F0FE;\n",
              "      border: none;\n",
              "      border-radius: 50%;\n",
              "      cursor: pointer;\n",
              "      display: none;\n",
              "      fill: #1967D2;\n",
              "      height: 32px;\n",
              "      padding: 0 0 0 0;\n",
              "      width: 32px;\n",
              "    }\n",
              "\n",
              "    .colab-df-convert:hover {\n",
              "      background-color: #E2EBFA;\n",
              "      box-shadow: 0px 1px 2px rgba(60, 64, 67, 0.3), 0px 1px 3px 1px rgba(60, 64, 67, 0.15);\n",
              "      fill: #174EA6;\n",
              "    }\n",
              "\n",
              "    [theme=dark] .colab-df-convert {\n",
              "      background-color: #3B4455;\n",
              "      fill: #D2E3FC;\n",
              "    }\n",
              "\n",
              "    [theme=dark] .colab-df-convert:hover {\n",
              "      background-color: #434B5C;\n",
              "      box-shadow: 0px 1px 3px 1px rgba(0, 0, 0, 0.15);\n",
              "      filter: drop-shadow(0px 1px 2px rgba(0, 0, 0, 0.3));\n",
              "      fill: #FFFFFF;\n",
              "    }\n",
              "  </style>\n",
              "\n",
              "      <script>\n",
              "        const buttonEl =\n",
              "          document.querySelector('#df-f8994afd-7e37-4466-8395-f8f49f218756 button.colab-df-convert');\n",
              "        buttonEl.style.display =\n",
              "          google.colab.kernel.accessAllowed ? 'block' : 'none';\n",
              "\n",
              "        async function convertToInteractive(key) {\n",
              "          const element = document.querySelector('#df-f8994afd-7e37-4466-8395-f8f49f218756');\n",
              "          const dataTable =\n",
              "            await google.colab.kernel.invokeFunction('convertToInteractive',\n",
              "                                                     [key], {});\n",
              "          if (!dataTable) return;\n",
              "\n",
              "          const docLinkHtml = 'Like what you see? Visit the ' +\n",
              "            '<a target=\"_blank\" href=https://colab.research.google.com/notebooks/data_table.ipynb>data table notebook</a>'\n",
              "            + ' to learn more about interactive tables.';\n",
              "          element.innerHTML = '';\n",
              "          dataTable['output_type'] = 'display_data';\n",
              "          await google.colab.output.renderOutput(dataTable, element);\n",
              "          const docLink = document.createElement('div');\n",
              "          docLink.innerHTML = docLinkHtml;\n",
              "          element.appendChild(docLink);\n",
              "        }\n",
              "      </script>\n",
              "    </div>\n",
              "  </div>\n",
              "  "
            ]
          },
          "metadata": {},
          "execution_count": 266
        }
      ]
    },
    {
      "cell_type": "code",
      "source": [
        "#Applying one_hot encoding\n",
        "df22_= pd.get_dummies(df22)"
      ],
      "metadata": {
        "id": "QtK9wVe1OFOU"
      },
      "execution_count": 267,
      "outputs": []
    },
    {
      "cell_type": "code",
      "source": [
        "df22_.info()"
      ],
      "metadata": {
        "id": "1ix_uUsoQF-N",
        "colab": {
          "base_uri": "https://localhost:8080/"
        },
        "outputId": "2b4515e4-92a9-4e47-9d58-c11207f05593"
      },
      "execution_count": 268,
      "outputs": [
        {
          "output_type": "stream",
          "name": "stdout",
          "text": [
            "<class 'pandas.core.frame.DataFrame'>\n",
            "RangeIndex: 479 entries, 0 to 478\n",
            "Data columns (total 44 columns):\n",
            " #   Column                           Non-Null Count  Dtype  \n",
            "---  ------                           --------------  -----  \n",
            " 0   price                            479 non-null    float64\n",
            " 1   retail_price                     479 non-null    int64  \n",
            " 2   units_sold                       479 non-null    int64  \n",
            " 3   uses_ad_boosts                   479 non-null    int64  \n",
            " 4   rating_count                     479 non-null    int64  \n",
            " 5   badges_count                     479 non-null    int64  \n",
            " 6   badge_local_product              479 non-null    int64  \n",
            " 7   badge_product_quality            479 non-null    int64  \n",
            " 8   badge_fast_shipping              479 non-null    int64  \n",
            " 9   product_variation_inventory      479 non-null    int64  \n",
            " 10  shipping_option_price            479 non-null    int64  \n",
            " 11  shipping_is_express              479 non-null    int64  \n",
            " 12  countries_shipped_to             479 non-null    int64  \n",
            " 13  inventory_total                  479 non-null    int64  \n",
            " 14  has_urgency_banner               479 non-null    float64\n",
            " 15  merchant_rating_count            479 non-null    int64  \n",
            " 16  merchant_rating                  479 non-null    float64\n",
            " 17  merchant_has_profile_picture     479 non-null    int64  \n",
            " 18  percent_discount                 479 non-null    float64\n",
            " 19  product_color_black              479 non-null    uint8  \n",
            " 20  product_color_blue               479 non-null    uint8  \n",
            " 21  product_color_brown              479 non-null    uint8  \n",
            " 22  product_color_dual               479 non-null    uint8  \n",
            " 23  product_color_green              479 non-null    uint8  \n",
            " 24  product_color_grey               479 non-null    uint8  \n",
            " 25  product_color_orange             479 non-null    uint8  \n",
            " 26  product_color_other              479 non-null    uint8  \n",
            " 27  product_color_pink               479 non-null    uint8  \n",
            " 28  product_color_purple             479 non-null    uint8  \n",
            " 29  product_color_red                479 non-null    uint8  \n",
            " 30  product_color_white              479 non-null    uint8  \n",
            " 31  product_color_yellow             479 non-null    uint8  \n",
            " 32  product_variation_size_id_L      479 non-null    uint8  \n",
            " 33  product_variation_size_id_M      479 non-null    uint8  \n",
            " 34  product_variation_size_id_Other  479 non-null    uint8  \n",
            " 35  product_variation_size_id_S      479 non-null    uint8  \n",
            " 36  product_variation_size_id_XS     479 non-null    uint8  \n",
            " 37  product_variation_size_id_XXL+   479 non-null    uint8  \n",
            " 38  product_variation_size_id_XXS+   479 non-null    uint8  \n",
            " 39  origin_country_CN                479 non-null    uint8  \n",
            " 40  origin_country_GB                479 non-null    uint8  \n",
            " 41  origin_country_SG                479 non-null    uint8  \n",
            " 42  origin_country_US                479 non-null    uint8  \n",
            " 43  origin_country_VE                479 non-null    uint8  \n",
            "dtypes: float64(4), int64(15), uint8(25)\n",
            "memory usage: 82.9 KB\n"
          ]
        }
      ]
    },
    {
      "cell_type": "code",
      "source": [
        "#Defining our features in our test dataset\n",
        "Xt_2=df22_.loc[:]"
      ],
      "metadata": {
        "id": "1zOTQz-wOFRQ"
      },
      "execution_count": 269,
      "outputs": []
    },
    {
      "cell_type": "code",
      "source": [
        "#Converting from categorical to numeric\n",
        "#Xt_2.product_color = pd.Categorical(Xt_2.product_color).codes"
      ],
      "metadata": {
        "id": "mGxroMl6OqX-"
      },
      "execution_count": 270,
      "outputs": []
    },
    {
      "cell_type": "code",
      "source": [
        "#Applying scaling\n",
        "scaler = StandardScaler().fit(Xt_2)\n",
        "Xt_2 = scaler.transform(Xt_2)"
      ],
      "metadata": {
        "id": "TsOPYuCIOqZm"
      },
      "execution_count": 271,
      "outputs": []
    },
    {
      "cell_type": "code",
      "source": [
        "from sklearn import preprocessing\n",
        "import numpy as np\n",
        "\n",
        "\n",
        "scaler = preprocessing.Normalizer(norm='l2').fit(Xt_2)"
      ],
      "metadata": {
        "id": "AZYaKerDOqdL"
      },
      "execution_count": 272,
      "outputs": []
    },
    {
      "cell_type": "code",
      "source": [
        "#Perdicting\n",
        "prediction_svm_t2= svm1.predict(Xt_2)\n",
        "print(prediction_svm_t2)"
      ],
      "metadata": {
        "id": "I0UHrsK8Oqgm",
        "colab": {
          "base_uri": "https://localhost:8080/"
        },
        "outputId": "5105e7b2-f6d0-4796-cccb-7514a239b591"
      },
      "execution_count": 273,
      "outputs": [
        {
          "output_type": "stream",
          "name": "stdout",
          "text": [
            "[4. 4. 4. 4. 4. 4. 4. 4. 4. 4. 4. 4. 4. 4. 4. 4. 4. 4. 4. 4. 4. 4. 4. 4.\n",
            " 4. 4. 4. 5. 4. 4. 4. 4. 4. 4. 4. 4. 4. 4. 4. 4. 5. 4. 4. 4. 4. 4. 4. 4.\n",
            " 4. 4. 4. 4. 4. 4. 4. 4. 4. 4. 4. 4. 5. 4. 4. 4. 4. 4. 4. 4. 4. 4. 4. 4.\n",
            " 4. 4. 4. 4. 4. 4. 4. 4. 4. 4. 4. 4. 4. 4. 4. 4. 4. 5. 4. 4. 4. 4. 4. 4.\n",
            " 4. 4. 4. 4. 4. 4. 4. 4. 4. 4. 4. 4. 4. 4. 4. 4. 4. 5. 4. 4. 4. 4. 4. 4.\n",
            " 4. 4. 4. 4. 4. 4. 4. 4. 4. 4. 4. 4. 4. 4. 4. 4. 4. 4. 5. 4. 4. 4. 4. 5.\n",
            " 5. 4. 4. 4. 4. 4. 4. 4. 4. 4. 4. 4. 4. 4. 4. 4. 4. 4. 4. 4. 4. 4. 4. 4.\n",
            " 4. 5. 4. 4. 5. 4. 4. 4. 4. 4. 4. 4. 4. 4. 4. 4. 4. 4. 4. 4. 4. 4. 4. 4.\n",
            " 4. 4. 4. 4. 4. 4. 4. 4. 4. 5. 4. 4. 4. 4. 4. 4. 4. 4. 4. 4. 4. 4. 5. 4.\n",
            " 4. 4. 4. 4. 4. 4. 4. 4. 4. 4. 4. 4. 5. 4. 4. 4. 4. 4. 4. 4. 4. 4. 4. 4.\n",
            " 4. 4. 4. 4. 4. 4. 4. 4. 4. 4. 4. 4. 4. 4. 4. 4. 4. 2. 4. 4. 4. 4. 4. 4.\n",
            " 4. 4. 4. 4. 4. 4. 4. 4. 4. 4. 4. 4. 4. 4. 4. 4. 4. 4. 4. 4. 4. 5. 4. 4.\n",
            " 4. 4. 4. 4. 4. 4. 4. 4. 4. 4. 4. 4. 4. 4. 4. 4. 4. 5. 4. 4. 4. 4. 4. 4.\n",
            " 4. 4. 4. 4. 4. 4. 4. 4. 4. 4. 4. 4. 4. 4. 5. 4. 4. 4. 4. 4. 4. 4. 4. 4.\n",
            " 4. 4. 4. 5. 4. 4. 4. 4. 4. 4. 4. 4. 4. 4. 4. 4. 4. 4. 4. 4. 4. 4. 5. 4.\n",
            " 4. 4. 4. 4. 4. 4. 4. 4. 4. 4. 4. 4. 4. 4. 4. 4. 4. 4. 4. 4. 4. 4. 4. 4.\n",
            " 4. 4. 4. 4. 4. 4. 4. 4. 4. 4. 4. 4. 4. 4. 4. 4. 4. 4. 4. 4. 5. 4. 4. 4.\n",
            " 4. 4. 4. 4. 4. 4. 4. 4. 4. 4. 4. 4. 5. 4. 4. 4. 4. 4. 2. 4. 4. 4. 4. 4.\n",
            " 4. 4. 4. 4. 4. 4. 5. 5. 4. 4. 4. 4. 4. 4. 4. 4. 4. 4. 4. 4. 4. 4. 4. 4.\n",
            " 4. 4. 4. 4. 4. 4. 4. 4. 4. 4. 4. 4. 4. 4. 4. 4. 5. 4. 4. 4. 4. 4. 4.]\n"
          ]
        }
      ]
    },
    {
      "cell_type": "code",
      "source": [
        "pred_df = pd.DataFrame(data={'id': _id, 'rating': prediction_svm_t2})\n",
        "\n",
        "pred_df.to_csv('prediction_svm_t2.csv', index=False)"
      ],
      "metadata": {
        "id": "paIyRi_pHcrj"
      },
      "execution_count": 274,
      "outputs": []
    },
    {
      "cell_type": "code",
      "source": [
        "#Perdicting\n",
        "prediction_dt_t2= clf1.predict(Xt_2)\n",
        "print(prediction_dt_t2)"
      ],
      "metadata": {
        "id": "QCHyE5sVHc2S",
        "colab": {
          "base_uri": "https://localhost:8080/"
        },
        "outputId": "ced39ab4-5daa-4128-8bb9-cc2f681e89ef"
      },
      "execution_count": 275,
      "outputs": [
        {
          "output_type": "stream",
          "name": "stdout",
          "text": [
            "[3. 4. 4. 4. 4. 4. 4. 4. 4. 4. 4. 4. 4. 4. 4. 4. 4. 4. 4. 4. 4. 4. 4. 4.\n",
            " 4. 4. 4. 5. 4. 4. 4. 4. 4. 4. 4. 4. 4. 4. 4. 4. 5. 4. 4. 4. 4. 4. 4. 4.\n",
            " 4. 4. 4. 4. 4. 4. 4. 4. 4. 4. 4. 4. 4. 4. 4. 4. 4. 4. 4. 4. 4. 4. 4. 4.\n",
            " 4. 4. 4. 4. 4. 4. 4. 4. 4. 5. 4. 4. 4. 4. 4. 4. 4. 5. 4. 4. 5. 4. 4. 4.\n",
            " 4. 4. 4. 4. 4. 4. 4. 4. 4. 4. 5. 4. 4. 4. 4. 4. 4. 4. 4. 4. 4. 4. 5. 4.\n",
            " 4. 4. 4. 4. 4. 4. 4. 4. 4. 4. 4. 4. 4. 4. 4. 4. 4. 4. 4. 4. 5. 4. 5. 4.\n",
            " 4. 4. 4. 4. 4. 4. 4. 4. 4. 4. 4. 4. 4. 4. 4. 4. 4. 4. 4. 4. 4. 4. 4. 4.\n",
            " 4. 4. 4. 4. 4. 4. 4. 4. 4. 4. 4. 4. 4. 4. 4. 4. 4. 4. 4. 4. 4. 4. 4. 4.\n",
            " 4. 4. 4. 5. 4. 4. 4. 4. 4. 5. 4. 4. 4. 4. 4. 5. 4. 5. 4. 5. 4. 4. 4. 4.\n",
            " 4. 4. 4. 4. 4. 5. 5. 4. 4. 4. 4. 4. 5. 4. 4. 4. 4. 4. 4. 4. 4. 4. 4. 4.\n",
            " 4. 4. 4. 4. 4. 4. 4. 4. 4. 4. 4. 4. 4. 4. 4. 4. 4. 4. 4. 4. 4. 4. 4. 4.\n",
            " 4. 4. 4. 4. 4. 4. 4. 4. 5. 4. 4. 4. 4. 4. 4. 4. 4. 4. 4. 4. 4. 5. 4. 4.\n",
            " 4. 4. 4. 4. 4. 4. 4. 4. 4. 4. 4. 4. 4. 4. 4. 4. 4. 4. 3. 4. 4. 4. 4. 4.\n",
            " 4. 4. 4. 4. 4. 4. 4. 4. 3. 4. 4. 4. 4. 4. 5. 4. 3. 5. 4. 4. 4. 4. 4. 4.\n",
            " 4. 4. 4. 5. 4. 4. 4. 4. 4. 4. 4. 4. 4. 4. 4. 4. 4. 4. 4. 4. 4. 4. 4. 4.\n",
            " 4. 4. 4. 4. 4. 4. 4. 4. 5. 5. 4. 4. 4. 4. 4. 4. 4. 4. 4. 4. 4. 4. 4. 4.\n",
            " 4. 4. 4. 4. 4. 4. 4. 4. 4. 4. 4. 5. 4. 4. 4. 4. 3. 4. 4. 4. 5. 4. 4. 4.\n",
            " 4. 4. 4. 4. 5. 4. 4. 5. 4. 4. 4. 4. 5. 4. 4. 4. 4. 4. 4. 4. 4. 4. 4. 4.\n",
            " 4. 4. 4. 4. 4. 4. 5. 5. 4. 4. 4. 4. 4. 4. 4. 4. 4. 4. 4. 4. 4. 4. 4. 4.\n",
            " 4. 4. 4. 4. 4. 4. 4. 4. 4. 4. 4. 4. 4. 4. 4. 4. 5. 4. 4. 4. 5. 4. 4.]\n"
          ]
        }
      ]
    },
    {
      "cell_type": "code",
      "source": [
        "pred_df = pd.DataFrame(data={'id': _id, 'rating': prediction_dt_t2})\n",
        "\n",
        "pred_df.to_csv('prediction_dt_t2.csv', index=False)"
      ],
      "metadata": {
        "id": "eM2WvmBXHc3k"
      },
      "execution_count": 276,
      "outputs": []
    },
    {
      "cell_type": "code",
      "source": [],
      "metadata": {
        "id": "G8h2oO49Hc7C"
      },
      "execution_count": 276,
      "outputs": []
    },
    {
      "cell_type": "code",
      "source": [],
      "metadata": {
        "id": "EB3ev8f5Hc9s"
      },
      "execution_count": 276,
      "outputs": []
    }
  ]
}